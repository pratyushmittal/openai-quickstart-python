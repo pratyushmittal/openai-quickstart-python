{
 "cells": [
  {
   "cell_type": "code",
   "execution_count": 1,
   "metadata": {},
   "outputs": [],
   "source": [
    "%matplotlib inline"
   ]
  },
  {
   "cell_type": "markdown",
   "metadata": {},
   "source": [
    "\n",
    "# Topic extraction with Non-negative Matrix Factorization and Latent Dirichlet Allocation\n",
    "\n",
    "This is an example of applying :class:`~sklearn.decomposition.NMF` and\n",
    ":class:`~sklearn.decomposition.LatentDirichletAllocation` on a corpus\n",
    "of documents and extract additive models of the topic structure of the\n",
    "corpus.  The output is a plot of topics, each represented as bar plot\n",
    "using top few words based on weights.\n",
    "\n",
    "Non-negative Matrix Factorization is applied with two different objective\n",
    "functions: the Frobenius norm, and the generalized Kullback-Leibler divergence.\n",
    "The latter is equivalent to Probabilistic Latent Semantic Indexing.\n",
    "\n",
    "The default parameters (n_samples / n_features / n_components) should make\n",
    "the example runnable in a couple of tens of seconds. You can try to\n",
    "increase the dimensions of the problem, but be aware that the time\n",
    "complexity is polynomial in NMF. In LDA, the time complexity is\n",
    "proportional to (n_samples * iterations).\n"
   ]
  },
  {
   "cell_type": "code",
   "execution_count": 2,
   "metadata": {},
   "outputs": [
    {
     "name": "stdout",
     "output_type": "stream",
     "text": [
      "Loading dataset...\n",
      "done in 0.786s.\n"
     ]
    }
   ],
   "source": [
    "from time import time\n",
    "from sklearn.datasets import fetch_20newsgroups\n",
    "\n",
    "n_samples = 2000\n",
    "\n",
    "# Load the 20 newsgroups dataset and vectorize it. We use a few heuristics\n",
    "# to filter out useless terms early on: the posts are stripped of headers,\n",
    "# footers and quoted replies\n",
    "\n",
    "print(\"Loading dataset...\")\n",
    "t0 = time()\n",
    "bunch = fetch_20newsgroups(\n",
    "    shuffle=True,\n",
    "    random_state=1,\n",
    "    remove=(\"headers\", \"footers\", \"quotes\"),\n",
    ")\n",
    "\n",
    "data_samples = bunch.data[:n_samples]\n",
    "print(\"done in %0.3fs.\" % (time() - t0))"
   ]
  },
  {
   "cell_type": "code",
   "execution_count": 3,
   "metadata": {},
   "outputs": [
    {
     "data": {
      "text/plain": [
       "\"Well i'm not sure about the story nad it did seem biased. What\\nI disagree with is your statement that the U.S. Media is out to\\nruin Israels reputation. That is rediculous. The U.S. media is\\nthe most pro-israeli media in the world. Having lived in Europe\\nI realize that incidences such as the one described in the\\nletter have occured. The U.S. media as a whole seem to try to\\nignore them. The U.S. is subsidizing Israels existance and the\\nEuropeans are not (at least not to the same degree). So I think\\nthat might be a reason they report more clearly on the\\natrocities.\\n\\tWhat is a shame is that in Austria, daily reports of\\nthe inhuman acts commited by Israeli soldiers and the blessing\\nreceived from the Government makes some of the Holocaust guilt\\ngo away. After all, look how the Jews are treating other races\\nwhen they got power. It is unfortunate.\\n\""
      ]
     },
     "execution_count": 3,
     "metadata": {},
     "output_type": "execute_result"
    }
   ],
   "source": [
    "data_samples\n",
    "data_samples[0]"
   ]
  },
  {
   "cell_type": "code",
   "execution_count": 4,
   "metadata": {},
   "outputs": [
    {
     "data": {
      "text/plain": [
       "['alt.atheism',\n",
       " 'comp.graphics',\n",
       " 'comp.os.ms-windows.misc',\n",
       " 'comp.sys.ibm.pc.hardware',\n",
       " 'comp.sys.mac.hardware',\n",
       " 'comp.windows.x',\n",
       " 'misc.forsale',\n",
       " 'rec.autos',\n",
       " 'rec.motorcycles',\n",
       " 'rec.sport.baseball',\n",
       " 'rec.sport.hockey',\n",
       " 'sci.crypt',\n",
       " 'sci.electronics',\n",
       " 'sci.med',\n",
       " 'sci.space',\n",
       " 'soc.religion.christian',\n",
       " 'talk.politics.guns',\n",
       " 'talk.politics.mideast',\n",
       " 'talk.politics.misc',\n",
       " 'talk.religion.misc']"
      ]
     },
     "execution_count": 4,
     "metadata": {},
     "output_type": "execute_result"
    }
   ],
   "source": [
    "bunch.target_names"
   ]
  },
  {
   "cell_type": "code",
   "execution_count": 5,
   "metadata": {},
   "outputs": [
    {
     "data": {
      "text/plain": [
       "array([17,  0, 17, ...,  3, 15,  9])"
      ]
     },
     "execution_count": 5,
     "metadata": {},
     "output_type": "execute_result"
    }
   ],
   "source": [
    "labels_samples = bunch.target[:n_samples]\n",
    "labels_samples"
   ]
  },
  {
   "cell_type": "markdown",
   "metadata": {},
   "source": [
    "## Understanding vectorization\n",
    "\n",
    "Following tutorial from https://scikit-learn.org/stable/modules/feature_extraction.html#text-feature-extraction"
   ]
  },
  {
   "cell_type": "code",
   "execution_count": 6,
   "metadata": {},
   "outputs": [
    {
     "data": {
      "text/plain": [
       "CountVectorizer()"
      ]
     },
     "execution_count": 6,
     "metadata": {},
     "output_type": "execute_result"
    }
   ],
   "source": [
    "# playing with countvector\n",
    "from sklearn.feature_extraction.text import CountVectorizer\n",
    "\n",
    "vectorizer = CountVectorizer()\n",
    "vectorizer"
   ]
  },
  {
   "cell_type": "code",
   "execution_count": 7,
   "metadata": {},
   "outputs": [
    {
     "data": {
      "text/plain": [
       "<4x9 sparse matrix of type '<class 'numpy.int64'>'\n",
       "\twith 19 stored elements in Compressed Sparse Row format>"
      ]
     },
     "execution_count": 7,
     "metadata": {},
     "output_type": "execute_result"
    }
   ],
   "source": [
    "corpus = [\n",
    "     'This is the first document.',\n",
    "     'This is the second second document.',\n",
    "     'And the third one.',\n",
    "     'Is this the first document?',\n",
    "]\n",
    "\n",
    "X = vectorizer.fit_transform(corpus)\n",
    "X"
   ]
  },
  {
   "cell_type": "code",
   "execution_count": 8,
   "metadata": {},
   "outputs": [
    {
     "data": {
      "text/plain": [
       "array(['and', 'document', 'first', 'is', 'one', 'second', 'the', 'third',\n",
       "       'this'], dtype=object)"
      ]
     },
     "execution_count": 8,
     "metadata": {},
     "output_type": "execute_result"
    }
   ],
   "source": [
    "# the vectorizer has tokenized all the words (vocabullary)\n",
    "\n",
    "# this will show the actual names\n",
    "vectorizer.get_feature_names_out()"
   ]
  },
  {
   "cell_type": "code",
   "execution_count": 9,
   "metadata": {},
   "outputs": [
    {
     "data": {
      "text/plain": [
       "array([[0, 1, 1, 1, 0, 0, 1, 0, 1],\n",
       "       [0, 1, 0, 1, 0, 2, 1, 0, 1],\n",
       "       [1, 0, 0, 0, 1, 0, 1, 1, 0],\n",
       "       [0, 1, 1, 1, 0, 0, 1, 0, 1]])"
      ]
     },
     "execution_count": 9,
     "metadata": {},
     "output_type": "execute_result"
    }
   ],
   "source": [
    "# the X represents presence of each word in each document\n",
    "# We passed 4 documents, therefore X has 4 rows\n",
    "# each row contains 9 elements because there are 9 total words\n",
    "# the value 0,1,2 show the count of number of times that word is present in that document\n",
    "X.toarray()\n",
    "\n",
    "# in first document:\n",
    "# and is present 0 times, document is present 1 time, first is present 1 time"
   ]
  },
  {
   "cell_type": "code",
   "execution_count": 10,
   "metadata": {},
   "outputs": [],
   "source": [
    "# we created a vocabulary of individual words in the above\n",
    "# it ignored relative positions of the words\n",
    "#\n",
    "# we can create a vocabulary of phrases as well by using n_grams\n",
    "# for example, an n_gram of 2 will create a dictionary of all\n",
    "# individual words as well as all 2 consecutive words"
   ]
  },
  {
   "cell_type": "code",
   "execution_count": 11,
   "metadata": {},
   "outputs": [],
   "source": [
    "# we didn't use stop words in the above"
   ]
  },
  {
   "cell_type": "markdown",
   "metadata": {},
   "source": [
    "### Understanding tf-idf\n",
    "\n",
    "Based on readings and examples from https://scikit-learn.org/stable/modules/feature_extraction.html#tfidf-term-weighting"
   ]
  },
  {
   "cell_type": "code",
   "execution_count": 12,
   "metadata": {},
   "outputs": [],
   "source": [
    "# we used the above vectorisation strategy to convert a raw text\n",
    "# into a matrix of numbers\n",
    "# each row in the matrix represents the document row.\n",
    "#\n",
    "# each row has equal number of elements\n",
    "# the number of elements is the dictionary of all words\n",
    "# the number in each row represents the count of number of times the dictionary word is used in document\n",
    "#\n",
    "# now we can use this matrix of numbers (bag-of-words) to do further analysis\n",
    "#\n",
    "# tf-idf is a method to give weighted information for each term in each document\n",
    "# we use tfidf-transformer to convert the count matrix into weight matrix\n",
    "#\n",
    "# this transformation from count matrix -> to weighted matrix is done using formula:\n",
    "# term weight = term-frequency * 1 / uniqueness of term\n",
    "# i.e. terms-weight is directly proportional to its frequency\n",
    "# but inversely proportional to how frequently it is found in OTHER documents\n",
    "# this final term-weight is a value between 0 to 1."
   ]
  },
  {
   "cell_type": "code",
   "execution_count": 13,
   "metadata": {},
   "outputs": [
    {
     "data": {
      "text/plain": [
       "TfidfTransformer()"
      ]
     },
     "execution_count": 13,
     "metadata": {},
     "output_type": "execute_result"
    }
   ],
   "source": [
    "from sklearn.feature_extraction.text import TfidfTransformer\n",
    "\n",
    "transformer = TfidfTransformer()\n",
    "transformer"
   ]
  },
  {
   "cell_type": "code",
   "execution_count": 14,
   "metadata": {},
   "outputs": [
    {
     "data": {
      "text/plain": [
       "array([[0.        , 0.43877674, 0.54197657, 0.43877674, 0.        ,\n",
       "        0.        , 0.35872874, 0.        , 0.43877674],\n",
       "       [0.        , 0.27230147, 0.        , 0.27230147, 0.        ,\n",
       "        0.85322574, 0.22262429, 0.        , 0.27230147],\n",
       "       [0.55280532, 0.        , 0.        , 0.        , 0.55280532,\n",
       "        0.        , 0.28847675, 0.55280532, 0.        ],\n",
       "       [0.        , 0.43877674, 0.54197657, 0.43877674, 0.        ,\n",
       "        0.        , 0.35872874, 0.        , 0.43877674]])"
      ]
     },
     "execution_count": 14,
     "metadata": {},
     "output_type": "execute_result"
    }
   ],
   "source": [
    "# convert X bag-of-words into weighted average\n",
    "tfidf = transformer.fit_transform(X)\n",
    "tfidf.toarray()"
   ]
  },
  {
   "cell_type": "code",
   "execution_count": 15,
   "metadata": {},
   "outputs": [
    {
     "data": {
      "text/plain": [
       "array([[0.        , 0.43877674, 0.54197657, 0.43877674, 0.        ,\n",
       "        0.        , 0.35872874, 0.        , 0.43877674],\n",
       "       [0.        , 0.27230147, 0.        , 0.27230147, 0.        ,\n",
       "        0.85322574, 0.22262429, 0.        , 0.27230147],\n",
       "       [0.55280532, 0.        , 0.        , 0.        , 0.55280532,\n",
       "        0.        , 0.28847675, 0.55280532, 0.        ],\n",
       "       [0.        , 0.43877674, 0.54197657, 0.43877674, 0.        ,\n",
       "        0.        , 0.35872874, 0.        , 0.43877674]])"
      ]
     },
     "execution_count": 15,
     "metadata": {},
     "output_type": "execute_result"
    }
   ],
   "source": [
    "from sklearn.feature_extraction.text import TfidfVectorizer\n",
    "\n",
    "tfidf_vectorizer = TfidfVectorizer()\n",
    "X = tfidf_vectorizer.fit_transform(corpus)\n",
    "X.toarray()"
   ]
  },
  {
   "cell_type": "code",
   "execution_count": 17,
   "metadata": {},
   "outputs": [
    {
     "data": {
      "text/plain": [
       "array(['and', 'document', 'first', 'is', 'one', 'second', 'the', 'third',\n",
       "       'this'], dtype=object)"
      ]
     },
     "execution_count": 17,
     "metadata": {},
     "output_type": "execute_result"
    }
   ],
   "source": [
    "tfidf_vectorizer.get_feature_names_out()"
   ]
  },
  {
   "cell_type": "code",
   "execution_count": 18,
   "metadata": {},
   "outputs": [
    {
     "name": "stdout",
     "output_type": "stream",
     "text": [
      "done in 0.006194s\n",
      "Explained variance of the SVD step: 64%\n",
      "samples, features = (4, 2)\n"
     ]
    }
   ],
   "source": [
    "# reduce number of features (dimensions) using SVD (latent semantic analysis)\n",
    "\n",
    "from sklearn.decomposition import TruncatedSVD\n",
    "from sklearn.preprocessing import Normalizer\n",
    "from sklearn.pipeline import make_pipeline\n",
    "\n",
    "t0 = time()\n",
    "# Vectorizer results are normalized, which makes KMeans behave as\n",
    "# spherical k-means for better results. Since LSA/SVD results are\n",
    "# not normalized, we have to redo the normalization.\n",
    "svd = TruncatedSVD()\n",
    "normalizer = Normalizer(copy=False)\n",
    "lsa = make_pipeline(svd, normalizer)\n",
    "\n",
    "X = lsa.fit_transform(X)\n",
    "\n",
    "print(\"done in %fs\" % (time() - t0))\n",
    "\n",
    "explained_variance = svd.explained_variance_ratio_.sum()\n",
    "print(\n",
    "    \"Explained variance of the SVD step: {}%\".format(int(explained_variance * 100))\n",
    ")\n",
    "\n",
    "print('samples, features =', X.shape)"
   ]
  },
  {
   "cell_type": "code",
   "execution_count": 19,
   "metadata": {},
   "outputs": [
    {
     "data": {
      "text/plain": [
       "array([[ 0.99733498, -0.07295848],\n",
       "       [ 0.99457648, -0.10400781],\n",
       "       [ 0.18342269,  0.98303414],\n",
       "       [ 0.99733498, -0.07295848]])"
      ]
     },
     "execution_count": 19,
     "metadata": {},
     "output_type": "execute_result"
    }
   ],
   "source": [
    "X"
   ]
  },
  {
   "cell_type": "markdown",
   "metadata": {},
   "source": [
    "## Trying topic extraction on announcements"
   ]
  },
  {
   "cell_type": "markdown",
   "metadata": {},
   "source": [
    "Generating dump\n",
    "\n",
    "```python\n",
    "from announcements.models import BseAnnouncement\n",
    "import datetime as dt\n",
    "\n",
    "announcements = (\n",
    "    BseAnnouncement.objects.filter(date__gt=dt.date.today() - dt.timedelta(days=365))\n",
    "    .values('company_code__name', 'date', 'subject', 'headline', 'more', 'category')\n",
    ")\n",
    "print(len(announcements))\n",
    "\n",
    "import json\n",
    "from django.core.serializers.json import DjangoJSONEncoder\n",
    "qs_json = json.dumps(list(announcements), indent=4, sort_keys=True, cls=DjangoJSONEncoder)\n",
    "\n",
    "with open('/home/ubuntu/anns.json', 'w') as f:\n",
    "    f.write(qs_json)\n",
    "```"
   ]
  },
  {
   "cell_type": "code",
   "execution_count": 21,
   "metadata": {},
   "outputs": [
    {
     "data": {
      "text/plain": [
       "[{'category': 'Corp. Action',\n",
       "  'company_code__name': 'Allcargo Logistics Ltd',\n",
       "  'date': '2021-03-16T07:31:56',\n",
       "  'headline': 'Allcargo Logistics Ltd has informed BSE that the Directors at their Board Meeting held on March 15, 2021, inter alia, approved and declared an Interim Dividend of Rs. 2/- (100%) per equity share of face value of Rs. 2/- each for the financial year 2020-2021. The Interim Dividend will be paid/dispatched to all equity shareholders of the Company on or after March 24, 2021.',\n",
       "  'more': '',\n",
       "  'subject': 'Board declares Interim Dividend'},\n",
       " {'category': 'Corp. Action',\n",
       "  'company_code__name': 'Infosys Ltd',\n",
       "  'date': '2021-03-16T07:29:22',\n",
       "  'headline': 'Infosys Ltd has informed BSE that a meeting of the Board of Directors of the Company will be held on April 13 & 14, 2021, inter alia to:<BR><BR>1. Approval and take on record the audited consolidated financial results of the Company and its subsidiaries as per Indian Accounting Standards (INDAS) for the quarter and year ending March 31, 2021.<BR><BR>2. Approve and take on record the audited standalone financial results of the Company as per INDAS for the quarter and year ending March 31, 2021. ....',\n",
       "  'more': 'Infosys Ltd has informed BSE that a meeting of the Board of Directors of the Company will be held on April 13 & 14, 2021, inter alia to:<BR><BR>1. Approval and take on record the audited consolidated financial results of the Company and its subsidiaries as per Indian Accounting Standards (INDAS) for the quarter and year ending March 31, 2021.<BR><BR>2. Approve and take on record the audited standalone financial results of the Company as per INDAS for the quarter and year ending March 31, 2021.<BR><BR>3. Approve and take on record the audited financial statements of the Company and its subsidiaries as per INDAS and IFRS for the quarter and year ending March 31, 2021.<BR><BR>4. Approve and take on record the audited financial statements of the Company and its subsidiaries as per INDAS for the year ending March 31, 2021.<BR><BR>5. Approve and take on record the audited financial statements of the Company as per INDAS for the year ending March 31, 2021<BR><BR>6. Recommend a final dividend for the financial year ending March 31, 2021.<BR><BR>The financial results will be presented to the Board of Directors on April 14, 2021 for their approval.<BR><BR>- Trading window closure<BR><BR>The Company will close the trading window for the earnings release of the quarter and year ending March 31, 2021 in compliance with SEBI (Prohibition of Insider Trading) Regulations, 2015, as amended. Accordingly, the trading window will be closed from March 16, 2021 and will re-open on April 19, 2021.<BR><BR>- Investors call<BR><BR>The Company will hold investor/ analyst calls on April 14, 2021 to discuss the financial results for the quarter and year ending March 31, 2021 and business outlook. Details of the calls will be published on the Company’s website in due course.',\n",
       "  'subject': 'Board to consider FY21 results & Final Dividend on April 13 & 14, 2021'},\n",
       " {'category': 'Insider Trading / SAST',\n",
       "  'company_code__name': 'Vedanta Ltd',\n",
       "  'date': '2021-03-16T08:22:10',\n",
       "  'headline': 'The Exchange has received Disclosure under Regulation 31(1) and 31(2) of SEBI (Substantial Acquisition of Shares & Takeovers) Regulations, 2011 on March 15, 2021 for Finsider International Company Ltd, Westglobe Ltd, Welter Trading Ltd, Twin Star Holdings Ltd & Vedanta Holdings Mauritius II Ltd',\n",
       "  'more': '',\n",
       "  'subject': 'Disclosures under Reg. 31(1) and 31(2) of SEBI (SAST) Regulations, 2011.'}]"
      ]
     },
     "execution_count": 21,
     "metadata": {},
     "output_type": "execute_result"
    }
   ],
   "source": [
    "import json\n",
    "import gzip\n",
    "\n",
    "with gzip.open('anns.json.gz') as f: \n",
    "    announcements = json.load(f)\n",
    "announcements[:3]"
   ]
  },
  {
   "cell_type": "code",
   "execution_count": 22,
   "metadata": {},
   "outputs": [
    {
     "data": {
      "text/plain": [
       "['Board declares Interim Dividend\\n\\nAllcargo Logistics Ltd has informed BSE that the Directors at their Board Meeting held on March 15, 2021, inter alia, approved and declared an Interim Dividend of Rs. 2/- (100%) per equity share of face value of Rs. 2/- each for the financial year 2020-2021. The Interim Dividend will be paid/dispatched to all equity shareholders of the Company on or after March 24, 2021.',\n",
       " 'Board to consider FY21 results & Final Dividend on April 13 & 14, 2021\\n\\nInfosys Ltd has informed BSE that a meeting of the Board of Directors of the Company will be held on April 13 & 14, 2021, inter alia to:<BR><BR>1. Approval and take on record the audited consolidated financial results of the Company and its subsidiaries as per Indian Accounting Standards (INDAS) for the quarter and year ending March 31, 2021.<BR><BR>2. Approve and take on record the audited standalone financial results of the Company as per INDAS for the quarter and year ending March 31, 2021.<BR><BR>3. Approve and take on record the audited financial statements of the Company and its subsidiaries as per INDAS and IFRS for the quarter and year ending March 31, 2021.<BR><BR>4. Approve and take on record the audited financial statements of the Company and its subsidiaries as per INDAS for the year ending March 31, 2021.<BR><BR>5. Approve and take on record the audited financial statements of the Company as per INDAS for the year ending March 31, 2021<BR><BR>6. Recommend a final dividend for the financial year ending March 31, 2021.<BR><BR>The financial results will be presented to the Board of Directors on April 14, 2021 for their approval.<BR><BR>- Trading window closure<BR><BR>The Company will close the trading window for the earnings release of the quarter and year ending March 31, 2021 in compliance with SEBI (Prohibition of Insider Trading) Regulations, 2015, as amended. Accordingly, the trading window will be closed from March 16, 2021 and will re-open on April 19, 2021.<BR><BR>- Investors call<BR><BR>The Company will hold investor/ analyst calls on April 14, 2021 to discuss the financial results for the quarter and year ending March 31, 2021 and business outlook. Details of the calls will be published on the Company’s website in due course.',\n",
       " 'Disclosures under Reg. 31(1) and 31(2) of SEBI (SAST) Regulations, 2011.\\n\\nThe Exchange has received Disclosure under Regulation 31(1) and 31(2) of SEBI (Substantial Acquisition of Shares & Takeovers) Regulations, 2011 on March 15, 2021 for Finsider International Company Ltd, Westglobe Ltd, Welter Trading Ltd, Twin Star Holdings Ltd & Vedanta Holdings Mauritius II Ltd']"
      ]
     },
     "execution_count": 22,
     "metadata": {},
     "output_type": "execute_result"
    }
   ],
   "source": [
    "def _get_ann_content(ann):\n",
    "    headline = ann['headline'] if len(ann['headline']) > len(ann['more']) else ann['more']\n",
    "    return f\"{ann['subject']}\\n\\n{headline}\"\n",
    "\n",
    "data_raw = [_get_ann_content(ann) for ann in announcements]\n",
    "data_raw[:3]"
   ]
  },
  {
   "cell_type": "code",
   "execution_count": 25,
   "metadata": {},
   "outputs": [],
   "source": [
    "import lxml.html\n",
    "import re\n",
    "\n",
    "replacements = {\n",
    "    # lodr\n",
    "    'listing obligations and disclosure requirements': 'lodr',\n",
    "    '(lodr)': 'lodr',\n",
    "    'regulations, 2015': 'regulations 2015',\n",
    "    'sebi lodr regulations 2015': 'lodr',\n",
    "    'regulation 30': '',\n",
    "    # sebi\n",
    "    'Securities And Exchange Board Of India': 'sebi',\n",
    "    'Substantial Acquisition of Shares & Takeovers': 'sast',\n",
    "    'Insider Trading Prohibition Code': 'itpc',\n",
    "    # egm\n",
    "    'Extra - Ordinary': 'extra ordinary',\n",
    "    'extra ordinary': 'extraordinary',\n",
    "    'extraordinary general meeting': 'egm',\n",
    "    'annual general meeting': 'agm',\n",
    "}\n",
    "\n",
    "re_replacements = {re.compile(re.escape(k), re.IGNORECASE): v for k,v in replacements.items()}\n",
    "\n",
    "def _clean_doc(text):\n",
    "    if not text:\n",
    "        return ''\n",
    "\n",
    "    # remove html tags\n",
    "    text = lxml.html.fromstring(text).text_content()\n",
    "\n",
    "    # handle abbreviations\n",
    "    for phrase, replacement in re_replacements.items():\n",
    "        text = phrase.sub(replacement, text)\n",
    "    return text"
   ]
  },
  {
   "cell_type": "code",
   "execution_count": 26,
   "metadata": {},
   "outputs": [
    {
     "name": "stdout",
     "output_type": "stream",
     "text": [
      "time taken 14.263225s\n"
     ]
    },
    {
     "data": {
      "text/plain": [
       "['Board declares Interim Dividend\\n\\nAllcargo Logistics Ltd has informed BSE that the Directors at their Board Meeting held on March 15, 2021, inter alia, approved and declared an Interim Dividend of Rs. 2/- (100%) per equity share of face value of Rs. 2/- each for the financial year 2020-2021. The Interim Dividend will be paid/dispatched to all equity shareholders of the Company on or after March 24, 2021.',\n",
       " 'Board to consider FY21 results & Final Dividend on April 13 & 14, 2021\\n\\nInfosys Ltd has informed BSE that a meeting of the Board of Directors of the Company will be held on April 13 & 14, 2021, inter alia to:1. Approval and take on record the audited consolidated financial results of the Company and its subsidiaries as per Indian Accounting Standards (INDAS) for the quarter and year ending March 31, 2021.2. Approve and take on record the audited standalone financial results of the Company as per INDAS for the quarter and year ending March 31, 2021.3. Approve and take on record the audited financial statements of the Company and its subsidiaries as per INDAS and IFRS for the quarter and year ending March 31, 2021.4. Approve and take on record the audited financial statements of the Company and its subsidiaries as per INDAS for the year ending March 31, 2021.5. Approve and take on record the audited financial statements of the Company as per INDAS for the year ending March 31, 20216. Recommend a final dividend for the financial year ending March 31, 2021.The financial results will be presented to the Board of Directors on April 14, 2021 for their approval.- Trading window closureThe Company will close the trading window for the earnings release of the quarter and year ending March 31, 2021 in compliance with SEBI (Prohibition of Insider Trading) regulations 2015, as amended. Accordingly, the trading window will be closed from March 16, 2021 and will re-open on April 19, 2021.- Investors callThe Company will hold investor/ analyst calls on April 14, 2021 to discuss the financial results for the quarter and year ending March 31, 2021 and business outlook. Details of the calls will be published on the Company’s website in due course.',\n",
       " 'Disclosures under Reg. 31(1) and 31(2) of SEBI (SAST) Regulations, 2011.\\n\\nThe Exchange has received Disclosure under Regulation 31(1) and 31(2) of SEBI (sast) Regulations, 2011 on March 15, 2021 for Finsider International Company Ltd, Westglobe Ltd, Welter Trading Ltd, Twin Star Holdings Ltd & Vedanta Holdings Mauritius II Ltd']"
      ]
     },
     "execution_count": 26,
     "metadata": {},
     "output_type": "execute_result"
    }
   ],
   "source": [
    "t0 = time()\n",
    "data_clean = [_clean_doc(row) for row in data_raw]\n",
    "print('time taken %fs' % (time() - t0))\n",
    "\n",
    "data = data_clean\n",
    "data[:3]"
   ]
  },
  {
   "cell_type": "markdown",
   "metadata": {},
   "source": [
    "## Define some good defaults"
   ]
  },
  {
   "cell_type": "code",
   "execution_count": 27,
   "metadata": {},
   "outputs": [],
   "source": [
    "from nltk.corpus import stopwords\n",
    "\n",
    "stop_words = stopwords.words('english')"
   ]
  },
  {
   "cell_type": "markdown",
   "metadata": {},
   "source": [
    "## Find most common phrases"
   ]
  },
  {
   "cell_type": "code",
   "execution_count": 24,
   "metadata": {},
   "outputs": [
    {
     "name": "stdout",
     "output_type": "stream",
     "text": [
      "time taken 13.065678s\n"
     ]
    }
   ],
   "source": [
    "from sklearn.feature_extraction.text import CountVectorizer\n",
    "\n",
    "t0 = time()\n",
    "count_vectorizer = CountVectorizer(max_df=.5, min_df=50, ngram_range=(2, 3), stop_words=stop_words)\n",
    "X = count_vectorizer.fit_transform(data)\n",
    "\n",
    "print('time taken %fs' % (time() - t0))"
   ]
  },
  {
   "cell_type": "code",
   "execution_count": 25,
   "metadata": {},
   "outputs": [
    {
     "name": "stdout",
     "output_type": "stream",
     "text": [
      "shape (288726, 29421)\n"
     ]
    }
   ],
   "source": [
    "print('shape', X.shape)"
   ]
  },
  {
   "cell_type": "code",
   "execution_count": 26,
   "metadata": {},
   "outputs": [
    {
     "data": {
      "text/plain": [
       "matrix([[ 598,  511, 1664, ...,  153,  153,   51]])"
      ]
     },
     "execution_count": 26,
     "metadata": {},
     "output_type": "execute_result"
    }
   ],
   "source": [
    "count_phrases = X.sum(axis=0)\n",
    "count_phrases"
   ]
  },
  {
   "cell_type": "code",
   "execution_count": 27,
   "metadata": {},
   "outputs": [],
   "source": [
    "phrase_freq = [(phrase, count_phrases[0, idx]) for phrase, idx in count_vectorizer.vocabulary_.items()]"
   ]
  },
  {
   "cell_type": "code",
   "execution_count": 28,
   "metadata": {},
   "outputs": [
    {
     "data": {
      "text/plain": [
       "[('financial results', 102288),\n",
       " ('investor complaints', 87599),\n",
       " ('board meeting', 78280),\n",
       " ('year ended', 70470),\n",
       " ('quarter ended', 67731),\n",
       " ('board directors', 63220),\n",
       " ('announcement lodr', 57404),\n",
       " ('quarter investor', 52506),\n",
       " ('quarter investor complaints', 52505),\n",
       " ('31 2021', 51692),\n",
       " ('regulations 2015', 50252),\n",
       " ('30 2021', 46183),\n",
       " ('directors company', 45711),\n",
       " ('board directors company', 44973),\n",
       " ('trading window', 40578),\n",
       " ('audited financial', 39911),\n",
       " ('period ended', 39680),\n",
       " ('meeting board', 39415),\n",
       " ('september 2021', 39140),\n",
       " ('results quarter', 38851),\n",
       " ('inter alia', 38697),\n",
       " ('ended 31st', 38636),\n",
       " ('meeting board directors', 37933),\n",
       " ('half year', 37369),\n",
       " ('financial results quarter', 37053),\n",
       " ('audited financial results', 36608),\n",
       " ('march 2021', 35565),\n",
       " ('pursuant regulation', 35253),\n",
       " ('half year ended', 34954),\n",
       " ('meeting held', 34914),\n",
       " ('ended march', 34010),\n",
       " ('consider approve', 31874),\n",
       " ('unaudited financial', 31650),\n",
       " ('please find', 31518),\n",
       " ('march 31', 31259),\n",
       " ('sebi lodr', 30666),\n",
       " ('march 31 2021', 30648),\n",
       " ('informed bse', 30248),\n",
       " ('unaudited financial results', 29863),\n",
       " ('results company', 29765),\n",
       " ('regulations 2018', 29743),\n",
       " ('31st march', 29649),\n",
       " ('financial results company', 29398),\n",
       " ('ended 30th', 28794),\n",
       " ('ended march 31', 28592),\n",
       " ('74 sebi', 28214),\n",
       " ('company quarter', 27552),\n",
       " ('june 2021', 27437),\n",
       " ('31st march 2021', 27434),\n",
       " ('company scheduled', 27250),\n",
       " ('company secretary', 27108),\n",
       " ('alia consider', 26221),\n",
       " ('inter alia consider', 26212),\n",
       " ('ended september', 25796),\n",
       " ('ended 31st march', 25370),\n",
       " ('alia consider approve', 24838),\n",
       " ('regulations 2011', 24828),\n",
       " ('financial year', 24722),\n",
       " ('september 30', 24270),\n",
       " ('directors company scheduled', 24204),\n",
       " ('lodr regulations', 23968),\n",
       " ('sebi sast', 23812),\n",
       " ('september 30 2021', 23764),\n",
       " ('ended december', 23753),\n",
       " ('un audited', 23624),\n",
       " ('sast regulations', 23604),\n",
       " ('sebi sast regulations', 23546),\n",
       " ('sast regulations 2011', 23460),\n",
       " ('closure trading', 23094),\n",
       " ('ended june', 23078),\n",
       " ('2021 inter', 23008),\n",
       " ('2021 inter alia', 22979),\n",
       " ('closure trading window', 22974),\n",
       " ('standalone consolidated', 22913),\n",
       " ('kindly click', 22807),\n",
       " ('find enclosed', 22658),\n",
       " ('year ended 31st', 22601),\n",
       " ('december 2021', 22593),\n",
       " ('ltd informed', 22344),\n",
       " ('ltd informed bse', 22299),\n",
       " ('lodr regulations 2015', 22139),\n",
       " ('please find enclosed', 22064),\n",
       " ('sebi lodr regulations', 21489),\n",
       " ('newspaper publication', 21259),\n",
       " ('results company quarter', 21255),\n",
       " ('meeting intimation', 21142),\n",
       " ('board meeting intimation', 21107),\n",
       " ('take record', 21084),\n",
       " ('29 sebi', 21069),\n",
       " ('bse meeting', 21061),\n",
       " ('bse meeting board', 21058),\n",
       " ('informed bse meeting', 21050),\n",
       " ('outcome board', 20907),\n",
       " ('ended september 30', 20798),\n",
       " ('outcome board meeting', 20671),\n",
       " ('june 30', 20345),\n",
       " ('sebi listing', 20243),\n",
       " ('compliance officer', 20239),\n",
       " ('december 31', 20210),\n",
       " ('june 30 2021', 20037),\n",
       " ('30th september', 19866),\n",
       " ('kindly take', 19660),\n",
       " ('30th september 2021', 19611),\n",
       " ('december 31 2021', 19590),\n",
       " ('un audited financial', 19247),\n",
       " ('enclosed herewith', 19048),\n",
       " ('ended december 31', 18830),\n",
       " ('secretary compliance', 18735),\n",
       " ('company secretary compliance', 18730),\n",
       " ('secretary compliance officer', 18681),\n",
       " ('submitted bse', 18586),\n",
       " ('insider trading', 18288),\n",
       " ('quarter half', 18243),\n",
       " ('ended june 30', 18210),\n",
       " ('postal ballot', 18135),\n",
       " ('regulation 29', 18069),\n",
       " ('quarter half year', 18003),\n",
       " ('year ended march', 17978),\n",
       " ('statement investor', 17767),\n",
       " ('2021 details', 17754),\n",
       " ('lodr newspaper', 17678),\n",
       " ('end quarter', 17670),\n",
       " ('ltd submitted', 17624),\n",
       " ('ltd submitted bse', 17603),\n",
       " ('statement investor complaints', 17584),\n",
       " ('lodr newspaper publication', 17548),\n",
       " ('announcement lodr newspaper', 17528),\n",
       " ('received quarter', 17528),\n",
       " ('complaints pending', 17501),\n",
       " ('beginning quarter', 17501),\n",
       " ('unresolved end', 17501),\n",
       " ('unresolved end quarter', 17501),\n",
       " ('pending beginning', 17500),\n",
       " ('complaints received', 17500),\n",
       " ('disposed quarter', 17500),\n",
       " ('investor complaints pending', 17500),\n",
       " ('pending beginning quarter', 17500),\n",
       " ('complaints received quarter', 17500),\n",
       " ('complaints disposed', 17499),\n",
       " ('complaints unresolved', 17499),\n",
       " ('complaints pending beginning', 17499),\n",
       " ('beginning quarter investor', 17499),\n",
       " ('investor complaints received', 17499),\n",
       " ('received quarter investor', 17499),\n",
       " ('investor complaints disposed', 17499),\n",
       " ('complaints disposed quarter', 17499),\n",
       " ('disposed quarter investor', 17499),\n",
       " ('investor complaints unresolved', 17499),\n",
       " ('complaints unresolved end', 17499),\n",
       " ('shareholding pattern', 17481),\n",
       " ('compliances reg', 17430),\n",
       " ('company held', 17418),\n",
       " ('details kindly', 17417),\n",
       " ('pattern period', 17376),\n",
       " ('shareholding pattern period', 17376),\n",
       " ('shareholding period', 17375),\n",
       " ('bse shareholding', 17375),\n",
       " ('shareholding period ended', 17375),\n",
       " ('submitted bse shareholding', 17375),\n",
       " ('bse shareholding pattern', 17375),\n",
       " ('pattern period ended', 17375),\n",
       " ('details kindly click', 17375),\n",
       " ('complaints quarter', 17365),\n",
       " ('investor complaints quarter', 17363),\n",
       " ('complaints quarter ended', 17357),\n",
       " ('name signatory', 17308),\n",
       " ('2021 investor', 17207),\n",
       " ('29 sebi sast', 17189),\n",
       " ('2021 details kindly', 17126),\n",
       " ('2021 investor complaints', 17031),\n",
       " ('certificate reg', 16815),\n",
       " ('sebi dp', 16715),\n",
       " ('voting results', 16700),\n",
       " ('74 sebi dp', 16675),\n",
       " ('limited review', 16460),\n",
       " ('agm company', 16438),\n",
       " ('dp regulations', 16423),\n",
       " ('sebi dp regulations', 16385),\n",
       " ('dp regulations 2018', 16251),\n",
       " ('reg 74', 16197),\n",
       " ('quarter ended 30th', 16118),\n",
       " ('certificate reg 74', 16005),\n",
       " ('results quarter ended', 15975),\n",
       " ('reg 74 sebi', 15972),\n",
       " ('31st december', 15790),\n",
       " ('quarter year', 15760),\n",
       " ('ended 30th september', 15736),\n",
       " ('equity shares', 15591),\n",
       " ('regulation 44', 15307),\n",
       " ('30th june', 15300),\n",
       " ('board meeting held', 15298),\n",
       " ('held today', 15292),\n",
       " ('share transfer', 15248),\n",
       " ('30th june 2021', 15167),\n",
       " ('quarter year ended', 15109),\n",
       " ('compliances certificate', 15018),\n",
       " ('wish inform', 14954),\n",
       " ('compliances certificate reg', 14879),\n",
       " ('review report', 14527),\n",
       " ('details loss', 14384),\n",
       " ('limited review report', 14338),\n",
       " ('prohibition insider', 14211),\n",
       " ('duplicate certificate', 14202),\n",
       " ('prohibition insider trading', 14193),\n",
       " ('loss certificate', 14093),\n",
       " ('listing regulations', 14089),\n",
       " ('quarter ended june', 14078),\n",
       " ('certificate duplicate', 14072),\n",
       " ('reg 39', 14056),\n",
       " ('details loss certificate', 14047),\n",
       " ('loss certificate duplicate', 14003),\n",
       " ('certificate duplicate certificate', 13995),\n",
       " ('39 details', 13888),\n",
       " ('39 details loss', 13884),\n",
       " ('reg 39 details', 13873),\n",
       " ('compliances reg 39', 13836),\n",
       " ('31st december 2021', 13806),\n",
       " ('remain closed', 13722),\n",
       " ('disclosure regulation', 13714),\n",
       " ('meeting outcome', 13449),\n",
       " ('44 lodr', 13394),\n",
       " ('board meeting outcome', 13377),\n",
       " ('quarter nine', 13374),\n",
       " ('months ended', 13277),\n",
       " ('regulation 44 lodr', 13220),\n",
       " ('quarter 0000', 13177),\n",
       " ('0000 name', 13177),\n",
       " ('end quarter 0000', 13177),\n",
       " ('quarter 0000 name', 13177),\n",
       " ('0000 name signatory', 13177),\n",
       " ('ended 31st december', 13033),\n",
       " ('annual report', 12923),\n",
       " ('nine months', 12914),\n",
       " ('sebi prohibition', 12883),\n",
       " ('48 hours', 12876),\n",
       " ('ended 30th june', 12771),\n",
       " ('sebi prohibition insider', 12746),\n",
       " ('investor meet', 12736),\n",
       " ('quarter nine months', 12574),\n",
       " ('regulation 74', 12504),\n",
       " ('analyst investor', 12410),\n",
       " ('find enclosed herewith', 12330),\n",
       " ('meeting held today', 12250),\n",
       " ('certificate regulation', 12198),\n",
       " ('disclosure requirements', 12103),\n",
       " ('regulation 29 sebi', 12086),\n",
       " ('regulation 74 sebi', 12029),\n",
       " ('nine months ended', 11983),\n",
       " ('company meeting', 11902),\n",
       " ('requirements regulations', 11828),\n",
       " ('analyst investor meet', 11821),\n",
       " ('transfer agent', 11656),\n",
       " ('2021 pursuant', 11600),\n",
       " ('consolidated financial', 11582),\n",
       " ('financial year ended', 11575),\n",
       " ('august 2021', 11555),\n",
       " ('lodr analyst', 11525),\n",
       " ('lodr analyst investor', 11512),\n",
       " ('announcement lodr analyst', 11510),\n",
       " ('trading regulations', 11443),\n",
       " ('exchange received', 11424),\n",
       " ('private limited', 11417),\n",
       " ('2011 exchange', 11416),\n",
       " ('regulations 2011 exchange', 11416),\n",
       " ('2011 exchange received', 11413),\n",
       " ('requirements regulations 2015', 11405),\n",
       " ('insider trading regulations', 11343),\n",
       " ('year ended 30th', 11263),\n",
       " ('compliance certificate', 11263),\n",
       " ('disclosures reg', 11238),\n",
       " ('company quarter ended', 11150),\n",
       " ('company meeting held', 11119),\n",
       " ('regulation 33', 11114),\n",
       " ('trading regulations 2015', 11112),\n",
       " ('depositories participants', 11046),\n",
       " ('kindly take record', 11044),\n",
       " ('sebi depositories', 10965),\n",
       " ('participants regulations', 10935),\n",
       " ('sebi depositories participants', 10882),\n",
       " ('pursuant sebi', 10830),\n",
       " ('received disclosure', 10827),\n",
       " ('participants regulations 2018', 10792),\n",
       " ('received disclosure regulation', 10767),\n",
       " ('dear sir', 10761),\n",
       " ('74 sebi depositories', 10752),\n",
       " ('consolidated financial results', 10719),\n",
       " ('exchange received disclosure', 10710),\n",
       " ('press release', 10608),\n",
       " ('depositories participants regulations', 10483),\n",
       " ('share certificate', 10409),\n",
       " ('directors company meeting', 10383),\n",
       " ('designated persons', 10365),\n",
       " ('scheduled held', 10236),\n",
       " ('standalone consolidated financial', 10224),\n",
       " ('ended 31', 10114),\n",
       " ('inform board', 9917),\n",
       " ('disclosure requirements regulations', 9801),\n",
       " ('information record', 9791),\n",
       " ('period ended march', 9778),\n",
       " ('meet intimation', 9731),\n",
       " ('investor meet intimation', 9721),\n",
       " ('related party', 9703),\n",
       " ('shareholder meeting', 9625),\n",
       " ('2020 21', 9452),\n",
       " ('window dealing', 9451),\n",
       " ('trading window dealing', 9440),\n",
       " ('meeting postal', 9313),\n",
       " ('meeting postal ballot', 9313),\n",
       " ('shareholder meeting postal', 9280),\n",
       " ('period ended september', 9237),\n",
       " ('share transfer agent', 9221),\n",
       " ('code conduct', 9091),\n",
       " ('period ended december', 9075),\n",
       " ('securities company', 8986),\n",
       " ('inform board directors', 8936),\n",
       " ('year ended september', 8914),\n",
       " ('disclosure regulation 29', 8905),\n",
       " ('listing obligations', 8881),\n",
       " ('quarter ended december', 8880),\n",
       " ('considered approved', 8877),\n",
       " ('video conferencing', 8873),\n",
       " ('regulation 39', 8821),\n",
       " ('06 2021', 8758),\n",
       " ('outcome outcome', 8738),\n",
       " ('results agm', 8695),\n",
       " ('voting results agm', 8677),\n",
       " ('meeting outcome outcome', 8675),\n",
       " ('reg 29', 8658),\n",
       " ('february 2022', 8631),\n",
       " ('period ended june', 8562),\n",
       " ('sebi listing obligations', 8527),\n",
       " ('november 2021', 8510),\n",
       " ('quarter ended 31st', 8506),\n",
       " ('agm regulation', 8484),\n",
       " ('agm regulation 44', 8468),\n",
       " ('30 2021 details', 8440),\n",
       " ('31 2021 details', 8434),\n",
       " ('results agm regulation', 8424),\n",
       " ('disclosures reg 29', 8423),\n",
       " ('registrar share', 8399),\n",
       " ('registrar share transfer', 8383),\n",
       " ('reg 29 sebi', 8350),\n",
       " ('scrutinizer report', 8312),\n",
       " ('listing obligation', 8260),\n",
       " ('would like', 8254),\n",
       " ('09 2021', 8245),\n",
       " ('regulation 2015', 8233),\n",
       " ('03 2021', 8231),\n",
       " ('results standalone', 8204),\n",
       " ('regulation 40', 8173),\n",
       " ('audio visual', 8146),\n",
       " ('financial results standalone', 8112),\n",
       " ('visual means', 8058),\n",
       " ('obligation disclosure', 8022),\n",
       " ('listing obligation disclosure', 8009),\n",
       " ('audio visual means', 7998),\n",
       " ('party transactions', 7986),\n",
       " ('related party transactions', 7973),\n",
       " ('stock exchange', 7885),\n",
       " ('book closure', 7884),\n",
       " ('outcome outcome board', 7874),\n",
       " ('sebi listing obligation', 7862),\n",
       " ('statutory auditors', 7782),\n",
       " ('regulation 23', 7723),\n",
       " ('hours declaration', 7689),\n",
       " ('shares company', 7600),\n",
       " ('credit rating', 7562),\n",
       " ('agm company held', 7504),\n",
       " ('schedule iii', 7474),\n",
       " ('48 hours declaration', 7425),\n",
       " ('sebi circular', 7378),\n",
       " ('along limited', 7368),\n",
       " ('along limited review', 7357),\n",
       " ('like inform', 7328),\n",
       " ('results quarter half', 7327),\n",
       " ('results standalone consolidated', 7313),\n",
       " ('july 2021', 7293),\n",
       " ('ended 30', 7281),\n",
       " ('11 2021', 7279),\n",
       " ('information records', 7238),\n",
       " ('would like inform', 7237),\n",
       " ('dealing securities', 7237),\n",
       " ('year 2020', 7218),\n",
       " ('quarter ended september', 7167),\n",
       " ('letter dated', 7101),\n",
       " ('loss share', 7095),\n",
       " ('pursuant lodr', 7055),\n",
       " ('compliance regulation', 7005),\n",
       " ('results quarter year', 6987),\n",
       " ('31 03', 6982),\n",
       " ('intimation board', 6979),\n",
       " ('agm agm', 6945),\n",
       " ('audited standalone', 6936),\n",
       " ('2022 inter', 6897),\n",
       " ('2022 inter alia', 6891),\n",
       " ('08 2021', 6886),\n",
       " ('33 lodr', 6881),\n",
       " ('registered office', 6862),\n",
       " ('intimation board meeting', 6858),\n",
       " ('shall remain', 6855),\n",
       " ('intimation intimation', 6806),\n",
       " ('lodr please', 6748),\n",
       " ('duplicate share', 6719),\n",
       " ('share certificates', 6698),\n",
       " ('secretarial compliance', 6698),\n",
       " ('31 03 2021', 6697),\n",
       " ('dealing securities company', 6684),\n",
       " ('sir madam', 6677),\n",
       " ('obligations disclosure', 6650),\n",
       " ('window dealing securities', 6635),\n",
       " ('financial year 2020', 6624),\n",
       " ('listing obligations disclosure', 6604),\n",
       " ('12 2021', 6603),\n",
       " ('large corporate', 6576),\n",
       " ('shall remain closed', 6564),\n",
       " ('office company', 6548),\n",
       " ('2021 along', 6522),\n",
       " ('find attached', 6521),\n",
       " ('ltdhas informed', 6502),\n",
       " ('ltdhas informed bse', 6502),\n",
       " ('pvt ltd', 6465),\n",
       " ('bse regarding', 6441),\n",
       " ('informed bse regarding', 6402),\n",
       " ('regulation 47', 6400),\n",
       " ('disclosure related', 6379),\n",
       " ('unaudited standalone', 6356),\n",
       " ('disclosure related party', 6354),\n",
       " ('annual secretarial', 6346),\n",
       " ('annual secretarial compliance', 6309),\n",
       " ('company scheduled held', 6308),\n",
       " ('october 2021', 6269),\n",
       " ('managing director', 6266),\n",
       " ('dear sir madam', 6263),\n",
       " ('2021 till', 6255),\n",
       " ('obligation disclosure requirements', 6245),\n",
       " ('details voting', 6221),\n",
       " ('stock exchanges', 6216),\n",
       " ('2018 quarter', 6208),\n",
       " ('company code', 6201),\n",
       " ('enclosing herewith', 6185),\n",
       " ('please find attached', 6110),\n",
       " ('details voting results', 6106),\n",
       " ('days inclusive', 6101),\n",
       " ('held thursday', 6085),\n",
       " ('till 48', 6072),\n",
       " ('media release', 6071),\n",
       " ('disclosure voting', 6020),\n",
       " ('directors meeting', 6020),\n",
       " ('lodr please find', 6012),\n",
       " ('quarter ended march', 6009),\n",
       " ('record date', 5992),\n",
       " ('year 2020 21', 5977),\n",
       " ('disclosure voting results', 5956),\n",
       " ('financial officer', 5940),\n",
       " ('chief financial', 5931),\n",
       " ('2018 quarter ended', 5931),\n",
       " ('lodr kindly', 5927),\n",
       " ('chief financial officer', 5911),\n",
       " ('pursuant provisions', 5899),\n",
       " ('board directors meeting', 5883),\n",
       " ('year ended 31', 5878),\n",
       " ('release media', 5814),\n",
       " ('release media release', 5806),\n",
       " ('regulations 2018 quarter', 5797),\n",
       " ('inform meeting', 5784),\n",
       " ('director company', 5774),\n",
       " ('approve unaudited', 5774),\n",
       " ('2021 22', 5746),\n",
       " ('lodr press', 5738),\n",
       " ('lodr press release', 5735),\n",
       " ('january 2022', 5729),\n",
       " ('press release media', 5722),\n",
       " ('till 48 hours', 5714),\n",
       " ('announcement lodr press', 5713),\n",
       " ('02 2022', 5670),\n",
       " ('2021 pursuant regulation', 5653),\n",
       " ('hereby inform', 5642),\n",
       " ('herewith copy', 5618),\n",
       " ('directors company held', 5587),\n",
       " ('certificate pursuant', 5573),\n",
       " ('months ended 31st', 5568),\n",
       " ('ended 31 03', 5551),\n",
       " ('directors meeting held', 5523),\n",
       " ('regarding details', 5514),\n",
       " ('registered office company', 5474),\n",
       " ('entity identified', 5468),\n",
       " ('regarding details voting', 5467),\n",
       " ('inform meeting board', 5465),\n",
       " ('bse regarding details', 5463),\n",
       " ('44 lodr kindly', 5446),\n",
       " ('attached herewith', 5441),\n",
       " ('take information', 5438),\n",
       " ('lodr kindly click', 5431),\n",
       " ('pursuant regulation 33', 5403),\n",
       " ('april 2021', 5393),\n",
       " ('2021 days', 5382),\n",
       " ('2021 days inclusive', 5362),\n",
       " ('investor presentation', 5322),\n",
       " ('months ended december', 5302),\n",
       " ('quarter financial', 5280),\n",
       " ('requested take', 5269),\n",
       " ('companies act', 5251),\n",
       " ('initial disclosure', 5243),\n",
       " ('quarter financial year', 5223),\n",
       " ('act 2013', 5211),\n",
       " ('consider approve unaudited', 5208),\n",
       " ('results quarter nine', 5204),\n",
       " ('take records', 5202),\n",
       " ('companies act 2013', 5173),\n",
       " ('company shall', 5164),\n",
       " ('certificate regulation 74', 5144),\n",
       " ('obligations disclosure requirements', 5127),\n",
       " ('certificate pursuant regulation', 5112),\n",
       " ('immediate relatives', 5097),\n",
       " ('33 sebi', 5089),\n",
       " ('company quarter half', 5074),\n",
       " ('regulation 33 lodr', 5035),\n",
       " ('interim dividend', 5029),\n",
       " ('company code conduct', 4997),\n",
       " ('pursuant regulation 29', 4996),\n",
       " ('vc audio', 4978),\n",
       " ('regulation sebi', 4973),\n",
       " ('held friday', 4960),\n",
       " ('held wednesday', 4949),\n",
       " ('means oavm', 4919),\n",
       " ('conference call', 4908),\n",
       " ('independent director', 4903),\n",
       " ('agent company', 4897),\n",
       " ('ended march 2021', 4894),\n",
       " ('register members', 4888),\n",
       " ('standalone financial', 4887),\n",
       " ('2015 please', 4883),\n",
       " ('financial express', 4882),\n",
       " ('2015 amended', 4878),\n",
       " ('inform company', 4868),\n",
       " ('transfer agent company', 4868),\n",
       " ('company remain', 4863),\n",
       " ('website company', 4851),\n",
       " ('auditors company', 4811),\n",
       " ('reg 34', 4789),\n",
       " ('company financial', 4786),\n",
       " ('34 annual', 4767),\n",
       " ('34 annual report', 4766),\n",
       " ('vc audio visual', 4761),\n",
       " ('reg 34 annual', 4755),\n",
       " ('outcome agm', 4740),\n",
       " ('whole time', 4737),\n",
       " ('unaudited standalone consolidated', 4735),\n",
       " ('company remain closed', 4726),\n",
       " ('visual means oavm', 4710),\n",
       " ('equity share', 4688),\n",
       " ('newspaper advertisement', 4668),\n",
       " ('agm held', 4658),\n",
       " ('limited registrar', 4650),\n",
       " ('conferencing vc', 4650),\n",
       " ('video conferencing vc', 4647),\n",
       " ('ended september 2021', 4638),\n",
       " ('publication pursuant', 4634),\n",
       " ('newspaper publication pursuant', 4632),\n",
       " ('audited standalone consolidated', 4616),\n",
       " ('financial result', 4611),\n",
       " ('39 lodr', 4608),\n",
       " ('meeting intimation intimation', 4603),\n",
       " ('ended december 2021', 4581),\n",
       " ('pursuant regulation 39', 4567),\n",
       " ('ended june 2021', 4563),\n",
       " ('industries ltd', 4534),\n",
       " ('company quarter year', 4533),\n",
       " ('members company', 4528),\n",
       " ('2021 approved', 4519),\n",
       " ('please take', 4517),\n",
       " ('time director', 4510),\n",
       " ('regulations 2015 amended', 4502),\n",
       " ('india ltd', 4501),\n",
       " ('whole time director', 4498),\n",
       " ('company financial year', 4488),\n",
       " ('30 09', 4487),\n",
       " ('approve unaudited financial', 4452),\n",
       " ('remote voting', 4447),\n",
       " ('terms regulation', 4436),\n",
       " ('2015 please find', 4419),\n",
       " ('lodr regulation', 4414),\n",
       " ('regulation 39 lodr', 4411),\n",
       " ('standalone financial results', 4408),\n",
       " ('ballot outcome', 4383),\n",
       " ('postal ballot outcome', 4383),\n",
       " ('2021 kindly', 4373),\n",
       " ('31 sebi', 4354),\n",
       " ('ballot outcome agm', 4351),\n",
       " ('certificate intimation', 4347),\n",
       " ('equity shares company', 4323),\n",
       " ('duplicate share certificate', 4323),\n",
       " ('30 09 2021', 4316),\n",
       " ('duplicate certificate intimation', 4312),\n",
       " ('issue duplicate', 4311),\n",
       " ('part schedule', 4300),\n",
       " ('december 2021 investor', 4287),\n",
       " ('september 2021 investor', 4273),\n",
       " ('conferencing vc audio', 4255),\n",
       " ('june 2021 investor', 4252),\n",
       " ('march 2021 investor', 4241),\n",
       " ('lodr regulation 2015', 4227),\n",
       " ('captioned subject', 4221),\n",
       " ('10 2021', 4213),\n",
       " ('take information record', 4201),\n",
       " ('take note', 4195),\n",
       " ('30 06', 4192),\n",
       " ('loss share certificate', 4190),\n",
       " ('held monday', 4188),\n",
       " ('declaration financial', 4164),\n",
       " ('may 2021', 4160),\n",
       " ('per regulation', 4148),\n",
       " ('limited company', 4116),\n",
       " ('29 lodr', 4106),\n",
       " ('31 31', 4105),\n",
       " ('sebi lodr regulation', 4103),\n",
       " ('31 31 sebi', 4102),\n",
       " ('30 06 2021', 4079),\n",
       " ('31 sebi sast', 4075),\n",
       " ('declaration financial results', 4069),\n",
       " ('ballot scrutinizer', 4060),\n",
       " ('postal ballot scrutinizer', 4060),\n",
       " ('held tuesday', 4059),\n",
       " ('ballot scrutinizer report', 4059),\n",
       " ('2021 please', 4053),\n",
       " ('2021 board', 4048),\n",
       " ('disclosure made', 4041),\n",
       " ('provisions sebi', 4022),\n",
       " ('quarter ended 30', 4009),\n",
       " ('herewith certificate', 4003),\n",
       " ('debt securities', 4000),\n",
       " ('issue duplicate share', 3991),\n",
       " ('practicing company', 3972),\n",
       " ('regulations 2015 please', 3969),\n",
       " ('sebi ho', 3950),\n",
       " ('08 2021 inter', 3935),\n",
       " ('rs 10', 3934),\n",
       " ('alia considered', 3926),\n",
       " ('inter alia considered', 3924),\n",
       " ('transfer books', 3921),\n",
       " ('part schedule iii', 3911),\n",
       " ('company quarter nine', 3904),\n",
       " ('29 2021', 3892),\n",
       " ('enclose herewith', 3885),\n",
       " ('regulation 29 lodr', 3873),\n",
       " ('statutory auditors company', 3867),\n",
       " ('identified large', 3865),\n",
       " ('subject approval', 3861),\n",
       " ('identified large corporate', 3851),\n",
       " ('share transfer books', 3842),\n",
       " ('2021 11', 3836),\n",
       " ('pursuant sebi prohibition', 3820),\n",
       " ('persons immediate', 3810),\n",
       " ('entity identified large', 3787),\n",
       " ('made entity', 3776),\n",
       " ('disclosure made entity', 3776),\n",
       " ('members share', 3773),\n",
       " ('approve audited', 3768),\n",
       " ('members share transfer', 3768),\n",
       " ('23 sebi', 3767),\n",
       " ('regulation 33 sebi', 3767),\n",
       " ('made entity identified', 3766),\n",
       " ('11 2021 inter', 3758),\n",
       " ('face value', 3746),\n",
       " ('2021 00', 3744),\n",
       " ('agm agm company', 3744),\n",
       " ('compliance certificate regulation', 3732),\n",
       " ('circular sebi', 3723),\n",
       " ('duplicate certificate pursuant', 3721),\n",
       " ('register members share', 3714),\n",
       " ('private limited registrar', 3710),\n",
       " ('company shall remain', 3710),\n",
       " ('47 lodr', 3709),\n",
       " ('year 2021', 3685),\n",
       " ('reference captioned', 3680),\n",
       " ('circular sebi ho', 3669),\n",
       " ('shortfall mandatory', 3668),\n",
       " ('mandatory borrowing', 3668),\n",
       " ('inform pursuant', 3667),\n",
       " ('approve un', 3662),\n",
       " ('approve un audited', 3660),\n",
       " ('dated november', 3648),\n",
       " ('certificate received', 3646),\n",
       " ('wish inform board', 3631),\n",
       " ('regulation 23 sebi', 3630),\n",
       " ('limited registrar share', 3612),\n",
       " ('02 2022 inter', 3612),\n",
       " ('pursuant sebi lodr', 3610),\n",
       " ('2021 along limited', 3602),\n",
       " ('certificate regulation 40', 3594),\n",
       " ('approved board', 3577),\n",
       " ('consolidated quarter', 3570),\n",
       " ('sebi listing regulations', 3564),\n",
       " ('2018 certificate', 3562),\n",
       " ('regulation lodr', 3560),\n",
       " ('regulations 2018 certificate', 3555),\n",
       " ('regarding loss', 3544),\n",
       " ('designated persons immediate', 3541),\n",
       " ('approved following', 3540),\n",
       " ('request take', 3539),\n",
       " ('due course', 3536),\n",
       " ('2021 kindly take', 3535),\n",
       " ('pursuant regulation 23', 3524),\n",
       " ('01 2021', 3515),\n",
       " ('approved unaudited', 3515),\n",
       " ('borrowing debt', 3515),\n",
       " ('shortfall mandatory borrowing', 3515),\n",
       " ('mandatory borrowing debt', 3515),\n",
       " ('appointment mr', 3514),\n",
       " ('39 sebi', 3502),\n",
       " ('lodr change', 3496),\n",
       " ('standalone consolidated quarter', 3487),\n",
       " ('alia considered approved', 3482),\n",
       " ('2021 till 48', 3480),\n",
       " ('acknowledge receipt', 3478),\n",
       " ('report financial', 3472),\n",
       " ('persons immediate relatives', 3469),\n",
       " ('regulation 39 sebi', 3468),\n",
       " ('link intime', 3461),\n",
       " ('company website', 3448),\n",
       " ('director whole', 3448),\n",
       " ('director whole time', 3448),\n",
       " ('officer company', 3442),\n",
       " ('announcement lodr change', 3441),\n",
       " ('intimation pursuant', 3437),\n",
       " ('initial disclosure made', 3433),\n",
       " ('consider approve audited', 3430),\n",
       " ('04 2021', 3410),\n",
       " ('2021 published', 3408),\n",
       " ('06 2021 inter', 3407),\n",
       " ('compliance report', 3403),\n",
       " ('format initial', 3395),\n",
       " ('format initial disclosure', 3395),\n",
       " ('managing director whole', 3393),\n",
       " ('consider approve un', 3386),\n",
       " ('case shortfall', 3368),\n",
       " ('request kindly', 3367),\n",
       " ('intime india', 3366),\n",
       " ('link intime india', 3366),\n",
       " ('sebi circular sebi', 3366),\n",
       " ('2021 reference', 3360),\n",
       " ('window pursuant', 3359),\n",
       " ('trading window pursuant', 3359),\n",
       " ('results along', 3353),\n",
       " ('financial year 2021', 3352),\n",
       " ('intimation intimation board', 3351),\n",
       " ('business standard', 3345),\n",
       " ('reg 24', 3340),\n",
       " ('24 annual', 3338),\n",
       " ('24 annual secretarial', 3338),\n",
       " ('date board', 3333),\n",
       " ('reg 24 annual', 3329),\n",
       " ('final dividend', 3326),\n",
       " ('regarding loss share', 3315),\n",
       " ('un audited standalone', 3296),\n",
       " ('compliances reg 24', 3296),\n",
       " ('date board meeting', 3282),\n",
       " ('pursuant regulation 47', 3270),\n",
       " ('23 lodr', 3270),\n",
       " ('reference captioned subject', 3269),\n",
       " ('lodr half', 3254),\n",
       " ('11 00', 3249),\n",
       " ('secretarial compliance report', 3249),\n",
       " ('kindly take records', 3243),\n",
       " ('india private', 3230),\n",
       " ('report company', 3227),\n",
       " ('ballot notice', 3221),\n",
       " ('postal ballot notice', 3220),\n",
       " ('shareholders company', 3217),\n",
       " ('00 concluded', 3212),\n",
       " ('request kindly take', 3204),\n",
       " ('ended 30 09', 3194),\n",
       " ('read schedule', 3193),\n",
       " ('disclosure requirement', 3190),\n",
       " ('lodr half year', 3188),\n",
       " ('lodr hereby', 3187),\n",
       " ('india private limited', 3171),\n",
       " ('hours declaration financial', 3166),\n",
       " ('lodr investor', 3155),\n",
       " ('2021 consider', 3151),\n",
       " ('meeting commenced', 3147),\n",
       " ('books company', 3147),\n",
       " ('regulate monitor', 3135),\n",
       " ('regulation 23 lodr', 3134),\n",
       " ('transfer books company', 3133),\n",
       " ('07 2021', 3106),\n",
       " ('regulation 47 lodr', 3099),\n",
       " ('audit committee', 3098),\n",
       " ('publication newspaper', 3094),\n",
       " ('copies newspaper', 3092),\n",
       " ('notice board', 3086),\n",
       " ('company www', 3072),\n",
       " ('28 2021', 3067),\n",
       " ('cir cfd', 3062),\n",
       " ('prevention insider', 3061),\n",
       " ('prevention insider trading', 3060),\n",
       " ('monitor report', 3047),\n",
       " ('website company www', 3043),\n",
       " ('circular cir', 3041),\n",
       " ('regulate monitor report', 3037),\n",
       " ('newspaper publication newspaper', 3019),\n",
       " ('pursuant read', 3017),\n",
       " ('approval shareholders', 3015),\n",
       " ('report financial year', 3015),\n",
       " ('2021 received', 3011),\n",
       " ('intimation regarding', 2998),\n",
       " ('window closure', 2997),\n",
       " ('lodr wish', 2985),\n",
       " ('meeting company', 2982),\n",
       " ('provisions regulation', 2979),\n",
       " ('13 2021', 2977),\n",
       " ('india limited', 2976),\n",
       " ('report trading', 2973),\n",
       " ('held saturday', 2966),\n",
       " ('lodr resignation', 2963),\n",
       " ('monitor report trading', 2963),\n",
       " ('31 12', 2959),\n",
       " ('available website', 2952),\n",
       " ('2021 information', 2950),\n",
       " ('trading window closure', 2947),\n",
       " ('40 lodr', 2945),\n",
       " ('lodr investor presentation', 2942),\n",
       " ('announcement lodr investor', 2941),\n",
       " ('non executive', 2937),\n",
       " ('financial statements', 2922),\n",
       " ('first quarter', 2913),\n",
       " ('approve pursuant', 2912),\n",
       " ('consider approve pursuant', 2912),\n",
       " ('inclusive purpose', 2901),\n",
       " ('approve audited financial', 2900),\n",
       " ('05 2021', 2899),\n",
       " ('loss share certificates', 2887),\n",
       " ('notice board meeting', 2887),\n",
       " ('announcement lodr resignation', 2885),\n",
       " ('circular cir cfd', 2867),\n",
       " ('days inclusive purpose', 2858),\n",
       " ('express english', 2856),\n",
       " ('regulation 42', 2854),\n",
       " ('01 2022', 2845),\n",
       " ('lodr wish inform', 2834),\n",
       " ('31 12 2021', 2829),\n",
       " ('year 2021 22', 2816),\n",
       " ('ho ddhs', 2812),\n",
       " ('notice agm', 2810),\n",
       " ('third quarter', 2807),\n",
       " ('practicing company secretary', 2801),\n",
       " ('website www', 2794),\n",
       " ('per equity', 2793),\n",
       " ('read schedule iii', 2792),\n",
       " ('institutional investor', 2783),\n",
       " ('sebi ho ddhs', 2780),\n",
       " ('change directorate', 2772),\n",
       " ('results financial', 2768),\n",
       " ('00 pm', 2766),\n",
       " ('ddhs cir', 2765),\n",
       " ('2021 compliance', 2762),\n",
       " ('report quarter', 2755),\n",
       " ('2015 listing', 2746),\n",
       " ('find attached herewith', 2745),\n",
       " ('00 ist', 2740),\n",
       " ('sebi circular cir', 2739),\n",
       " ('cut date', 2738),\n",
       " ('consolidated basis', 2736),\n",
       " ('clarification sought', 2722),\n",
       " ('registrar transfer', 2720),\n",
       " ('2021 issued', 2718),\n",
       " ('applicable provisions', 2715),\n",
       " ('regulation 40 lodr', 2713),\n",
       " ('cir 2018', 2711),\n",
       " ('financial express english', 2702),\n",
       " ('please note', 2699),\n",
       " ('available website company', 2696),\n",
       " ('conduct regulate', 2687),\n",
       " ('financial results along', 2684),\n",
       " ('conduct regulate monitor', 2678),\n",
       " ('kindly take information', 2677),\n",
       " ('40 10', 2674),\n",
       " ('lodr change directorate', 2671),\n",
       " ('value rs', 2668),\n",
       " ('closed designated', 2667),\n",
       " ('ho ddhs cir', 2659),\n",
       " ('year ended 30', 2646),\n",
       " ('10 sebi', 2644),\n",
       " ('code conduct regulate', 2644),\n",
       " ('per equity share', 2643),\n",
       " ('2018 144', 2635),\n",
       " ('time time', 2633),\n",
       " ('auditor company', 2631),\n",
       " ('meet intimation pursuant', 2630),\n",
       " ('conferencing audio', 2630),\n",
       " ('lodr inform', 2626),\n",
       " ('video conferencing audio', 2626),\n",
       " ('company secretaries', 2625),\n",
       " ('read regulation', 2624),\n",
       " ('audit report', 2623),\n",
       " ('second quarter', 2621),\n",
       " ('33 sebi lodr', 2617),\n",
       " ('ddhs cir 2018', 2615),\n",
       " ('cir 2018 144', 2610),\n",
       " ('144 dated', 2609),\n",
       " ('approved board directors', 2607),\n",
       " ('chartered accountants', 2602),\n",
       " ('consolidated company', 2596),\n",
       " ('2018 144 dated', 2593),\n",
       " ('47 sebi', 2585),\n",
       " ('taken record', 2585),\n",
       " ('2015 listing regulations', 2581),\n",
       " ('reg 31', 2579),\n",
       " ('standalone consolidated company', 2574),\n",
       " ('23 sebi lodr', 2565),\n",
       " ('2015 wish', 2563),\n",
       " ('iii lodr', 2551),\n",
       " ('company closed', 2551),\n",
       " ('schedule iii lodr', 2544),\n",
       " ('read sebi', 2535),\n",
       " ('share capital', 2525),\n",
       " ('conferencing audio visual', 2524),\n",
       " ('statutory auditor', 2522),\n",
       " ('face value rs', 2519),\n",
       " ('2015 hereby', 2515),\n",
       " ('november 26', 2513),\n",
       " ('also available', 2510),\n",
       " ('exchange board', 2510),\n",
       " ('ensuing agm', 2502),\n",
       " ('40 sebi', 2501),\n",
       " ('compliance officer company', 2499),\n",
       " ('books company remain', 2490),\n",
       " ('result quarter', 2489),\n",
       " ('2015 half', 2486),\n",
       " ('approve pursuant regulation', 2480),\n",
       " ('record oblige', 2472),\n",
       " ('report thereon', 2458),\n",
       " ('2015 half year', 2444),\n",
       " ('subject approval shareholders', 2443),\n",
       " ('39 sebi lodr', 2440),\n",
       " ('2018 certificate regulation', 2437),\n",
       " ('regulation 34', 2436),\n",
       " ('approved unaudited financial', 2432),\n",
       " ('2015 wish inform', 2425),\n",
       " ('declaration unaudited', 2421),\n",
       " ('27 2021', 2421),\n",
       " ('ended 31 12', 2411),\n",
       " ('conduct prevention', 2408),\n",
       " ('first quarter ended', 2403),\n",
       " ('limited held', 2398),\n",
       " ('2021 please find', 2396),\n",
       " ('2021 financial', 2395),\n",
       " ('conduct prevention insider', 2393),\n",
       " ('lodr allotment', 2391),\n",
       " ('33 sebi listing', 2391),\n",
       " ('regulations 2015 listing', 2387),\n",
       " ('duplicate share certificates', 2381),\n",
       " ('announcement lodr allotment', 2377),\n",
       " ('lodr listing', 2377),\n",
       " ('agm members', 2376),\n",
       " ('company held thursday', 2367),\n",
       " ('alia approved', 2366),\n",
       " ('dated november 26', 2366),\n",
       " ('inter alia approved', 2364),\n",
       " ('2021 per', 2362),\n",
       " ('meeting intimation board', 2362),\n",
       " ('enclosed herewith copy', 2356),\n",
       " ('independent director company', 2354),\n",
       " ('closed designated persons', 2354),\n",
       " ('analyst institutional', 2352),\n",
       " ('14 2021', 2349),\n",
       " ('26 2018', 2341),\n",
       " ('registrar transfer agent', 2340),\n",
       " ('regulation 31', 2333),\n",
       " ('24 2021', 2333),\n",
       " ('intimation regulation', 2333),\n",
       " ('november 26 2018', 2333),\n",
       " ('ist video', 2331),\n",
       " ('publication pursuant regulation', 2328),\n",
       " ('movement price', 2323),\n",
       " ('held september', 2319),\n",
       " ('report pursuant', 2316),\n",
       " ('company website www', 2312),\n",
       " ('lodr listing regulations', 2312),\n",
       " ('board meeting company', 2297),\n",
       " ('hours announcement', 2296),\n",
       " ('hereby given', 2294),\n",
       " ('regulation 40 sebi', 2293),\n",
       " ('amended time', 2283),\n",
       " ('2018 please', 2280),\n",
       " ('dated april', 2279),\n",
       " ('amended time time', 2275),\n",
       " ('advertisement published', 2273),\n",
       " ('2021 shall', 2271),\n",
       " ('permission chair', 2267),\n",
       " ('designated employees', 2266),\n",
       " ('quarter ended 31', 2262),\n",
       " ('144 dated november', 2261),\n",
       " ('ended 30 06', 2256),\n",
       " ('earnings call', 2252),\n",
       " ('code conduct prevention', 2251),\n",
       " ('declaration unaudited financial', 2248),\n",
       " ('results postal', 2244),\n",
       " ('securities exchange', 2243),\n",
       " ('herewith copies', 2242),\n",
       " ...]"
      ]
     },
     "execution_count": 28,
     "metadata": {},
     "output_type": "execute_result"
    }
   ],
   "source": [
    "phrase_freq = sorted(phrase_freq, key = lambda x: x[1], reverse=True)\n",
    "phrase_freq"
   ]
  },
  {
   "cell_type": "code",
   "execution_count": 29,
   "metadata": {},
   "outputs": [
    {
     "name": "stdout",
     "output_type": "stream",
     "text": [
      "[\"Update on board meeting\\n\\nVIKAS WSP LTD.has informed BSE that the meeting of the Board of Directors of the Company is scheduled on 18/03/2021 ,inter alia, to consider and approve This is inform you that pursuant to Regulation 29 of the sebi (Listing Obligations and Disclosure Requirement) regulations 2015 ('Listing Regulations'), a meeting of the Board of Directors of the Company is scheduled to be held on Thursday , March  18, 2021 at B-86/87, RIICO, Udyog Vihar, Industrial Area, Sri Ganga nagar-335002 at 11.00 A.M., inter-alia, to consider following items:  1. Consider Appointment of M/s AK Chadda & Co., Chartered Accountants as Statutory Auditor of the Company to fill casual vacancy caused due to resignation of Statutory Auditors M/s S. Prakash Aggarwal & Co., Chartered Accountants., subject to the approval of Shareholders in the ensuing General Meeting.  2. Any other matters with permission of board.  If approved and considered by the Board an EGM/Postal Ballot would be called. Please take on records the above information's to inform the investors of the Company.  Kindly take the above information on your record. \", 'egm Of The Shareholders Held On March 15, 2021\\n\\n1. This is to inform you that Extra-ordinary General Meeting of Company was held on Monday, the 15th day of March, 2021 at 4.00 PM and concluded at 4.45 P.M. 2. The requisite quorum was present as per the provision of Companies Act, 2013 and the Chairman declared the meeting is in order.  3. The Chairman informed that Mr. Manish Maheshwari was appointed as Scrutinizer for the meeting. The Chairman than read the notice and the following business was transacted at the meeting:   Increase in Authorised Capital of the Company from Rs.7.25 Crores to Rs.12.25 Crores.  4. Members present were given the opportunity to ask questions and seek clarifications. None of them have asked any questions. 5. The details of the Results of the voting through electronic voting opted by the shareholders and through Ballot Paper on the Resolution of the Notice will be forwarded separately on declaration of the same. 6. You are requested to take the above on record. ', 'Announcement under  lodr-Meeting Updates\\n\\nDear Sir/Madam,  Pursuant to  (read with Schedule Ill - Part A), and other applicable provisions of the lodr, please find herewith outcome of board meeting of the Company held today i.e. on Monday, March 15, 2021 at 4:00 P.M. and concluded at 5:20 P.M. at Corporate Office of the Company.  The Board Considered and approved extension of the benefits of the SOM Employees Stock Option Plan Scheme 2020 (as approved by shareholders in the 27th agm of the company held on September 29, 2020) to create offer and grant upto 10,00,000 options for permanent employees of the Company and Subsidiary Company(ies), subject to approval of shareholders at the ensuing Extra-Ordinary General Meeting (EGM).']\n"
     ]
    }
   ],
   "source": [
    "def _print_samples(data, phrase):\n",
    "    phrase = phrase.lower()\n",
    "    print([row for row in data if phrase in row.lower()][:3])\n",
    "    \n",
    "_print_samples(data[:10000], 'general meeting')"
   ]
  },
  {
   "cell_type": "markdown",
   "metadata": {},
   "source": [
    "## Analyse categories"
   ]
  },
  {
   "cell_type": "code",
   "execution_count": 28,
   "metadata": {},
   "outputs": [
    {
     "name": "stdout",
     "output_type": "stream",
     "text": [
      "Corp. Action 7334\n",
      "Insider Trading / SAST 27155\n",
      "Company Update 151678\n",
      "Board Meeting 27233\n",
      " 21180\n",
      "Result 29135\n",
      "AGM/EGM 23790\n",
      " Corp Action 1040\n",
      "New Listing 85\n",
      "Corp Action 262\n"
     ]
    }
   ],
   "source": [
    "# group announcements by categories\n",
    "categories = {}\n",
    "\n",
    "for doc in announcements:\n",
    "    category = doc['category']\n",
    "    if category not in categories:\n",
    "        categories[category] = []\n",
    "    categories[category].append(doc)\n",
    "\n",
    "for category, docs in categories.items():\n",
    "    print(category, len(docs))"
   ]
  },
  {
   "cell_type": "code",
   "execution_count": 29,
   "metadata": {},
   "outputs": [
    {
     "data": {
      "text/plain": [
       "['Company Update', '']"
      ]
     },
     "execution_count": 29,
     "metadata": {},
     "output_type": "execute_result"
    }
   ],
   "source": [
    "self_explanatory_categories = [\n",
    "    'Insider Trading / SAST',\n",
    "    'Result',\n",
    "    'New Listing',\n",
    "]\n",
    "\n",
    "categories_with_own_clusters = [\n",
    "    'Corp. Action',\n",
    "    ' Corp Action',\n",
    "    'Corp Action',\n",
    "    'AGM/EGM',\n",
    "    'Board Meeting',\n",
    "    \n",
    "]\n",
    "\n",
    "other_categories = [\n",
    "    c for c in categories\n",
    "    if c not in (self_explanatory_categories + categories_with_own_clusters)\n",
    "]\n",
    "\n",
    "other_categories"
   ]
  },
  {
   "cell_type": "markdown",
   "metadata": {},
   "source": [
    "## Creating clusters for wide categories\n",
    "\n",
    "Categories like `corp-action`, `agm-egm`, `board-meeting` are good, but little wide.\n",
    "\n",
    "Let's see if we can extract more details for them."
   ]
  },
  {
   "cell_type": "code",
   "execution_count": 33,
   "metadata": {},
   "outputs": [],
   "source": [
    "from collections import Counter\n",
    "\n",
    "def _describe_counter(counter, texts, param):\n",
    "    unique_count = len([k for k, v in counter.items() if v == 1])\n",
    "    bundles_count = len(texts) - unique_count\n",
    "\n",
    "    print('Total docs:', len(texts))\n",
    "    print('\\n')\n",
    "    print(f'{bundles_count} bundles:\\n', counter.most_common(8))\n",
    "    print('\\n')\n",
    "    print(f'{unique_count} unique:\\n', counter.most_common()[-4:])\n",
    "    \n",
    "def describe(docs, param):\n",
    "    texts = [doc[param] for doc in docs]\n",
    "\n",
    "    # show different kinds of values\n",
    "    counter = Counter()\n",
    "    for text in texts:\n",
    "        counter[text] += 1\n",
    "\n",
    "    _describe_counter(counter, texts, param)"
   ]
  },
  {
   "cell_type": "code",
   "execution_count": 34,
   "metadata": {},
   "outputs": [],
   "source": [
    "from sklearn.feature_extraction.text import TfidfVectorizer\n",
    "\n",
    "\n",
    "def cluster_on_idf(docs, param):\n",
    "    texts = [doc[param] for doc in docs]\n",
    "    \n",
    "    # create tf-idf for texts\n",
    "    text_transformer = TfidfVectorizer(max_df=.6, min_df=50, stop_words=stop_words)\n",
    "    X = text_transformer.fit_transform(texts)\n",
    "    \n",
    "    # group by most common word\n",
    "    counter = Counter()\n",
    "    x = X.toarray()\n",
    "    names = text_transformer.get_feature_names_out()\n",
    "    for row in x:\n",
    "        name_vals = sorted(zip(row, names), reverse=True)\n",
    "        most_used = name_vals[0][1]\n",
    "        counter[most_used] += 1\n",
    "    _describe_counter(counter, texts, param)"
   ]
  },
  {
   "cell_type": "code",
   "execution_count": 35,
   "metadata": {},
   "outputs": [
    {
     "name": "stdout",
     "output_type": "stream",
     "text": [
      "Total docs: 7334\n",
      "\n",
      "\n",
      "4134 bundles:\n",
      " [('Corporate Action-Board approves Dividend', 640), ('Corporate Action-Board to consider Dividend', 345), ('Board to consider Dividend', 270), ('Board recommends Dividend', 234), ('Board recommends Final Dividend', 191), ('Fixes Record Date for Interim Dividend', 132), ('Board declares Interim Dividend', 120), ('Intimation Of Book Closure', 82)]\n",
      "\n",
      "\n",
      "3200 unique:\n",
      " [('INTIMATION OF RECORD DATE FOR SPLIT/ SUB-DIVISION OF EQUITY SHARES OF THE COMPANY', 1), ('Intimation Of Revised Record Date For Sub-Division / Split Of Equity Shares Of The Company', 1), ('Board to consider FY22 & Q4 results & Final Dividend on April 12 and 13, 2022', 1), ('Corporate Action - Record Date For Declaration Of Interim Dividend , If Any', 1)]\n"
     ]
    }
   ],
   "source": [
    "describe(categories['Corp. Action'], 'subject')"
   ]
  },
  {
   "cell_type": "code",
   "execution_count": 36,
   "metadata": {},
   "outputs": [
    {
     "name": "stdout",
     "output_type": "stream",
     "text": [
      "Total docs: 7334\n",
      "\n",
      "\n",
      "7329 bundles:\n",
      " [('approves', 642), ('consider', 620), ('recommends', 435), ('interim', 309), ('fixes', 289), ('annual', 210), ('purpose', 202), ('bonus', 170)]\n",
      "\n",
      "\n",
      "5 unique:\n",
      " [('meeting', 1), ('requirements', 1), ('year', 1), ('division', 1)]\n"
     ]
    }
   ],
   "source": [
    "cluster_on_idf(categories['Corp. Action'], 'subject')"
   ]
  },
  {
   "cell_type": "code",
   "execution_count": 56,
   "metadata": {},
   "outputs": [],
   "source": [
    "from sklearn.cluster import KMeans\n",
    "from sklearn.metrics import silhouette_score\n",
    "\n",
    "\n",
    "def _get_kmeans_cluster(X, n_clusters):\n",
    "    kmeans = KMeans(n_clusters=n_clusters)\n",
    "    clusters = kmeans.fit_predict(X)\n",
    "    return kmeans, clusters\n",
    "\n",
    "def _get_silhouette_score(X, kmeans):\n",
    "    score = silhouette_score(X, kmeans.labels_)\n",
    "    remark = 'bad' if score < .4 else (\n",
    "        'okay' if score < .6 else 'good'\n",
    "    )\n",
    "    return score, remark\n",
    "\n",
    "\n",
    "def _plot_silhouette_score_graph(X, n_clusters):\n",
    "    n__score = {}\n",
    "    for i in range(n_clusters - 3, n_clusters + 3):\n",
    "        kmeans, clusters = _get_kmeans_cluster(X, i)\n",
    "        score = _get_silhouette_score(X, kmeans)\n",
    "        n__score[i] = score\n",
    "    \n",
    "    # print the above values\n",
    "        \n",
    "\n",
    "def cluster_by_kmeans(docs, param, n_clusters=8):\n",
    "    texts = [doc[param] for doc in docs]\n",
    "    \n",
    "    # create tf-idf for texts\n",
    "    text_transformer = TfidfVectorizer(max_df=.6, min_df=50, stop_words=stop_words)\n",
    "    X = text_transformer.fit_transform(texts)\n",
    "\n",
    "    kmeans, clusters = _get_kmeans_cluster(X, n_clusters=n_clusters)\n",
    "    score, remark = _get_silhouette_score(X, kmeans)\n",
    "    print('silhouette score', score, remark)\n",
    "\n",
    "    counter = Counter(clusters)\n",
    "    _describe_counter(counter, texts, param)    \n",
    "    \n",
    "    _plot_silhouette_score_graph(X, n_clusters)"
   ]
  },
  {
   "cell_type": "code",
   "execution_count": 55,
   "metadata": {},
   "outputs": [
    {
     "name": "stdout",
     "output_type": "stream",
     "text": [
      "silhouette score 0.26833375424955674 bad\n",
      "Total docs: 7334\n",
      "\n",
      "\n",
      "7334 bundles:\n",
      " [(4, 1308), (2, 1205), (6, 1131), (3, 1121), (7, 871), (1, 653), (0, 546), (5, 499)]\n",
      "\n",
      "\n",
      "0 unique:\n",
      " [(7, 871), (1, 653), (0, 546), (5, 499)]\n"
     ]
    }
   ],
   "source": [
    "cluster_by_kmeans(categories['Corp. Action'], 'subject')"
   ]
  },
  {
   "cell_type": "code",
   "execution_count": null,
   "metadata": {},
   "outputs": [],
   "source": []
  },
  {
   "cell_type": "code",
   "execution_count": null,
   "metadata": {},
   "outputs": [],
   "source": []
  },
  {
   "cell_type": "code",
   "execution_count": null,
   "metadata": {},
   "outputs": [],
   "source": []
  },
  {
   "cell_type": "code",
   "execution_count": null,
   "metadata": {},
   "outputs": [],
   "source": []
  },
  {
   "cell_type": "code",
   "execution_count": null,
   "metadata": {},
   "outputs": [],
   "source": []
  },
  {
   "cell_type": "code",
   "execution_count": null,
   "metadata": {},
   "outputs": [],
   "source": []
  },
  {
   "cell_type": "code",
   "execution_count": null,
   "metadata": {},
   "outputs": [],
   "source": []
  },
  {
   "cell_type": "code",
   "execution_count": null,
   "metadata": {},
   "outputs": [],
   "source": []
  },
  {
   "cell_type": "markdown",
   "metadata": {},
   "source": [
    "## Analyse subjects\n",
    "\n",
    "The subjects contain highly accurate information. We can use them to create wider categories.\n",
    "\n",
    "Only few subjects are prone to bad-headings. These are subjects like: lodr, media release, newspaper print. For these we can define new categories.\n",
    "\n",
    "Let's analyse subects first."
   ]
  },
  {
   "cell_type": "code",
   "execution_count": 111,
   "metadata": {},
   "outputs": [
    {
     "name": "stdout",
     "output_type": "stream",
     "text": [
      "[('Announcement under Regulation 30 (LODR)-Newspaper Publication', 17363), ('Closure of Trading Window', 15958), ('Compliances-Certificate under Reg. 74 (5) of SEBI (DP) Regulations, 2018', 14698)]\n"
     ]
    }
   ],
   "source": [
    "from collections import Counter\n",
    "\n",
    "subjects = [doc['subject'] for doc in announcements]\n",
    "\n",
    "# see different kinds of subjects and counts\n",
    "counter = Counter()\n",
    "for subject in subjects:\n",
    "    counter[subject] += 1\n",
    "\n",
    "print(counter.most_common(3))"
   ]
  },
  {
   "cell_type": "markdown",
   "metadata": {},
   "source": [
    "## Define our own labels"
   ]
  },
  {
   "cell_type": "code",
   "execution_count": 81,
   "metadata": {},
   "outputs": [
    {
     "name": "stdout",
     "output_type": "stream",
     "text": [
      "time taken 17.328874s\n"
     ]
    },
    {
     "data": {
      "text/plain": [
       "(288726, 4016)"
      ]
     },
     "execution_count": 81,
     "metadata": {},
     "output_type": "execute_result"
    }
   ],
   "source": [
    "from sklearn.feature_extraction.text import TfidfVectorizer\n",
    "\n",
    "t0 = time()\n",
    "\n",
    "headline_transformer = TfidfVectorizer(max_df=.5, min_df=50, stop_words=stop_words)\n",
    "headlines = [_clean_doc(_get_headline(doc)) for doc in announcements]\n",
    "X = headline_transformer.fit_transform(headlines)\n",
    "\n",
    "print('time taken %fs' % (time() - t0))\n",
    "X.shape"
   ]
  },
  {
   "cell_type": "code",
   "execution_count": 102,
   "metadata": {},
   "outputs": [
    {
     "name": "stdout",
     "output_type": "stream",
     "text": [
      "Grant Of Permission To Establish Oils And Oleoresin Essential Oils Plant Of Capacity - 600 Kilo Liters Per Year At Agro Division.  \n",
      "\n",
      "  This is to inform you that the Chhattisgarh Environment Conservation Board, vide its letters dated 20.01.2021 has granted its consent to the Company, to establish Oils and Oleoresin Essential Oils Plant of capacity - 600 Kilo Liters Per Year within existing Agro plant premises at Khasra No. 150, 151/1, 151/4 & 151/5, Urla Guma Road, Village - Borjhara, District - Raipur (C.G.) under Water (Prevention and Control of Pollution) Act, 1974 and Air (Prevention and Control of Pollution) Act 1981. These facilities are presently under commissioning and the Company expects to start Commercial operations in these facilities as quickly as possible after grant of permission to operate.<BR> <BR> Currently, the Company is engaged in the business of Iron, Steel and Ready to eat frozen foods. Now the management has decided to diversify its boundary. As a part of the strategy, the Company will soon launch its Supercritical fluid extraction (SCFE) Products.<BR> \n",
      "[(0.27236082351441404, 'control'), (0.2467054201026848, 'plant'), (0.22520868851323464, 'facilities'), (0.19129510724543083, 'prevention'), (0.17155506271216076, 'act'), (0.1618597921501963, 'commissioning'), (0.16081748070809174, 'possible'), (0.16056648539922647, 'raipur')]\n",
      "\n",
      "\n",
      "\n",
      " Counter({'unknown': 7182, 'sast': 1163, 'duplicate_certificate': 731, 'investor meet': 537, 'meeting results': 232, 'acquisition': 75, 'scheme of arrangement': 40, 'demise': 11, 'bm consider dividend': 8, 'strike': 6, 'warrant conversion': 2, 'gas discovery': 2, 'commercial production': 2, 'general disclosure': 1, 'revised result': 1, 'revision': 1, 'appreciation': 1, 'no information': 1, 'order update': 1, 'usfda approval': 1, 'new product': 1, 'amalgamation update': 1})\n"
     ]
    }
   ],
   "source": [
    "from collections import Counter\n",
    "\n",
    "UNKNOWN = \"unknown\"\n",
    "\n",
    "def _print_important_words(headline):\n",
    "    row = headline_transformer.transform([headline])\n",
    "    names = headline_transformer.get_feature_names_out()\n",
    "    row = row.toarray()[0]\n",
    "    name_vals = sorted(zip(row, names), reverse=True)\n",
    "    print(name_vals[:8])\n",
    "\n",
    "def _case_insensitive_dict(d):\n",
    "    return {k.lower(): v.lower() for k, v in d.items()}\n",
    "\n",
    "def _get_headline(doc):\n",
    "    return (\n",
    "        doc[\"headline\"]\n",
    "        if len(doc['headline']) > len(doc['more'])\n",
    "        else doc[\"more\"]\n",
    "    )\n",
    "\n",
    "def _reset_labels(docs):\n",
    "    for doc in docs:\n",
    "        doc['label'] = UNKNOWN\n",
    "\n",
    "def _set_label(doc, label):\n",
    "    is_already_set = (doc['label'] != UNKNOWN) and (label != doc['label'])\n",
    "    if is_already_set:\n",
    "        raise ValueError('Document already has label', doc['label'], doc['subject'])\n",
    "    \n",
    "    doc['label'] = label\n",
    "\n",
    "\n",
    "def _set_labels(docs):\n",
    "    for doc in docs:\n",
    "        subject = doc[\"subject\"].casefold()\n",
    "        headline = _get_headline(doc).casefold()\n",
    "\n",
    "        if \"label\" not in doc:\n",
    "            doc[\"label\"] = UNKNOWN\n",
    "\n",
    "        for ph_sub, label in subject__labels.items():\n",
    "            if ph_sub in subject:\n",
    "                _set_label(doc, label)\n",
    "\n",
    "        for ph_headline, label in headline__labels.items():\n",
    "            if ph_headline in headline:\n",
    "                _set_label(doc, label)\n",
    "\n",
    "        for ph, label in any__labels.items():\n",
    "            if (ph in subject) or (ph in headline):\n",
    "                _set_label(doc, label)\n",
    "\n",
    "def _print_stats(docs):\n",
    "    counter = Counter()\n",
    "    for doc in docs:\n",
    "        counter[doc['label']] += 1\n",
    "    print(\"\\n\\n\\n\", counter)\n",
    "\n",
    "def _print_first_unknown(docs):\n",
    "    for doc in docs:\n",
    "        if doc['label'] == UNKNOWN:\n",
    "            headline = _get_headline(doc)\n",
    "            print(doc['subject'], \"\\n\\n\", headline)\n",
    "            _print_important_words(headline)\n",
    "            return\n",
    "\n",
    "# labels\n",
    "subject__labels = _case_insensitive_dict({\n",
    "    \"details of loss of certificate\": \"duplicate_certificate\",\n",
    "    \"duplicate certificate\": \"duplicate_certificate\",\n",
    "    \"investor meet\": \"investor meet\",\n",
    "    \"general disclosure under the securities\": \"general disclosure\",\n",
    "    \"(LODR)-Acquisition\": \"acquisition\",\n",
    "    \"proceedings of postal ballot\": \"meeting results\",\n",
    "    \"scrutinizer''s report\": \"meeting results\",\n",
    "    \"voting results\": \"meeting results\",\n",
    "    \"strikes /lockouts / disturbances\": \"strike\",\n",
    "    \"Rectifying The Above Typographical Error\": \"revision\",\n",
    "    \"revised result\": \"revised result\",\n",
    "    \"SAST\": \"sast\",\n",
    "    \"Becomes 3Rd Largest\": \"appreciation\",\n",
    "    \"Gas Discovery\": \"gas discovery\",\n",
    "    \"Scheme of Arrangement\": \"scheme of arrangement\",\n",
    "#     \"Closure of Trading Window\": \"trading window\",\n",
    "    \"demise\": \"demise\",\n",
    "    \"Consider Dividend\": \"bm consider dividend\",\n",
    "})\n",
    "headline__labels = _case_insensitive_dict({\n",
    "    \"conversion of the warrants\": \"warrant conversion\",\n",
    "    \"commenced commercial production\": \"commercial production\",\n",
    "#     \"start Commercial operations\": \"commercial production\",\n",
    "    \"discovers gas\": \"gas discovery\",\n",
    "    \"Company has no information\": \"no information\",\n",
    "    \"awarded the order\": \"order update\",\n",
    "    \"receives USFDA approval\": \"usfda approval\",\n",
    "    \"launch its new\": \"new product\",\n",
    "    \"amalgamation update\": \"amalgamation update\",\n",
    "})\n",
    "any__labels = _case_insensitive_dict({\n",
    "    \n",
    "})\n",
    "        \n",
    "# take first n docs\n",
    "docs = announcements[:10000]\n",
    "_reset_labels(docs)\n",
    "_set_labels(docs)\n",
    "_print_first_unknown(docs)\n",
    "_print_stats(docs)"
   ]
  },
  {
   "cell_type": "code",
   "execution_count": null,
   "metadata": {},
   "outputs": [],
   "source": []
  },
  {
   "cell_type": "markdown",
   "metadata": {},
   "source": [
    "## Extract clusters"
   ]
  },
  {
   "cell_type": "code",
   "execution_count": 190,
   "metadata": {},
   "outputs": [
    {
     "name": "stderr",
     "output_type": "stream",
     "text": [
      "[nltk_data] Downloading package omw-1.4 to\n",
      "[nltk_data]     /Users/pratyush/nltk_data...\n",
      "[nltk_data]   Package omw-1.4 is already up-to-date!\n"
     ]
    },
    {
     "data": {
      "text/plain": [
       "True"
      ]
     },
     "execution_count": 190,
     "metadata": {},
     "output_type": "execute_result"
    }
   ],
   "source": [
    "import nltk\n",
    "nltk.download('omw-1.4')"
   ]
  },
  {
   "cell_type": "code",
   "execution_count": 191,
   "metadata": {},
   "outputs": [
    {
     "name": "stdout",
     "output_type": "stream",
     "text": [
      "done in 28.805475s\n",
      "samples, features = (288726, 3954)\n"
     ]
    }
   ],
   "source": [
    "from time import time\n",
    "from sklearn.feature_extraction.text import TfidfVectorizer\n",
    "from functools import lru_cache\n",
    "\n",
    "from nltk.stem import WordNetLemmatizer, SnowballStemmer\n",
    "from nltk.tokenize import wordpunct_tokenize\n",
    "from nltk.corpus import stopwords\n",
    "\n",
    "stemmer = WordNetLemmatizer()\n",
    "\n",
    "@lru_cache(maxsize=1024)\n",
    "def _get_stem(word):\n",
    "    return stemmer.lemmatize(word)\n",
    "\n",
    "class LemmaTokenizer:\n",
    "\n",
    "    def __call__(self, doc):\n",
    "        return [\n",
    "            _get_stem(t)\n",
    "            for t in wordpunct_tokenize(doc)\n",
    "            if t not in stop_words\n",
    "        ]\n",
    "\n",
    "t0 = time()\n",
    "vectorizer = TfidfVectorizer(\n",
    "        max_df=0.5,\n",
    "        min_df=50,\n",
    "        use_idf=True,\n",
    "        tokenizer=LemmaTokenizer(),\n",
    "    )\n",
    "X = vectorizer.fit_transform(data)\n",
    "\n",
    "print(\"done in %fs\" % (time() - t0))\n",
    "print(\"samples, features =\", X.shape)"
   ]
  },
  {
   "cell_type": "code",
   "execution_count": 192,
   "metadata": {},
   "outputs": [
    {
     "name": "stdout",
     "output_type": "stream",
     "text": [
      "Compliances-Reg. 39 (3) - Details of Loss of Certificate / Duplicate Certificate\n",
      "\n",
      "Pursuant to Regulation 39(3) of the lodr, we wish to inform you that the Company has received requests for issue of duplicate share certificates in lieu of the old certificates which have been reported lost/misplaced by the shareholders.\n"
     ]
    },
    {
     "data": {
      "text/plain": [
       "[array(['shareholder', 'misplaced', 'lost', 'reported', 'old', 'lieu',\n",
       "        'share', 'issue', 'request', 'received', 'inform', 'wish', 'lodr',\n",
       "        'regulation', 'pursuant', 'duplicate', '/', 'certificate', 'loss',\n",
       "        'detail', ')', '3', '39', 'reg', 'compliance'], dtype='<U31')]"
      ]
     },
     "execution_count": 192,
     "metadata": {},
     "output_type": "execute_result"
    }
   ],
   "source": [
    "print(data[0])\n",
    "vectorizer.inverse_transform(X[0])"
   ]
  },
  {
   "cell_type": "code",
   "execution_count": 193,
   "metadata": {},
   "outputs": [
    {
     "data": {
      "text/plain": [
       "[(0.4557245634942922, 'certificate'),\n",
       " (0.30723194177184804, 'duplicate'),\n",
       " (0.3060136142836076, '39'),\n",
       " (0.28995195162473086, 'old'),\n",
       " (0.2508382344962418, 'misplaced'),\n",
       " (0.23645878488184593, 'lieu'),\n",
       " (0.23353188881729645, 'reported'),\n",
       " (0.2308140041831322, 'lost')]"
      ]
     },
     "execution_count": 193,
     "metadata": {},
     "output_type": "execute_result"
    }
   ],
   "source": [
    "def _inverse_transform_weight(vectorizer, row):\n",
    "    names = vectorizer.get_feature_names_out()\n",
    "    row = row.toarray()[0]\n",
    "    name_vals = sorted(zip(row, names), reverse=True)\n",
    "    return name_vals[:8]\n",
    "\n",
    "_inverse_transform_weight(vectorizer, X[0])"
   ]
  },
  {
   "cell_type": "code",
   "execution_count": 194,
   "metadata": {},
   "outputs": [
    {
     "name": "stdout",
     "output_type": "stream",
     "text": [
      "Announcement under  lodr-Allotment\n",
      "\n",
      "With reference to above and further to our intimation date 27th February, 2021, this is to inform you that warrant holders (i.e. Promoter Group entities) have exercised their right for conversion of the warrants into equity shares of the Company. Consequently, the Board of Directors of the Company at their meeting held today i.e. on 14th March, 2021 has allotted 1,01,76,923 equity shares of face value of Re. 1/- each (with a premium of Rs. 51/- per equity share) pursuant to exercise of 1,01,76,923 convertible warrants.  These equity shares allotted on conversion of the warrants, shall rank pari passu, in all respects with the existing equity shares.  Post the allotment of equity shares, the paid up equity shares of the Company has increased from INR 27,38,35,000/- (Rupees Twenty Seven Crore Thirty Eight Lakhs Thirty Five Thousand only) to INR 28,40,11,923/- (Rupees Twenty Eight Crore Forty Lakhs Eleven Thousand Nine Hundred and Twenty Three only)  \n"
     ]
    },
    {
     "data": {
      "text/plain": [
       "[(0.3373788532709151, 'equity'),\n",
       " (0.33470556160102627, 'warrant'),\n",
       " (0.24898365907456949, 'twenty'),\n",
       " (0.24503231554560412, 'share'),\n",
       " (0.2396079208383139, '/-'),\n",
       " (0.20335795959883743, '76'),\n",
       " (0.18559315284744632, 'conversion'),\n",
       " (0.17533108415528312, 'thirty')]"
      ]
     },
     "execution_count": 194,
     "metadata": {},
     "output_type": "execute_result"
    }
   ],
   "source": [
    "print(data[1])\n",
    "_inverse_transform_weight(vectorizer, X[1])"
   ]
  },
  {
   "cell_type": "code",
   "execution_count": 195,
   "metadata": {},
   "outputs": [
    {
     "name": "stdout",
     "output_type": "stream",
     "text": [
      "General Disclosure Under The sebi lodr regulations 2015 - 3B Binani Glassfibre SARL\n",
      "\n",
      "General Disclosure under the sebi lodr regulations 2015 - 3B Binani Glassfibre SARL\n"
     ]
    },
    {
     "data": {
      "text/plain": [
       "[(0.7378048314900639, 'general'),\n",
       " (0.3631716328084742, 'disclosure'),\n",
       " (0.3510199383339402, '2015'),\n",
       " (0.28409910008449857, 'sebi'),\n",
       " (0.24710787250664928, 'lodr'),\n",
       " (0.24240626914664926, 'regulation'),\n",
       " (0.0, '™'),\n",
       " (0.0, '”)')]"
      ]
     },
     "execution_count": 195,
     "metadata": {},
     "output_type": "execute_result"
    }
   ],
   "source": [
    "print(data[2])\n",
    "_inverse_transform_weight(vectorizer, X[2])"
   ]
  },
  {
   "cell_type": "code",
   "execution_count": 196,
   "metadata": {},
   "outputs": [
    {
     "name": "stdout",
     "output_type": "stream",
     "text": [
      "Revised Result For Quarter And Nine Months Ended On 31.12.2020 In Format Asked Through Mail\n",
      "\n",
      "Dear Sir,  Please find enclosed herewith the revised Results for the quarter and nine months ended on 31.12.2020 as asked by you through mail and proforma approved through mail.  Thanking You with Regards Yours Faithfully  For  Rishab Special Yarns Limited    Managing Director DIN: 00349697\n"
     ]
    },
    {
     "data": {
      "text/plain": [
       "[(0.5481677421225989, 'mail'),\n",
       " (0.3057026155019582, 'revised'),\n",
       " (0.2503492109973148, 'nine'),\n",
       " (0.24483113416651148, 'yarn'),\n",
       " (0.239126960716256, 'month'),\n",
       " (0.23309085854503653, '12'),\n",
       " (0.22828571150957902, '2020'),\n",
       " (0.18385685253095252, 'special')]"
      ]
     },
     "execution_count": 196,
     "metadata": {},
     "output_type": "execute_result"
    }
   ],
   "source": [
    "print(data[3])\n",
    "_inverse_transform_weight(vectorizer, X[3])"
   ]
  },
  {
   "cell_type": "code",
   "execution_count": 197,
   "metadata": {},
   "outputs": [
    {
     "name": "stdout",
     "output_type": "stream",
     "text": [
      "Announcement under  lodr-Acquisition\n",
      "\n",
      "We wish to inform you that Axis Bank Limited has entered into definitive agreements with Fettle Tone LLP and the other partners of Fettle Tone LLP on 13th March 2021 in connection with Axis Bank Limited's proposed acquisition of 9.90% of the aggregate partnership interest of Fettle Tone LLP pursuant to a contribution by Axis Bank Limited in Fettle Tone LLP's partnership capital.  The details as required under  of the sebi (Listing Obligations & Disclosure Requirements) regulations 2015 are attached. \n"
     ]
    },
    {
     "data": {
      "text/plain": [
       "[(0.4670645487041499, 'llp'),\n",
       " (0.4650074298410163, 'axis'),\n",
       " (0.3154553540235189, 'partnership'),\n",
       " (0.29135420044096133, 'bank'),\n",
       " (0.21526777748755083, 'acquisition'),\n",
       " (0.1740387700355057, 'definitive'),\n",
       " (0.16145278586894393, 'limited'),\n",
       " (0.1590115339222823, 'contribution')]"
      ]
     },
     "execution_count": 197,
     "metadata": {},
     "output_type": "execute_result"
    }
   ],
   "source": [
    "print(data[4])\n",
    "_inverse_transform_weight(vectorizer, X[4])"
   ]
  },
  {
   "cell_type": "markdown",
   "metadata": {},
   "source": [
    "## Returning to our code"
   ]
  },
  {
   "cell_type": "code",
   "execution_count": 33,
   "metadata": {},
   "outputs": [
    {
     "name": "stdout",
     "output_type": "stream",
     "text": [
      "Extracting tf-idf features for NMF...\n",
      "done in 0.173s.\n"
     ]
    }
   ],
   "source": [
    "# now data we have a sample data,\n",
    "# lets convert it to a tf-idf vector\n",
    "\n",
    "from sklearn.feature_extraction.text import TfidfVectorizer\n",
    "\n",
    "# exclude common English words\n",
    "# also exclude words only one document\n",
    "# or in at least 95% of the documents\n",
    "print(\"Extracting tf-idf features for NMF...\")\n",
    "tfidf_vectorizer = TfidfVectorizer(\n",
    "    max_df=0.95, # ignore words which are present in over 95% documents\n",
    "    min_df=2, # ignore words which are present in less than 2 documents\n",
    "    max_features=1000, # consider only the top 1000 words by frequency\n",
    "    stop_words=\"english\", # ignore common english words such as the\n",
    ")\n",
    "\n",
    "t0 = time()\n",
    "tfidf = tfidf_vectorizer.fit_transform(data_samples)\n",
    "print(\"done in %0.3fs.\" % (time() - t0))"
   ]
  },
  {
   "cell_type": "code",
   "execution_count": 35,
   "metadata": {},
   "outputs": [
    {
     "data": {
      "text/plain": [
       "array(['00', '000', '10', '100', '11', '12', '128', '13', '130', '14',\n",
       "       '15', '16', '17', '18', '19', '1992', '1993', '20', '200', '21',\n",
       "       '22', '23', '24', '25', '250', '26', '27', '28', '29', '2nd', '30',\n",
       "       '300', '31', '32', '33', '34', '35', '36', '37', '38', '3d', '40',\n",
       "       '42', '43', '44', '45', '48', '49', '50', '500', '51', '55', '60',\n",
       "       '66', '70', '72', '75', '80', '800', '86', '90', '92', '93', '__',\n",
       "       'able', 'ac', 'accept', 'access', 'according', 'act', 'action',\n",
       "       'actually', 'add', 'added', 'addition', 'address',\n",
       "       'administration', 'advance', 'age', 'ago', 'agree', 'aids', 'air',\n",
       "       'al', 'allow', 'allowed', 'alt', 'america', 'american', 'amiga',\n",
       "       'analysis', 'anonymous', 'answer', 'answers', 'anti', 'anybody',\n",
       "       'apartment', 'appears', 'apple', 'application', 'applications',\n",
       "       'apply', 'appreciated', 'approach', 'appropriate', 'apr', 'april',\n",
       "       'archive', 'area', 'areas', 'aren', 'argument', 'armenia',\n",
       "       'armenian', 'armenians', 'army', 'article', 'ask', 'asked',\n",
       "       'asking', 'assume', 'atheism', 'attack', 'attacks', 'attempt',\n",
       "       'au', 'author', 'authority', 'available', 'average', 'away',\n",
       "       'azerbaijan', 'bad', 'based', 'basic', 'basically', 'begin',\n",
       "       'belief', 'believe', 'best', 'better', 'bible', 'big', 'bike',\n",
       "       'billion', 'bios', 'bit', 'black', 'block', 'blood', 'blue',\n",
       "       'board', 'bob', 'body', 'book', 'books', 'bought', 'box', 'brake',\n",
       "       'break', 'bring', 'btw', 'build', 'building', 'built', 'bus',\n",
       "       'business', 'buy', 'buying', 'ca', 'cable', 'called', 'calls',\n",
       "       'came', 'canada', 'car', 'card', 'cards', 'care', 'carry', 'cars',\n",
       "       'case', 'cases', 'cause', 'cc', 'cd', 'center', 'certain',\n",
       "       'certainly', 'chance', 'change', 'changed', 'changes', 'cheap',\n",
       "       'check', 'children', 'chip', 'choice', 'christ', 'christian',\n",
       "       'christians', 'church', 'citizens', 'city', 'claim', 'clear',\n",
       "       'clearly', 'clinton', 'clipper', 'clock', 'close', 'code', 'cold',\n",
       "       'color', 'com', 'come', 'comes', 'coming', 'command', 'comments',\n",
       "       'commercial', 'common', 'communications', 'community', 'comp',\n",
       "       'company', 'complete', 'completely', 'computer', 'condition',\n",
       "       'conference', 'congress', 'connector', 'consider', 'considered',\n",
       "       'contact', 'containing', 'contains', 'continue', 'control',\n",
       "       'controller', 'copies', 'copy', 'correct', 'cost', 'costs',\n",
       "       'couldn', 'countries', 'country', 'couple', 'course', 'court',\n",
       "       'cover', 'create', 'created', 'crime', 'crowd', 'cs', 'cubs',\n",
       "       'current', 'currently', 'cut', 'dangerous', 'data', 'database',\n",
       "       'date', 'dave', 'david', 'day', 'days', 'dc', 'dead', 'deal',\n",
       "       'death', 'dec', 'decided', 'defense', 'deleted', 'department',\n",
       "       'design', 'designed', 'details', 'developed', 'development',\n",
       "       'device', 'devices', 'did', 'didn', 'die', 'died', 'difference',\n",
       "       'different', 'difficult', 'digital', 'directly', 'directory',\n",
       "       'discussion', 'disease', 'disk', 'display', 'division', 'does',\n",
       "       'doesn', 'dog', 'doing', 'dollars', 'don', 'door', 'dos', 'dot',\n",
       "       'doubt', 'dr', 'drive', 'driver', 'drivers', 'drives', 'driving',\n",
       "       'drug', 'earlier', 'early', 'earth', 'easily', 'easy', 'edu',\n",
       "       'effect', 'effective', 'effort', 'email', 'encrypted',\n",
       "       'encryption', 'end', 'energy', 'enforcement', 'engine', 'entire',\n",
       "       'equipment', 'eric', 'error', 'especially', 'events', 'evidence',\n",
       "       'exactly', 'example', 'excellent', 'exist', 'expect', 'experience',\n",
       "       'explain', 'extra', 'face', 'fact', 'fair', 'fairly', 'faith',\n",
       "       'family', 'faq', 'far', 'fast', 'faster', 'father', 'fax',\n",
       "       'feature', 'features', 'federal', 'feel', 'field', 'figure',\n",
       "       'file', 'files', 'final', 'finally', 'fine', 'firearm', 'fit',\n",
       "       'floppy', 'flyers', 'folks', 'follow', 'following', 'food',\n",
       "       'force', 'forget', 'form', 'format', 'formats', 'free', 'freedom',\n",
       "       'friend', 'ftp', 'function', 'future', 'game', 'games', 'gas',\n",
       "       'gave', 'gay', 'general', 'generally', 'gets', 'getting', 'given',\n",
       "       'gives', 'giving', 'gm', 'goal', 'god', 'goes', 'going', 'gone',\n",
       "       'good', 'got', 'gov', 'government', 'graphics', 'great', 'greek',\n",
       "       'ground', 'group', 'groups', 'guess', 'gun', 'guns', 'guy', 'half',\n",
       "       'hand', 'happen', 'happened', 'happens', 'happy', 'hard',\n",
       "       'hardware', 'haven', 'having', 'head', 'heads', 'health', 'hear',\n",
       "       'heard', 'heart', 'heaven', 'held', 'hell', 'help', 'hi', 'high',\n",
       "       'higher', 'history', 'hit', 'hiv', 'hockey', 'hold', 'home',\n",
       "       'hope', 'hospital', 'hot', 'hours', 'house', 'hp', 'human', 'ibm',\n",
       "       'id', 'idea', 'ii', 'image', 'images', 'imagine', 'important',\n",
       "       'include', 'included', 'includes', 'including', 'increase',\n",
       "       'individual', 'info', 'information', 'input', 'inside', 'instead',\n",
       "       'insurance', 'interested', 'interesting', 'interface', 'internal',\n",
       "       'international', 'internet', 'involved', 'isn', 'israel',\n",
       "       'israeli', 'issue', 'james', 'jesus', 'jewish', 'jews', 'job',\n",
       "       'jobs', 'john', 'just', 'kept', 'key', 'keys', 'kill', 'killed',\n",
       "       'killing', 'kind', 'knew', 'know', 'knowledge', 'known', 'knows',\n",
       "       'lack', 'land', 'language', 'large', 'late', 'later', 'latest',\n",
       "       'launch', 'law', 'laws', 'leafs', 'learn', 'leave', 'led', 'left',\n",
       "       'legal', 'let', 'letter', 'level', 'library', 'license', 'life',\n",
       "       'light', 'like', 'likely', 'limited', 'line', 'lines', 'list',\n",
       "       'listen', 'little', 'live', 'lives', 'living', 'll', 'local',\n",
       "       'long', 'longer', 'look', 'looking', 'looks', 'lord', 'lost',\n",
       "       'lot', 'lots', 'love', 'low', 'luck', 'lunar', 'mac', 'machine',\n",
       "       'machines', 'magi', 'mail', 'main', 'major', 'make', 'makes',\n",
       "       'making', 'mamma', 'man', 'manager', 'manual', 'mark', 'market',\n",
       "       'marriage', 'mars', 'mary', 'mass', 'master', 'math', 'matter',\n",
       "       'maybe', 'mb', 'mean', 'meaning', 'means', 'media', 'medical',\n",
       "       'member', 'members', 'memory', 'men', 'mention', 'mentioned',\n",
       "       'message', 'middle', 'mike', 'mil', 'miles', 'military', 'million',\n",
       "       'mind', 'mission', 'mit', 'mode', 'model', 'models', 'modern',\n",
       "       'money', 'monitor', 'months', 'moon', 'moral', 'mother', 'motif',\n",
       "       'mr', 'ms', 'nasa', 'national', 'nature', 'navy', 'near',\n",
       "       'necessary', 'need', 'needed', 'needs', 'net', 'network', 'new',\n",
       "       'news', 'newsgroup', 'nhl', 'nice', 'night', 'non', 'normal',\n",
       "       'north', 'note', 'nsa', 'number', 'numbers', 'objects', 'obvious',\n",
       "       'offer', 'office', 'oh', 'oil', 'ok', 'old', 'older', 'ones',\n",
       "       'open', 'opinion', 'opinions', 'orbit', 'order', 'org',\n",
       "       'organization', 'original', 'os', 'output', 'outside', 'package',\n",
       "       'page', 'paper', 'papers', 'parents', 'particular', 'parts',\n",
       "       'party', 'pass', 'past', 'paul', 'pay', 'pc', 'people',\n",
       "       'performance', 'period', 'person', 'personal', 'peter', 'phone',\n",
       "       'pick', 'piece', 'pin', 'pittsburgh', 'place', 'places', 'plan',\n",
       "       'play', 'played', 'player', 'players', 'playing', 'plus', 'point',\n",
       "       'points', 'police', 'policy', 'political', 'population', 'port',\n",
       "       'position', 'possible', 'post', 'posted', 'posting', 'power', 'pp',\n",
       "       'present', 'president', 'press', 'pretty', 'price', 'printer',\n",
       "       'private', 'pro', 'probably', 'probe', 'probes', 'problem',\n",
       "       'problems', 'process', 'product', 'program', 'programs', 'project',\n",
       "       'prove', 'provide', 'pub', 'public', 'purpose', 'putting',\n",
       "       'quality', 'question', 'questions', 'quite', 'radio', 'ram',\n",
       "       'range', 'rate', 'rates', 'ray', 'read', 'reading', 'real',\n",
       "       'really', 'reason', 'reasonable', 'received', 'recent', 'recently',\n",
       "       'recommend', 'record', 'red', 'reference', 'regular', 'related',\n",
       "       'release', 'religion', 'religious', 'remember', 'reply', 'report',\n",
       "       'request', 'require', 'required', 'research', 'response', 'rest',\n",
       "       'result', 'results', 'return', 'right', 'rights', 'road', 'robert',\n",
       "       'role', 'rom', 'room', 'rules', 'run', 'running', 'runs', 'safety',\n",
       "       'said', 'sale', 'san', 'save', 'saw', 'say', 'saying', 'says',\n",
       "       'school', 'sci', 'science', 'scientific', 'screen', 'scsi',\n",
       "       'search', 'season', 'second', 'section', 'secure', 'security',\n",
       "       'seen', 'self', 'sell', 'send', 'sense', 'sent', 'serial',\n",
       "       'series', 'seriously', 'server', 'service', 'set', 'sex', 'sgi',\n",
       "       'shall', 'short', 'shot', 'shots', 'shows', 'shuttle', 'signal',\n",
       "       'similar', 'simple', 'simply', 'sin', 'single', 'site',\n",
       "       'situation', 'size', 'slow', 'small', 'society', 'software',\n",
       "       'solar', 'sold', 'soldiers', 'soon', 'sorry', 'sort', 'sound',\n",
       "       'sounds', 'source', 'sources', 'soviet', 'space', 'spacecraft',\n",
       "       'special', 'specific', 'specifically', 'speed', 'st', 'standard',\n",
       "       'start', 'started', 'starting', 'state', 'statement', 'states',\n",
       "       'station', 'stay', 'stop', 'story', 'street', 'strong', 'study',\n",
       "       'stuff', 'stupid', 'subject', 'suggest', 'sun', 'support',\n",
       "       'supported', 'supports', 'suppose', 'supposed', 'sure', 'surface',\n",
       "       'switch', 'systems', 'taken', 'takes', 'taking', 'talk', 'talking',\n",
       "       'tape', 'team', 'teams', 'technical', 'technology', 'tell', 'term',\n",
       "       'test', 'text', 'thank', 'thanks', 'theory', 'thing', 'things',\n",
       "       'think', 'thinking', 'thought', 'time', 'times', 'tires', 'today',\n",
       "       'told', 'took', 'toronto', 'total', 'town', 'traffic', 'transfer',\n",
       "       'tried', 'trouble', 'true', 'trust', 'truth', 'try', 'trying',\n",
       "       'turkish', 'turn', 'turned', 'tv', 'type', 'types', 'uk',\n",
       "       'understand', 'unfortunately', 'united', 'university', 'unix',\n",
       "       'unless', 'use', 'used', 'useful', 'user', 'users', 'uses',\n",
       "       'using', 'usually', 'value', 'van', 'various', 've', 'version',\n",
       "       'vga', 'video', 'view', 'volume', 'vs', 'want', 'wanted', 'wants',\n",
       "       'war', 'washington', 'wasn', 'water', 'way', 'weapon', 'weapons',\n",
       "       'week', 'weeks', 'went', 'western', 'white', 'wife', 'willing',\n",
       "       'win', 'window', 'windows', 'wish', 'woman', 'women', 'won',\n",
       "       'wonder', 'wondering', 'word', 'words', 'work', 'worked',\n",
       "       'working', 'works', 'world', 'worse', 'worth', 'wouldn', 'write',\n",
       "       'written', 'wrong', 'xfree86', 'year', 'years', 'yes', 'young'],\n",
       "      dtype=object)"
      ]
     },
     "execution_count": 35,
     "metadata": {},
     "output_type": "execute_result"
    }
   ],
   "source": [
    "tfidf_vectorizer.get_feature_names_out()"
   ]
  },
  {
   "cell_type": "code",
   "execution_count": 34,
   "metadata": {},
   "outputs": [
    {
     "data": {
      "text/plain": [
       "array([[0.        , 0.        , 0.        , ..., 0.        , 0.        ,\n",
       "        0.        ],\n",
       "       [0.        , 0.        , 0.        , ..., 0.        , 0.        ,\n",
       "        0.        ],\n",
       "       [0.        , 0.        , 0.        , ..., 0.        , 0.        ,\n",
       "        0.        ],\n",
       "       ...,\n",
       "       [0.        , 0.        , 0.08365563, ..., 0.        , 0.        ,\n",
       "        0.        ],\n",
       "       [0.        , 0.        , 0.        , ..., 0.12574832, 0.04605022,\n",
       "        0.06032677],\n",
       "       [0.        , 0.        , 0.        , ..., 0.        , 0.        ,\n",
       "        0.        ]])"
      ]
     },
     "execution_count": 34,
     "metadata": {},
     "output_type": "execute_result"
    }
   ],
   "source": [
    "tfidf.toarray()"
   ]
  },
  {
   "cell_type": "code",
   "execution_count": 36,
   "metadata": {},
   "outputs": [
    {
     "name": "stdout",
     "output_type": "stream",
     "text": [
      "Extracting tf features for LDA...\n",
      "done in 0.187s.\n"
     ]
    },
    {
     "data": {
      "text/plain": [
       "array([[0, 0, 0, ..., 0, 0, 0],\n",
       "       [0, 0, 0, ..., 0, 0, 0],\n",
       "       [0, 0, 0, ..., 0, 0, 0],\n",
       "       ...,\n",
       "       [0, 0, 1, ..., 0, 0, 0],\n",
       "       [0, 0, 0, ..., 3, 1, 1],\n",
       "       [0, 0, 0, ..., 0, 0, 0]])"
      ]
     },
     "execution_count": 36,
     "metadata": {},
     "output_type": "execute_result"
    }
   ],
   "source": [
    "# we might need simple (unweighted) countVector as well\n",
    "#\n",
    "# Use tf (raw term count) features for LDA.\n",
    "print(\"Extracting tf features for LDA...\")\n",
    "tf_vectorizer = CountVectorizer(\n",
    "    max_df=0.95, min_df=2, max_features=n_features, stop_words=\"english\"\n",
    ")\n",
    "t0 = time()\n",
    "tf = tf_vectorizer.fit_transform(data_samples)\n",
    "print(\"done in %0.3fs.\" % (time() - t0))\n",
    "\n",
    "tf.toarray()"
   ]
  },
  {
   "cell_type": "code",
   "execution_count": 7,
   "metadata": {},
   "outputs": [],
   "source": [
    "\n",
    "from time import time\n",
    "import matplotlib.pyplot as plt\n",
    "\n",
    "from sklearn.feature_extraction.text import TfidfVectorizer, CountVectorizer\n",
    "from sklearn.decomposition import NMF, LatentDirichletAllocation\n",
    "from sklearn.datasets import fetch_20newsgroups\n",
    "\n",
    "n_components = 10\n",
    "n_top_words = 20\n",
    "\n",
    "\n",
    "def plot_top_words(model, feature_names, n_top_words, title):\n",
    "    fig, axes = plt.subplots(2, 5, figsize=(30, 15), sharex=True)\n",
    "    axes = axes.flatten()\n",
    "    for topic_idx, topic in enumerate(model.components_):\n",
    "        top_features_ind = topic.argsort()[: -n_top_words - 1 : -1]\n",
    "        top_features = [feature_names[i] for i in top_features_ind]\n",
    "        weights = topic[top_features_ind]\n",
    "\n",
    "        ax = axes[topic_idx]\n",
    "        ax.barh(top_features, weights, height=0.7)\n",
    "        ax.set_title(f\"Topic {topic_idx +1}\", fontdict={\"fontsize\": 30})\n",
    "        ax.invert_yaxis()\n",
    "        ax.tick_params(axis=\"both\", which=\"major\", labelsize=20)\n",
    "        for i in \"top right left\".split():\n",
    "            ax.spines[i].set_visible(False)\n",
    "        fig.suptitle(title, fontsize=40)\n",
    "\n",
    "    plt.subplots_adjust(top=0.90, bottom=0.05, wspace=0.90, hspace=0.3)\n",
    "    plt.show()\n",
    "\n",
    "\n",
    "\n",
    "\n",
    "\n",
    "\n",
    "# Fit the NMF model\n",
    "print(\n",
    "    \"Fitting the NMF model (Frobenius norm) with tf-idf features, \"\n",
    "    \"n_samples=%d and n_features=%d...\" % (n_samples, n_features)\n",
    ")\n",
    "t0 = time()\n",
    "nmf = NMF(n_components=n_components, random_state=1, alpha=0.1, l1_ratio=0.5).fit(tfidf)\n",
    "print(\"done in %0.3fs.\" % (time() - t0))\n",
    "\n",
    "\n",
    "tfidf_feature_names = tfidf_vectorizer.get_feature_names_out()\n",
    "plot_top_words(\n",
    "    nmf, tfidf_feature_names, n_top_words, \"Topics in NMF model (Frobenius norm)\"\n",
    ")\n",
    "\n",
    "# Fit the NMF model\n",
    "print(\n",
    "    \"\\n\" * 2,\n",
    "    \"Fitting the NMF model (generalized Kullback-Leibler \"\n",
    "    \"divergence) with tf-idf features, n_samples=%d and n_features=%d...\"\n",
    "    % (n_samples, n_features),\n",
    ")\n",
    "t0 = time()\n",
    "nmf = NMF(\n",
    "    n_components=n_components,\n",
    "    random_state=1,\n",
    "    beta_loss=\"kullback-leibler\",\n",
    "    solver=\"mu\",\n",
    "    max_iter=1000,\n",
    "    alpha=0.1,\n",
    "    l1_ratio=0.5,\n",
    ").fit(tfidf)\n",
    "print(\"done in %0.3fs.\" % (time() - t0))\n",
    "\n",
    "tfidf_feature_names = tfidf_vectorizer.get_feature_names_out()\n",
    "plot_top_words(\n",
    "    nmf,\n",
    "    tfidf_feature_names,\n",
    "    n_top_words,\n",
    "    \"Topics in NMF model (generalized Kullback-Leibler divergence)\",\n",
    ")\n",
    "\n",
    "print(\n",
    "    \"\\n\" * 2,\n",
    "    \"Fitting LDA models with tf features, n_samples=%d and n_features=%d...\"\n",
    "    % (n_samples, n_features),\n",
    ")\n",
    "lda = LatentDirichletAllocation(\n",
    "    n_components=n_components,\n",
    "    max_iter=5,\n",
    "    learning_method=\"online\",\n",
    "    learning_offset=50.0,\n",
    "    random_state=0,\n",
    ")\n",
    "t0 = time()\n",
    "lda.fit(tf)\n",
    "print(\"done in %0.3fs.\" % (time() - t0))\n",
    "\n",
    "tf_feature_names = tf_vectorizer.get_feature_names_out()\n",
    "plot_top_words(lda, tf_feature_names, n_top_words, \"Topics in LDA model\")"
   ]
  },
  {
   "cell_type": "code",
   "execution_count": null,
   "metadata": {},
   "outputs": [],
   "source": []
  }
 ],
 "metadata": {
  "kernelspec": {
   "display_name": "Python 3 (ipykernel)",
   "language": "python",
   "name": "python3"
  },
  "language_info": {
   "codemirror_mode": {
    "name": "ipython",
    "version": 3
   },
   "file_extension": ".py",
   "mimetype": "text/x-python",
   "name": "python",
   "nbconvert_exporter": "python",
   "pygments_lexer": "ipython3",
   "version": "3.10.1"
  }
 },
 "nbformat": 4,
 "nbformat_minor": 1
}
