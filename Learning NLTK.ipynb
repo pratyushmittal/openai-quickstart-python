{
 "cells": [
  {
   "cell_type": "markdown",
   "id": "e91fbaa6",
   "metadata": {},
   "source": [
    "# Learning NLTK\n"
   ]
  },
  {
   "cell_type": "code",
   "execution_count": null,
   "id": "618de02c",
   "metadata": {},
   "outputs": [],
   "source": []
  }
 ],
 "metadata": {
  "kernelspec": {
   "display_name": "Python 3.10.1 ('.venv': venv)",
   "language": "python",
   "name": "python3101jvsc74a57bd011e42617eaf54d72848df943762c310f03beebfae1316bb80443774a440186e7"
  },
  "language_info": {
   "codemirror_mode": {
    "name": "ipython",
    "version": 3
   },
   "file_extension": ".py",
   "mimetype": "text/x-python",
   "name": "python",
   "nbconvert_exporter": "python",
   "pygments_lexer": "ipython3",
   "version": "3.10.1"
  }
 },
 "nbformat": 4,
 "nbformat_minor": 5
}
