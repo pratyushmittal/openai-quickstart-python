{
 "cells": [
  {
   "cell_type": "code",
   "execution_count": 1,
   "metadata": {},
   "outputs": [],
   "source": [
    "%matplotlib inline"
   ]
  },
  {
   "cell_type": "markdown",
   "metadata": {},
   "source": [
    "\n",
    "# Topic extraction with Non-negative Matrix Factorization and Latent Dirichlet Allocation\n",
    "\n",
    "This is an example of applying :class:`~sklearn.decomposition.NMF` and\n",
    ":class:`~sklearn.decomposition.LatentDirichletAllocation` on a corpus\n",
    "of documents and extract additive models of the topic structure of the\n",
    "corpus.  The output is a plot of topics, each represented as bar plot\n",
    "using top few words based on weights.\n",
    "\n",
    "Non-negative Matrix Factorization is applied with two different objective\n",
    "functions: the Frobenius norm, and the generalized Kullback-Leibler divergence.\n",
    "The latter is equivalent to Probabilistic Latent Semantic Indexing.\n",
    "\n",
    "The default parameters (n_samples / n_features / n_components) should make\n",
    "the example runnable in a couple of tens of seconds. You can try to\n",
    "increase the dimensions of the problem, but be aware that the time\n",
    "complexity is polynomial in NMF. In LDA, the time complexity is\n",
    "proportional to (n_samples * iterations).\n"
   ]
  },
  {
   "cell_type": "code",
   "execution_count": 2,
   "metadata": {},
   "outputs": [
    {
     "name": "stdout",
     "output_type": "stream",
     "text": [
      "Loading dataset...\n",
      "done in 0.793s.\n"
     ]
    }
   ],
   "source": [
    "from time import time\n",
    "from sklearn.datasets import fetch_20newsgroups\n",
    "\n",
    "n_samples = 2000\n",
    "\n",
    "# Load the 20 newsgroups dataset and vectorize it. We use a few heuristics\n",
    "# to filter out useless terms early on: the posts are stripped of headers,\n",
    "# footers and quoted replies\n",
    "\n",
    "print(\"Loading dataset...\")\n",
    "t0 = time()\n",
    "bunch = fetch_20newsgroups(\n",
    "    shuffle=True,\n",
    "    random_state=1,\n",
    "    remove=(\"headers\", \"footers\", \"quotes\"),\n",
    ")\n",
    "\n",
    "data_samples = bunch.data[:n_samples]\n",
    "print(\"done in %0.3fs.\" % (time() - t0))"
   ]
  },
  {
   "cell_type": "code",
   "execution_count": 3,
   "metadata": {},
   "outputs": [
    {
     "data": {
      "text/plain": [
       "\"Well i'm not sure about the story nad it did seem biased. What\\nI disagree with is your statement that the U.S. Media is out to\\nruin Israels reputation. That is rediculous. The U.S. media is\\nthe most pro-israeli media in the world. Having lived in Europe\\nI realize that incidences such as the one described in the\\nletter have occured. The U.S. media as a whole seem to try to\\nignore them. The U.S. is subsidizing Israels existance and the\\nEuropeans are not (at least not to the same degree). So I think\\nthat might be a reason they report more clearly on the\\natrocities.\\n\\tWhat is a shame is that in Austria, daily reports of\\nthe inhuman acts commited by Israeli soldiers and the blessing\\nreceived from the Government makes some of the Holocaust guilt\\ngo away. After all, look how the Jews are treating other races\\nwhen they got power. It is unfortunate.\\n\""
      ]
     },
     "execution_count": 3,
     "metadata": {},
     "output_type": "execute_result"
    }
   ],
   "source": [
    "data_samples\n",
    "data_samples[0]"
   ]
  },
  {
   "cell_type": "code",
   "execution_count": 4,
   "metadata": {},
   "outputs": [
    {
     "data": {
      "text/plain": [
       "['alt.atheism',\n",
       " 'comp.graphics',\n",
       " 'comp.os.ms-windows.misc',\n",
       " 'comp.sys.ibm.pc.hardware',\n",
       " 'comp.sys.mac.hardware',\n",
       " 'comp.windows.x',\n",
       " 'misc.forsale',\n",
       " 'rec.autos',\n",
       " 'rec.motorcycles',\n",
       " 'rec.sport.baseball',\n",
       " 'rec.sport.hockey',\n",
       " 'sci.crypt',\n",
       " 'sci.electronics',\n",
       " 'sci.med',\n",
       " 'sci.space',\n",
       " 'soc.religion.christian',\n",
       " 'talk.politics.guns',\n",
       " 'talk.politics.mideast',\n",
       " 'talk.politics.misc',\n",
       " 'talk.religion.misc']"
      ]
     },
     "execution_count": 4,
     "metadata": {},
     "output_type": "execute_result"
    }
   ],
   "source": [
    "bunch.target_names"
   ]
  },
  {
   "cell_type": "code",
   "execution_count": 5,
   "metadata": {},
   "outputs": [
    {
     "data": {
      "text/plain": [
       "array([17,  0, 17, ...,  3, 15,  9])"
      ]
     },
     "execution_count": 5,
     "metadata": {},
     "output_type": "execute_result"
    }
   ],
   "source": [
    "labels_samples = bunch.target[:n_samples]\n",
    "labels_samples"
   ]
  },
  {
   "cell_type": "markdown",
   "metadata": {},
   "source": [
    "## Understanding vectorization\n",
    "\n",
    "Following tutorial from https://scikit-learn.org/stable/modules/feature_extraction.html#text-feature-extraction"
   ]
  },
  {
   "cell_type": "code",
   "execution_count": 3,
   "metadata": {},
   "outputs": [
    {
     "data": {
      "text/plain": [
       "CountVectorizer()"
      ]
     },
     "execution_count": 3,
     "metadata": {},
     "output_type": "execute_result"
    }
   ],
   "source": [
    "# playing with countvector\n",
    "from sklearn.feature_extraction.text import CountVectorizer\n",
    "\n",
    "vectorizer = CountVectorizer()\n",
    "vectorizer"
   ]
  },
  {
   "cell_type": "code",
   "execution_count": 21,
   "metadata": {},
   "outputs": [
    {
     "data": {
      "text/plain": [
       "<4x9 sparse matrix of type '<class 'numpy.int64'>'\n",
       "\twith 19 stored elements in Compressed Sparse Row format>"
      ]
     },
     "execution_count": 21,
     "metadata": {},
     "output_type": "execute_result"
    }
   ],
   "source": [
    "corpus = [\n",
    "     'This is the first first document.',\n",
    "     'This is the second second document.',\n",
    "     'And the third one.',\n",
    "     'Is this the first document?',\n",
    "]\n",
    "\n",
    "X = vectorizer.fit_transform(corpus)\n",
    "X"
   ]
  },
  {
   "cell_type": "code",
   "execution_count": 22,
   "metadata": {},
   "outputs": [
    {
     "data": {
      "text/plain": [
       "array(['and', 'document', 'first', 'is', 'one', 'second', 'the', 'third',\n",
       "       'this'], dtype=object)"
      ]
     },
     "execution_count": 22,
     "metadata": {},
     "output_type": "execute_result"
    }
   ],
   "source": [
    "# the vectorizer has tokenized all the words (vocabullary)\n",
    "\n",
    "# this will show the actual names\n",
    "vectorizer.get_feature_names_out()"
   ]
  },
  {
   "cell_type": "code",
   "execution_count": 23,
   "metadata": {},
   "outputs": [
    {
     "data": {
      "text/plain": [
       "array([[0, 1, 2, 1, 0, 0, 1, 0, 1],\n",
       "       [0, 1, 0, 1, 0, 2, 1, 0, 1],\n",
       "       [1, 0, 0, 0, 1, 0, 1, 1, 0],\n",
       "       [0, 1, 1, 1, 0, 0, 1, 0, 1]])"
      ]
     },
     "execution_count": 23,
     "metadata": {},
     "output_type": "execute_result"
    }
   ],
   "source": [
    "# the X represents presence of each word in each document\n",
    "# We passed 4 documents, therefore X has 4 rows\n",
    "# each row contains 9 elements because there are 9 total words\n",
    "# the value 0,1,2 show the count of number of times that word is present in that document\n",
    "X.toarray()\n",
    "\n",
    "# in first document:\n",
    "# and is present 0 times, document is present 1 time, first is present 1 time"
   ]
  },
  {
   "cell_type": "code",
   "execution_count": 24,
   "metadata": {},
   "outputs": [],
   "source": [
    "# we created a vocabulary of individual words in the above\n",
    "# it ignored relative positions of the words\n",
    "#\n",
    "# we can create a vocabulary of phrases as well by using n_grams\n",
    "# for example, an n_gram of 2 will create a dictionary of all\n",
    "# individual words as well as all 2 consecutive words"
   ]
  },
  {
   "cell_type": "code",
   "execution_count": 25,
   "metadata": {},
   "outputs": [],
   "source": [
    "# we didn't use stop words in the above"
   ]
  },
  {
   "cell_type": "markdown",
   "metadata": {},
   "source": [
    "### Understanding tf-idf\n",
    "\n",
    "Based on readings and examples from https://scikit-learn.org/stable/modules/feature_extraction.html#tfidf-term-weighting"
   ]
  },
  {
   "cell_type": "code",
   "execution_count": 26,
   "metadata": {},
   "outputs": [],
   "source": [
    "# we used the above vectorisation strategy to convert a raw text\n",
    "# into a matrix of numbers\n",
    "# each row in the matrix represents the document row.\n",
    "#\n",
    "# each row has equal number of elements\n",
    "# the number of elements is the dictionary of all words\n",
    "# the number in each row represents the count of number of times the dictionary word is used in document\n",
    "#\n",
    "# now we can use this matrix of numbers (bag-of-words) to do further analysis\n",
    "#\n",
    "# tf-idf is a method to give weighted information for each term in each document\n",
    "# we use tfidf-transformer to convert the count matrix into weight matrix\n",
    "#\n",
    "# this transformation from count matrix -> to weighted matrix is done using formula:\n",
    "# term weight = term-frequency * 1 / uniqueness of term\n",
    "# i.e. terms-weight is directly proportional to its frequency\n",
    "# but inversely proportional to how frequently it is found in OTHER documents\n",
    "# this final term-weight is a value between 0 to 1."
   ]
  },
  {
   "cell_type": "code",
   "execution_count": 27,
   "metadata": {},
   "outputs": [
    {
     "data": {
      "text/plain": [
       "TfidfTransformer()"
      ]
     },
     "execution_count": 27,
     "metadata": {},
     "output_type": "execute_result"
    }
   ],
   "source": [
    "from sklearn.feature_extraction.text import TfidfTransformer\n",
    "\n",
    "transformer = TfidfTransformer()\n",
    "transformer"
   ]
  },
  {
   "cell_type": "code",
   "execution_count": 28,
   "metadata": {},
   "outputs": [
    {
     "data": {
      "text/plain": [
       "array([[0.        , 0.3199074 , 0.79029857, 0.3199074 , 0.        ,\n",
       "        0.        , 0.26154526, 0.        , 0.3199074 ],\n",
       "       [0.        , 0.27230147, 0.        , 0.27230147, 0.        ,\n",
       "        0.85322574, 0.22262429, 0.        , 0.27230147],\n",
       "       [0.55280532, 0.        , 0.        , 0.        , 0.55280532,\n",
       "        0.        , 0.28847675, 0.55280532, 0.        ],\n",
       "       [0.        , 0.43877674, 0.54197657, 0.43877674, 0.        ,\n",
       "        0.        , 0.35872874, 0.        , 0.43877674]])"
      ]
     },
     "execution_count": 28,
     "metadata": {},
     "output_type": "execute_result"
    }
   ],
   "source": [
    "# convert X bag-of-words into weighted average\n",
    "tfidf = transformer.fit_transform(X)\n",
    "tfidf.toarray()"
   ]
  },
  {
   "cell_type": "code",
   "execution_count": 29,
   "metadata": {},
   "outputs": [
    {
     "data": {
      "text/plain": [
       "array([[0.        , 0.3199074 , 0.79029857, 0.3199074 , 0.        ,\n",
       "        0.        , 0.26154526, 0.        , 0.3199074 ],\n",
       "       [0.        , 0.27230147, 0.        , 0.27230147, 0.        ,\n",
       "        0.85322574, 0.22262429, 0.        , 0.27230147],\n",
       "       [0.55280532, 0.        , 0.        , 0.        , 0.55280532,\n",
       "        0.        , 0.28847675, 0.55280532, 0.        ],\n",
       "       [0.        , 0.43877674, 0.54197657, 0.43877674, 0.        ,\n",
       "        0.        , 0.35872874, 0.        , 0.43877674]])"
      ]
     },
     "execution_count": 29,
     "metadata": {},
     "output_type": "execute_result"
    }
   ],
   "source": [
    "from sklearn.feature_extraction.text import TfidfVectorizer\n",
    "\n",
    "tfidf_vectorizer = TfidfVectorizer()\n",
    "X = tfidf_vectorizer.fit_transform(corpus)\n",
    "X.toarray()"
   ]
  },
  {
   "cell_type": "code",
   "execution_count": 17,
   "metadata": {},
   "outputs": [
    {
     "data": {
      "text/plain": [
       "array(['and', 'document', 'first', 'is', 'one', 'second', 'the', 'third',\n",
       "       'this'], dtype=object)"
      ]
     },
     "execution_count": 17,
     "metadata": {},
     "output_type": "execute_result"
    }
   ],
   "source": [
    "tfidf_vectorizer.get_feature_names_out()"
   ]
  },
  {
   "cell_type": "code",
   "execution_count": 18,
   "metadata": {},
   "outputs": [
    {
     "name": "stdout",
     "output_type": "stream",
     "text": [
      "done in 0.006194s\n",
      "Explained variance of the SVD step: 64%\n",
      "samples, features = (4, 2)\n"
     ]
    }
   ],
   "source": [
    "# reduce number of features (dimensions) using SVD (latent semantic analysis)\n",
    "\n",
    "from sklearn.decomposition import TruncatedSVD\n",
    "from sklearn.preprocessing import Normalizer\n",
    "from sklearn.pipeline import make_pipeline\n",
    "\n",
    "t0 = time()\n",
    "# Vectorizer results are normalized, which makes KMeans behave as\n",
    "# spherical k-means for better results. Since LSA/SVD results are\n",
    "# not normalized, we have to redo the normalization.\n",
    "svd = TruncatedSVD()\n",
    "normalizer = Normalizer(copy=False)\n",
    "lsa = make_pipeline(svd, normalizer)\n",
    "\n",
    "X = lsa.fit_transform(X)\n",
    "\n",
    "print(\"done in %fs\" % (time() - t0))\n",
    "\n",
    "explained_variance = svd.explained_variance_ratio_.sum()\n",
    "print(\n",
    "    \"Explained variance of the SVD step: {}%\".format(int(explained_variance * 100))\n",
    ")\n",
    "\n",
    "print('samples, features =', X.shape)"
   ]
  },
  {
   "cell_type": "code",
   "execution_count": 19,
   "metadata": {},
   "outputs": [
    {
     "data": {
      "text/plain": [
       "array([[ 0.99733498, -0.07295848],\n",
       "       [ 0.99457648, -0.10400781],\n",
       "       [ 0.18342269,  0.98303414],\n",
       "       [ 0.99733498, -0.07295848]])"
      ]
     },
     "execution_count": 19,
     "metadata": {},
     "output_type": "execute_result"
    }
   ],
   "source": [
    "X"
   ]
  },
  {
   "cell_type": "markdown",
   "metadata": {},
   "source": [
    "## Trying topic extraction on announcements"
   ]
  },
  {
   "cell_type": "markdown",
   "metadata": {},
   "source": [
    "Generating dump\n",
    "\n",
    "```python\n",
    "from announcements.models import BseAnnouncement\n",
    "import datetime as dt\n",
    "\n",
    "announcements = (\n",
    "    BseAnnouncement.objects.filter(date__gt=dt.date.today() - dt.timedelta(days=365))\n",
    "    .values('company_code__name', 'date', 'subject', 'headline', 'more', 'category')\n",
    ")\n",
    "print(len(announcements))\n",
    "\n",
    "import json\n",
    "from django.core.serializers.json import DjangoJSONEncoder\n",
    "qs_json = json.dumps(list(announcements), indent=4, sort_keys=True, cls=DjangoJSONEncoder)\n",
    "\n",
    "with open('/home/ubuntu/anns.json', 'w') as f:\n",
    "    f.write(qs_json)\n",
    "```"
   ]
  },
  {
   "cell_type": "code",
   "execution_count": 23,
   "metadata": {},
   "outputs": [
    {
     "data": {
      "text/plain": [
       "[{'category': 'Corp. Action',\n",
       "  'company_code__name': 'Allcargo Logistics Ltd',\n",
       "  'date': '2021-03-16T07:31:56',\n",
       "  'headline': 'Allcargo Logistics Ltd has informed BSE that the Directors at their Board Meeting held on March 15, 2021, inter alia, approved and declared an Interim Dividend of Rs. 2/- (100%) per equity share of face value of Rs. 2/- each for the financial year 2020-2021. The Interim Dividend will be paid/dispatched to all equity shareholders of the Company on or after March 24, 2021.',\n",
       "  'more': '',\n",
       "  'subject': 'Board declares Interim Dividend'},\n",
       " {'category': 'Corp. Action',\n",
       "  'company_code__name': 'Infosys Ltd',\n",
       "  'date': '2021-03-16T07:29:22',\n",
       "  'headline': 'Infosys Ltd has informed BSE that a meeting of the Board of Directors of the Company will be held on April 13 & 14, 2021, inter alia to:<BR><BR>1. Approval and take on record the audited consolidated financial results of the Company and its subsidiaries as per Indian Accounting Standards (INDAS) for the quarter and year ending March 31, 2021.<BR><BR>2. Approve and take on record the audited standalone financial results of the Company as per INDAS for the quarter and year ending March 31, 2021. ....',\n",
       "  'more': 'Infosys Ltd has informed BSE that a meeting of the Board of Directors of the Company will be held on April 13 & 14, 2021, inter alia to:<BR><BR>1. Approval and take on record the audited consolidated financial results of the Company and its subsidiaries as per Indian Accounting Standards (INDAS) for the quarter and year ending March 31, 2021.<BR><BR>2. Approve and take on record the audited standalone financial results of the Company as per INDAS for the quarter and year ending March 31, 2021.<BR><BR>3. Approve and take on record the audited financial statements of the Company and its subsidiaries as per INDAS and IFRS for the quarter and year ending March 31, 2021.<BR><BR>4. Approve and take on record the audited financial statements of the Company and its subsidiaries as per INDAS for the year ending March 31, 2021.<BR><BR>5. Approve and take on record the audited financial statements of the Company as per INDAS for the year ending March 31, 2021<BR><BR>6. Recommend a final dividend for the financial year ending March 31, 2021.<BR><BR>The financial results will be presented to the Board of Directors on April 14, 2021 for their approval.<BR><BR>- Trading window closure<BR><BR>The Company will close the trading window for the earnings release of the quarter and year ending March 31, 2021 in compliance with SEBI (Prohibition of Insider Trading) Regulations, 2015, as amended. Accordingly, the trading window will be closed from March 16, 2021 and will re-open on April 19, 2021.<BR><BR>- Investors call<BR><BR>The Company will hold investor/ analyst calls on April 14, 2021 to discuss the financial results for the quarter and year ending March 31, 2021 and business outlook. Details of the calls will be published on the Company’s website in due course.',\n",
       "  'subject': 'Board to consider FY21 results & Final Dividend on April 13 & 14, 2021'},\n",
       " {'category': 'Insider Trading / SAST',\n",
       "  'company_code__name': 'Vedanta Ltd',\n",
       "  'date': '2021-03-16T08:22:10',\n",
       "  'headline': 'The Exchange has received Disclosure under Regulation 31(1) and 31(2) of SEBI (Substantial Acquisition of Shares & Takeovers) Regulations, 2011 on March 15, 2021 for Finsider International Company Ltd, Westglobe Ltd, Welter Trading Ltd, Twin Star Holdings Ltd & Vedanta Holdings Mauritius II Ltd',\n",
       "  'more': '',\n",
       "  'subject': 'Disclosures under Reg. 31(1) and 31(2) of SEBI (SAST) Regulations, 2011.'}]"
      ]
     },
     "execution_count": 23,
     "metadata": {},
     "output_type": "execute_result"
    }
   ],
   "source": [
    "import json\n",
    "import gzip\n",
    "\n",
    "with gzip.open('anns.json.gz') as f: \n",
    "    announcements = json.load(f)\n",
    "announcements[:3]"
   ]
  },
  {
   "cell_type": "code",
   "execution_count": 24,
   "metadata": {},
   "outputs": [
    {
     "data": {
      "text/plain": [
       "['Board declares Interim Dividend.\\n\\nAllcargo Logistics Ltd has informed BSE that the Directors at their Board Meeting held on March 15, 2021, inter alia, approved and declared an Interim Dividend of Rs. 2/- (100%) per equity share of face value of Rs. 2/- each for the financial year 2020-2021. The Interim Dividend will be paid/dispatched to all equity shareholders of the Company on or after March 24, 2021.',\n",
       " 'Board to consider FY21 results & Final Dividend on April 13 & 14, 2021.\\n\\nInfosys Ltd has informed BSE that a meeting of the Board of Directors of the Company will be held on April 13 & 14, 2021, inter alia to:<BR><BR>1. Approval and take on record the audited consolidated financial results of the Company and its subsidiaries as per Indian Accounting Standards (INDAS) for the quarter and year ending March 31, 2021.<BR><BR>2. Approve and take on record the audited standalone financial results of the Company as per INDAS for the quarter and year ending March 31, 2021.<BR><BR>3. Approve and take on record the audited financial statements of the Company and its subsidiaries as per INDAS and IFRS for the quarter and year ending March 31, 2021.<BR><BR>4. Approve and take on record the audited financial statements of the Company and its subsidiaries as per INDAS for the year ending March 31, 2021.<BR><BR>5. Approve and take on record the audited financial statements of the Company as per INDAS for the year ending March 31, 2021<BR><BR>6. Recommend a final dividend for the financial year ending March 31, 2021.<BR><BR>The financial results will be presented to the Board of Directors on April 14, 2021 for their approval.<BR><BR>- Trading window closure<BR><BR>The Company will close the trading window for the earnings release of the quarter and year ending March 31, 2021 in compliance with SEBI (Prohibition of Insider Trading) Regulations, 2015, as amended. Accordingly, the trading window will be closed from March 16, 2021 and will re-open on April 19, 2021.<BR><BR>- Investors call<BR><BR>The Company will hold investor/ analyst calls on April 14, 2021 to discuss the financial results for the quarter and year ending March 31, 2021 and business outlook. Details of the calls will be published on the Company’s website in due course.',\n",
       " 'Disclosures under Reg. 31(1) and 31(2) of SEBI (SAST) Regulations, 2011..\\n\\nThe Exchange has received Disclosure under Regulation 31(1) and 31(2) of SEBI (Substantial Acquisition of Shares & Takeovers) Regulations, 2011 on March 15, 2021 for Finsider International Company Ltd, Westglobe Ltd, Welter Trading Ltd, Twin Star Holdings Ltd & Vedanta Holdings Mauritius II Ltd']"
      ]
     },
     "execution_count": 24,
     "metadata": {},
     "output_type": "execute_result"
    }
   ],
   "source": [
    "def _get_ann_content(ann):\n",
    "    headline = ann['headline'] if len(ann['headline']) > len(ann['more']) else ann['more']\n",
    "    return f\"{ann['subject']}.\\n\\n{headline}\"\n",
    "\n",
    "data_raw = [_get_ann_content(ann) for ann in announcements]\n",
    "data_raw[:3]"
   ]
  },
  {
   "cell_type": "code",
   "execution_count": 76,
   "metadata": {},
   "outputs": [],
   "source": [
    "import lxml.html\n",
    "import re\n",
    "\n",
    "replacements = {\n",
    "    # lodr\n",
    "    'listing obligations and disclosure requirements': 'lodr',\n",
    "    '(lodr)': 'lodr',\n",
    "    'regulations, 2015': 'regulations 2015',\n",
    "    'sebi lodr regulations 2015': 'lodr',\n",
    "    'regulation 30': '',\n",
    "    # sebi\n",
    "    'Securities And Exchange Board Of India': 'sebi',\n",
    "    'Substantial Acquisition of Shares & Takeovers': 'sast',\n",
    "    'Insider Trading Prohibition Code': 'itpc',\n",
    "    # egm\n",
    "    'Extra - Ordinary': 'extra ordinary',\n",
    "    'extra ordinary': 'extraordinary',\n",
    "    'extraordinary general meeting': 'egm',\n",
    "    'annual general meeting': 'agm',\n",
    "    # abbreviations\n",
    "    'Reg.': 'regulation',\n",
    "    # together words\n",
    "    'Press release': 'press-release',\n",
    "    'board meeting': 'board-meeting',\n",
    "    # syntaxes\n",
    "    '.-': '.\\n-'\n",
    "}\n",
    "\n",
    "re_replacements = {re.compile(re.escape(k), re.IGNORECASE): v for k,v in replacements.items()}\n",
    "\n",
    "def _clean_doc(text):\n",
    "    if not text:\n",
    "        return ''\n",
    "\n",
    "    # remove html tags\n",
    "    text = lxml.html.fromstring(text).text_content()\n",
    "\n",
    "    # handle abbreviations\n",
    "    for phrase, replacement in re_replacements.items():\n",
    "        text = phrase.sub(replacement, text)\n",
    "    return text"
   ]
  },
  {
   "cell_type": "code",
   "execution_count": 77,
   "metadata": {},
   "outputs": [
    {
     "name": "stdout",
     "output_type": "stream",
     "text": [
      "time taken 16.427186s\n"
     ]
    },
    {
     "data": {
      "text/plain": [
       "['Board declares Interim Dividend.\\n\\nAllcargo Logistics Ltd has informed BSE that the Directors at their Board Meeting held on March 15, 2021, inter alia, approved and declared an Interim Dividend of Rs. 2/- (100%) per equity share of face value of Rs. 2/- each for the financial year 2020-2021. The Interim Dividend will be paid/dispatched to all equity shareholders of the Company on or after March 24, 2021.',\n",
       " 'Board to consider FY21 results & Final Dividend on April 13 & 14, 2021.\\n\\nInfosys Ltd has informed BSE that a meeting of the Board of Directors of the Company will be held on April 13 & 14, 2021, inter alia to:1. Approval and take on record the audited consolidated financial results of the Company and its subsidiaries as per Indian Accounting Standards (INDAS) for the quarter and year ending March 31, 2021.2. Approve and take on record the audited standalone financial results of the Company as per INDAS for the quarter and year ending March 31, 2021.3. Approve and take on record the audited financial statements of the Company and its subsidiaries as per INDAS and IFRS for the quarter and year ending March 31, 2021.4. Approve and take on record the audited financial statements of the Company and its subsidiaries as per INDAS for the year ending March 31, 2021.5. Approve and take on record the audited financial statements of the Company as per INDAS for the year ending March 31, 20216. Recommend a final dividend for the financial year ending March 31, 2021.The financial results will be presented to the Board of Directors on April 14, 2021 for their approval.\\n- Trading window closureThe Company will close the trading window for the earnings release of the quarter and year ending March 31, 2021 in compliance with SEBI (Prohibition of Insider Trading) regulations 2015, as amended. Accordingly, the trading window will be closed from March 16, 2021 and will re-open on April 19, 2021.\\n- Investors callThe Company will hold investor/ analyst calls on April 14, 2021 to discuss the financial results for the quarter and year ending March 31, 2021 and business outlook. Details of the calls will be published on the Company’s website in due course.',\n",
       " 'Disclosures under regulation 31(1) and 31(2) of SEBI (SAST) Regulations, 2011..\\n\\nThe Exchange has received Disclosure under Regulation 31(1) and 31(2) of SEBI (sast) Regulations, 2011 on March 15, 2021 for Finsider International Company Ltd, Westglobe Ltd, Welter Trading Ltd, Twin Star Holdings Ltd & Vedanta Holdings Mauritius II Ltd']"
      ]
     },
     "execution_count": 77,
     "metadata": {},
     "output_type": "execute_result"
    }
   ],
   "source": [
    "from time import time\n",
    "\n",
    "t0 = time()\n",
    "data_clean = [_clean_doc(row) for row in data_raw]\n",
    "print('time taken %fs' % (time() - t0))\n",
    "\n",
    "data = data_clean\n",
    "data[:3]"
   ]
  },
  {
   "cell_type": "markdown",
   "metadata": {},
   "source": [
    "## Tag based on power-words"
   ]
  },
  {
   "cell_type": "code",
   "execution_count": 78,
   "metadata": {},
   "outputs": [
    {
     "data": {
      "text/plain": [
       "'find-enclosed-herewith-Press-Release'"
      ]
     },
     "execution_count": 78,
     "metadata": {},
     "output_type": "execute_result"
    }
   ],
   "source": [
    "import nltk\n",
    "import nltk.data\n",
    "from nltk.chunk.regexp import ChunkString\n",
    "from nltk.tokenize import word_tokenize\n",
    "from nltk.tokenize.destructive import NLTKWordTokenizer\n",
    "from nltk.tag import pos_tag\n",
    "from IPython.core.debugger import set_trace\n",
    "from functools import partial\n",
    "\n",
    "sentance_tokenizer = nltk.data.load('tokenizers/punkt/PY3/english.pickle')\n",
    "\n",
    "verb_phrase = r'''\n",
    "VP:\n",
    "    {<VB.*>+<.*>{0,3}<NN.*>{1,2}}\n",
    "    {<NN.*>{1,2}<.*>{0,3}<VB.*>+}\n",
    "    {<VB.*>+<.*>*<NN.*>{1,2}}\n",
    "    {<NN.*>{1,2}<.*>*<VB.*>+}\n",
    "    {<NN.*>+<.*>*<NN.*>{1,2}}\n",
    "    {<.*>*}\n",
    "'''\n",
    "verb_cp = nltk.RegexpParser(verb_phrase)\n",
    "\n",
    "\n",
    "def _extract_phrase(tree, node, scorer):\n",
    "    phrases = []\n",
    "    for subtree in tree.subtrees():\n",
    "        if subtree.label() == node:\n",
    "            phrase = ' '.join(w for w, p in subtree.leaves())\n",
    "            score = scorer(phrase)\n",
    "            phrases.append((subtree, score))\n",
    "\n",
    "    phrases.sort(key=lambda o: o[1], reverse=True)\n",
    "    return phrases[0][0]\n",
    "\n",
    "\n",
    "def _find_phrase(tags, scorer, word__score):\n",
    "    # find verb phrase\n",
    "    tree = verb_cp.parse(tags)\n",
    "    try:\n",
    "        phrase = _extract_phrase(tree, 'VP', scorer)\n",
    "    except IndexError:\n",
    "        fmt = ChunkString(tree)\n",
    "        print(tree)\n",
    "        raise Exception(\"Couln't find the verb phrase\", fmt, word__score)\n",
    "    return phrase\n",
    "\n",
    "\n",
    "def _get_tag_text(phrase):\n",
    "    return '-'.join(word for word, pos in phrase)\n",
    "\n",
    "\n",
    "def _get_text_score(word__score, text):\n",
    "    words = word_tokenize(text)\n",
    "    score = sum(word__score.get(word.lower(), 0) for word in words)\n",
    "    return score\n",
    "\n",
    "\n",
    "def _get_tag(text, word__score):\n",
    "    scorer = partial(_get_text_score, word__score)\n",
    "\n",
    "    # find sentance with most weight\n",
    "    sentance = sorted(\n",
    "        sentance_tokenizer.tokenize(text),\n",
    "        key=scorer,\n",
    "        reverse=True\n",
    "    )[0]\n",
    "    \n",
    "    # break the sentance into noun and verb phrases\n",
    "    tags = pos_tag(word_tokenize(sentance))\n",
    "    \n",
    "    # pick the phrase with most weight\n",
    "    try:\n",
    "        phrase = _find_phrase(tags, scorer, word__score)\n",
    "    except:\n",
    "        print(text)\n",
    "        raise\n",
    "\n",
    "    # clean the phrase to remove unneeded words\n",
    "    tag = _get_tag_text(phrase)\n",
    "    return tag\n",
    "\n",
    "_get_tag(\n",
    "    '''Announcement under  lodr-Press Release / Media Release.\\n\\nPlease find enclosed herewith Press Release for opening of 8 new hotels.  This is for the information and records of the exchanges. ''',\n",
    "         dict([('release', 0.5957157383685744), ('press', 0.3842299640036423), ('opening', 0.3179065444934462), ('hotels', 0.312851152463792), ('new', 0.2308852433529326), ('media', 0.20331807412060754), ('exchanges', 0.2014499481498509), ('records', 0.16537135594653518), ('information', 0.13769624889080623), ('find', 0.13438615701305728), ('this', 0.1302533177485454), ('enclosed', 0.12906759324108916), ('please', 0.12497411789841663), ('herewith', 0.12411115786122415), ('announcement', 0.10750532711235429), ('is', 0.10072862782299567), ('lodr', 0.07970992068614231), ('under', 0.07905680148583642)]))"
   ]
  },
  {
   "cell_type": "code",
   "execution_count": 81,
   "metadata": {},
   "outputs": [
    {
     "name": "stdout",
     "output_type": "stream",
     "text": [
      "time taken in learning tfidf 5.28438401222229 s\n"
     ]
    },
    {
     "data": {
      "text/plain": [
       "array(['0110', '01st', '02', ..., 'zone', 'zoom', 'zuari'], dtype=object)"
      ]
     },
     "execution_count": 81,
     "metadata": {},
     "output_type": "execute_result"
    }
   ],
   "source": [
    "from time import time\n",
    "from sklearn.feature_extraction.text import TfidfVectorizer\n",
    "from nltk.corpus import stopwords\n",
    "\n",
    "stop_words = stopwords.words('english') + [\n",
    "    'regulation',\n",
    "    'regulations', 'ltd', 'mar', 'march', 'april', 'on', 'will', '31', 'year', '14', 'per',\n",
    "    '00',\n",
    "    '000',\n",
    "    '0000',\n",
    "    '001',\n",
    "    '01',\n",
    "    '0101',\n",
    "    'please',\n",
    "    'find',\n",
    "    'enclosed',\n",
    "    'intimation',\n",
    "    'announcement',\n",
    "    'lodr',\n",
    "]\n",
    "\n",
    "t0 = time()\n",
    "tfidf_vectoriser = TfidfVectorizer(max_df=.5, min_df=100, stop_words=stop_words)\n",
    "tfidf_vectoriser.fit(data)\n",
    "print('time taken in learning tfidf', time() - t0, 's')\n",
    "\n",
    "tfidf_vectoriser.get_feature_names_out()"
   ]
  },
  {
   "cell_type": "code",
   "execution_count": 82,
   "metadata": {},
   "outputs": [
    {
     "name": "stdout",
     "output_type": "stream",
     "text": [
      "shape of X (1000, 2663)\n",
      "time taken in transforming docs 0.01775383949279785 s\n",
      "time taken in arranging words by importance 0.43192601203918457 s\n",
      "time taken in getting tags 1.504317045211792 s\n",
      "\n",
      "\n",
      "--------\n",
      " approved-and-declared-an-Interim-Dividend \n",
      " [('interim', 0.4987033793568323), ('dividend', 0.3980471827666359), ('rs', 0.2622238571085114), ('declares', 0.24294546771249131), ('equity', 0.2350643938300462), ('logistics', 0.22671760909427585), ('dispatched', 0.21167401166452285), ('100', 0.1918530997878428), ('declared', 0.175532616284269), ('face', 0.16394769936641457), ('value', 0.15878027368024877), ('24', 0.15531267194892326), ('paid', 0.14644484924290857), ('board', 0.14500604876364664), ('15', 0.14272314765561595), ('shareholders', 0.12431142152556297), ('2020', 0.1208376900620442), ('approved', 0.10344776494349416), ('share', 0.09700161235905144), ('alia', 0.09560737627922179), ('inter', 0.09539101723977554), ('informed', 0.09136034639735584), ('directors', 0.08065255599009), ('bse', 0.080172292021497), ('held', 0.07462820084425045), ('meeting', 0.06848874564905069), ('financial', 0.06654977727087538), ('company', 0.050589048816322445)] \n",
      " Board declares Interim Dividend.\n",
      "\n",
      "Allcargo Logistics Ltd has informed BSE that the Directors at their Board Meeting held on March 15, 2021, inter alia, approved and declared an Interim Dividend of Rs. 2/- (100%) per equity share of face value of Rs. 2/- each for the financial year 2020-2021. The Interim Dividend will be paid/dispatched to all equity shareholders of the Company on or after March 24, 2021. \n",
      "\n",
      "\n",
      "\n",
      "--------\n",
      " Company-and-its-subsidiaries-as-per-Indian-Accounting-Standards-(-INDAS-)-for-the-quarter-and-year \n",
      " [('ending', 0.5346473409439361), ('subsidiaries', 0.2809007537799774), ('financial', 0.22620101616253346), ('statements', 0.21556204460023892), ('audited', 0.20279961480794748), ('company', 0.19344476507663189), ('take', 0.19296998535031867), ('record', 0.19017273100283494), ('calls', 0.18895669828455172), ('approve', 0.17838806941963953), ('trading', 0.17742605489642582), ('results', 0.1487832453101332), ('final', 0.1451334300890064), ('window', 0.13763439784524048), ('quarter', 0.13636189545046584), ('13', 0.12240247484752238), ('dividend', 0.1127460287557453), ('infosys', 0.1069926758744917), ('approval', 0.10452050666081561), ('outlook', 0.09473455202515775), ('fy21', 0.09264514912899685), ('board', 0.09241348241072209), ('hold', 0.0856516221730573), ('recommend', 0.08233836556856063), ('indian', 0.07785016200138571), ('close', 0.0773964891049372), ('discuss', 0.07556342985371388), ('standards', 0.07506765072785565), ('accounting', 0.07267691730688645), ('earnings', 0.07150988023620301), ('accordingly', 0.07061978734607663), ('open', 0.0705856242651394), ('16', 0.07018270406307378), ('19', 0.06936686347879414), ('directors', 0.06853400142425453), ('course', 0.06785031458686314), ('release', 0.059447567334964), ('investors', 0.05892276721940942), ('amended', 0.05745848268522845), ('due', 0.057440361459910556), ('website', 0.05547112970767349), ('published', 0.05293635961014556), ('analyst', 0.052883616126456985), ('prohibition', 0.05284157906647791), ('business', 0.052704877247155606), ('insider', 0.05156711760418483), ('closed', 0.04779045722540295), ('consolidated', 0.046003406265058513), ('standalone', 0.04506889455048497), ('consider', 0.044086835918629004), ('alia', 0.04062088288246272), ('inter', 0.040528958016997935), ('investor', 0.03974825232950695), ('informed', 0.03881643943736956), ('compliance', 0.037248203435021394), ('details', 0.03562794403982904), ('bse', 0.03406295007105636), ('2015', 0.03390434790611484), ('held', 0.03170742179316583), ('meeting', 0.029098940103238564), ('sebi', 0.02743755693864259)] \n",
      " Board to consider FY21 results & Final Dividend on April 13 & 14, 2021.\n",
      "\n",
      "Infosys Ltd has informed BSE that a meeting of the Board of Directors of the Company will be held on April 13 & 14, 2021, inter alia to:1. Approval and take on record the audited consolidated financial results of the Company and its subsidiaries as per Indian Accounting Standards (INDAS) for the quarter and year ending March 31, 2021.2. Approve and take on record the audited standalone financial results of the Company as per INDAS for the quarter and year ending March 31, 2021.3. Approve and take on record the audited financial statements of the Company and its subsidiaries as per INDAS and IFRS for the quarter and year ending March 31, 2021.4. Approve and take on record the audited financial statements of the Company and its subsidiaries as per INDAS for the year ending March 31, 2021.5. Approve and take on record the audited financial statements of the Company as per INDAS for the year ending March 31, 20216. Recommend a final dividend for the financial year ending March 31, 2021.The financial results will be presented to the Board of Directors on April 14, 2021 for their approval.\n",
      "- Trading window closureThe Company will close the trading window for the earnings release of the quarter and year ending March 31, 2021 in compliance with SEBI (Prohibition of Insider Trading) regulations 2015, as amended. Accordingly, the trading window will be closed from March 16, 2021 and will re-open on April 19, 2021.\n",
      "- Investors callThe Company will hold investor/ analyst calls on April 14, 2021 to discuss the financial results for the quarter and year ending March 31, 2021 and business outlook. Details of the calls will be published on the Company’s website in due course. \n",
      "\n",
      "\n",
      "\n",
      "--------\n",
      " be-held-with-analyst/-institutional-investors \n",
      " [('analyst', 0.3543325258511476), ('interactions', 0.34523985612695973), ('discussion', 0.3126366878416798), ('unpublished', 0.28461145434336627), ('sensitive', 0.2654399010022294), ('16th', 0.2647104805933157), ('meetings', 0.25222472874750873), ('institutional', 0.22384889142266315), ('price', 0.2135663349065186), ('tuesday', 0.2052222361280566), ('investors', 0.19739812127321057), ('note', 0.181129956140583), ('meet', 0.1776700188947966), ('scheduled', 0.14265363060295044), ('information', 0.13810145618742614), ('investor', 0.13316126692626895), ('take', 0.12929437759917095), ('record', 0.1274201521376936), ('kindly', 0.11918048136845644), ('held', 0.10622354970332167), ('pursuant', 0.10202985098542787), ('company', 0.07200693947586169)] \n",
      " Announcement under  lodr-Analyst / Investor Meet - Intimation.\n",
      "\n",
      "Pursuant to (6) of the lodr, please note that the interactions/meetings have been scheduled to be held with analyst/ institutional investors on Tuesday, 16th March, 2021.  The discussion will be mainly on the Company and will not involve any unpublished price sensitive information.   Kindly take the same on record.   \n",
      "\n",
      "\n",
      "\n",
      "--------\n",
      " Focussed-Event-Organised-by-IIFL-India \n",
      " [('iifl', 0.40392963456776654), ('participation', 0.3960263525102285), ('organised', 0.3905129827487088), ('virtual', 0.324209484165353), ('16th', 0.3046222506344279), ('event', 0.27643565118444074), ('meet', 0.20445824776067037), ('analyst', 0.2038785378951175), ('india', 0.1830716146660132), ('securities', 0.1810427886334766), ('regarding', 0.17861390278202519), ('listing', 0.16577615544350083), ('investor', 0.15323868075602043), ('pursuant', 0.11741342001046996), ('company', 0.08286379865001803)] \n",
      " Announcement under  lodr-Analyst / Investor Meet - Intimation.\n",
      "\n",
      "Pursuant to  of Listing Regulations, an intimation regarding participation by the Company at the Virtual ESG Focussed Event Organised by IIFL India & Okasan Securities, Japan on 16th March 2021.  \n",
      "\n",
      "\n",
      "\n",
      "--------\n",
      " buyback-of-the-fully-paid-up-equity-shares-of-the-Company \n",
      " [('buyback', 0.34945706797988585), ('fully', 0.32204951208680677), ('19', 0.2791850972314744), ('paid', 0.250421858302147), ('drugs', 0.2063962942398901), ('incidental', 0.20374575735580802), ('equity', 0.20098099259861268), ('shares', 0.18799794531474281), ('board', 0.18597112351940165), ('consider', 0.17743900985710914), ('meeting', 0.17567445062307868), ('company', 0.173015352602918), ('scheduled', 0.17138117783168377), ('thereto', 0.16740330158403446), ('alia', 0.16348937473056743), ('inter', 0.16311939905031167), ('proposal', 0.16179586301115628), ('informed', 0.156226919814741), ('matters', 0.14118450094382462), ('directors', 0.13791651295536653), ('including', 0.13297861787147552), ('related', 0.11936562889673495), ('obligations', 0.11668389659702445), ('friday', 0.11388882800057187), ('03', 0.11174365589379943), ('requirements', 0.10312801472650827), ('disclosures', 0.0986739500431998), ('hereby', 0.09589228309348742), ('29', 0.09119992272576874), ('approve', 0.08974618428776555), ('listing', 0.08653302302840783), ('compliance', 0.07495757178701949), ('bse', 0.06854762887243669), ('2015', 0.06822846091082158), ('held', 0.06380740884291644), ('sebi', 0.05521481452055852)] \n",
      " Board Meeting Intimation for Buyback Of The Fully Paid-Up Equity Shares Of The Company.\n",
      "\n",
      "AARTI DRUGS LTD.has informed BSE that the meeting of the Board of Directors of the Company is scheduled on 19/03/2021 ,inter alia, to consider and approve In compliance with Regulation 29 of SEBI (Listing Obligations and Disclosures Requirements) regulations 2015, it is hereby informed that meeting of Board of Directors of the Company is scheduled to be held on Friday, March 19, 2021, to consider inter alia, proposal of buyback of the fully paid-up equity shares of the Company including matters related/incidental thereto. \n",
      "\n",
      "\n",
      "\n",
      "--------\n",
      " Record-Date-for-the-purpose-of-Payment-of-Interim-Dividend-,-subject-to-approval-by-the-Board-of-Directors \n",
      " [('interim', 0.416692303510735), ('dividend', 0.33258887819629074), ('urban', 0.33258354820809566), ('date', 0.27935018853455734), ('housing', 0.2604071043706563), ('development', 0.2557233557853021), ('fixes', 0.22585139351082767), ('record', 0.22439578924693537), ('corporation', 0.22128064065383365), ('fixed', 0.21677936541636153), ('payment', 0.1975862094749017), ('26', 0.1892062220293983), ('purpose', 0.17060033070177133), ('approval', 0.15416222833949345), ('subject', 0.15219598949931762), ('informed', 0.11450439709958424), ('directors', 0.10108403330717887), ('bse', 0.10048210546494833), ('board', 0.09087000457101387), ('company', 0.06340462534325603)] \n",
      " Fixes Record Date for Interim Dividend.\n",
      "\n",
      "Housing & Urban Development Corporation Ltd has informed BSE that the Company has fixed March 26, 2021 as the Record Date for the purpose of Payment of Interim Dividend, subject to approval by the Board of Directors. \n",
      "\n",
      "\n",
      "\n",
      "--------\n",
      " have-issued-duplicate-share-certificates \n",
      " [('duplicate', 0.4758485597629746), ('39', 0.47397412351613744), ('certificate', 0.3536351059981705), ('certificates', 0.2882840553518696), ('shareholder', 0.24036328660250608), ('loss', 0.23623303790904734), ('issued', 0.2322960018021182), ('share', 0.19219750256362916), ('compliances', 0.18673728685598903), ('details', 0.1661504761369945), ('inform', 0.16492558070206265), ('pursuant', 0.1420293830957548), ('sebi', 0.1279547072459486), ('company', 0.10023636311916839)] \n",
      " Compliances-regulation 39 (3) - Details of Loss of Certificate / Duplicate Certificate.\n",
      "\n",
      "Pursuant to Regulation 39(3) of the SEBI lodr, this is to inform you that we have issued duplicate share certificates to the shareholder of the Company. \n",
      "\n",
      "\n",
      "\n",
      "--------\n",
      " Outcome-Of-112Th-Board-Meeting-Of-Bharat-Wire-Ropes-Limited-,-Regulation-33-Of-The-lodr-.. \n",
      " [('bharat', 0.7162741526362376), ('33', 0.41673723307465116), ('outcome', 0.34077528039588684), ('limited', 0.2845277328312104), ('board', 0.24779923988404065), ('meeting', 0.23407932644394547)] \n",
      " Outcome Of 112Th Board Meeting Of Bharat Wire Ropes Limited, Regulation 33 Of The lodr..\n",
      "\n",
      "Outcome of 112th Board Meeting of Bharat Wire Ropes Limited, Regulation 33 of the lodr. \n",
      "\n",
      "\n",
      "\n",
      "--------\n",
      " opening-of-8-new-hotels \n",
      " [('release', 0.6285018797951009), ('press', 0.4053766571808813), ('opening', 0.3354030252087697), ('hotels', 0.3300694018224878), ('new', 0.24359237152550356), ('media', 0.21450800029402503), ('exchanges', 0.21253705910732743), ('records', 0.17447282551456764), ('information', 0.14527457593383458), ('herewith', 0.13094180830767996)] \n",
      " Announcement under  lodr-press-release / Media Release.\n",
      "\n",
      "Please find enclosed herewith press-release for opening of 8 new hotels.  This is for the information and records of the exchanges.  \n",
      "\n",
      "\n",
      "\n",
      "--------\n",
      " Intimation-about-participation-in-Conference \n",
      " [('participation', 0.5228671279790675), ('organised', 0.5155879158902257), ('19th', 0.42544968509561), ('conference', 0.30579920625948986), ('meet', 0.26994288668073735), ('analyst', 0.26917750520917244), ('investor', 0.2023185285381538)] \n",
      " Announcement under  lodr-Analyst / Investor Meet - Intimation.\n",
      "\n",
      "Intimation about participation in Conference organised by Prabhudas Liladhar on 19th March, 2021. \n",
      "\n"
     ]
    }
   ],
   "source": [
    "docs = [\n",
    "    doc\n",
    "    for i, doc in enumerate(data)\n",
    "    if announcements[i]['category'] not in [\n",
    "        'Insider Trading / SAST',\n",
    "        'Result',\n",
    "        'New Listing',\n",
    "    ]\n",
    "][:1000]\n",
    "\n",
    "t0 = time()\n",
    "X = tfidf_vectoriser.transform(docs)\n",
    "print('shape of X', X.shape)\n",
    "print('time taken in transforming docs', time() - t0, 's')\n",
    "\n",
    "\n",
    "# arrange words by importance in each document\n",
    "t0 = time()\n",
    "words = tfidf_vectoriser.get_feature_names_out()\n",
    "doc_words = [\n",
    "    dict(sorted(zip(words, row), key=lambda o: o[1], reverse=True))\n",
    "    for row in X.toarray()\n",
    "]\n",
    "print('time taken in arranging words by importance', time() - t0, 's')\n",
    "\n",
    "t0 = time()\n",
    "tags = [_get_tag(doc, doc_words[i]) for i, doc in enumerate(docs)]\n",
    "print('time taken in getting tags', time() - t0, 's')\n",
    "\n",
    "def _get_power_words(word__score):\n",
    "    power_words = [\n",
    "        (w, s)\n",
    "        for w, s in word__score.items()\n",
    "        if s\n",
    "    ]\n",
    "    return power_words\n",
    "    \n",
    "for i, tag in enumerate(tags[:10]):\n",
    "    power_words = _get_power_words(doc_words[i])\n",
    "    print('\\n\\n--------\\n', tag, '\\n', power_words, '\\n', docs[i], '\\n')"
   ]
  },
  {
   "cell_type": "markdown",
   "metadata": {},
   "source": [
    "## Define some good defaults"
   ]
  },
  {
   "cell_type": "code",
   "execution_count": null,
   "metadata": {},
   "outputs": [],
   "source": [
    "from nltk.corpus import stopwords\n",
    "\n",
    "stop_words = stopwords.words('english') + [\n",
    "    'regulation',\n",
    "    'regulations', 'ltd', 'mar', 'march', 'april', 'on', 'will', '31', 'year', '14', 'per',\n",
    "    '00',\n",
    "    '000',\n",
    "    '0000',\n",
    "    'please',\n",
    "    'find',\n",
    "    'enclosed',\n",
    "]"
   ]
  },
  {
   "cell_type": "markdown",
   "metadata": {},
   "source": [
    "## Find most common phrases"
   ]
  },
  {
   "cell_type": "code",
   "execution_count": null,
   "metadata": {},
   "outputs": [],
   "source": [
    "from sklearn.feature_extraction.text import CountVectorizer\n",
    "\n",
    "t0 = time()\n",
    "count_vectorizer = CountVectorizer(max_df=.5, min_df=50, ngram_range=(2, 3), stop_words=stop_words)\n",
    "X = count_vectorizer.fit_transform(data)\n",
    "\n",
    "print('time taken %fs' % (time() - t0))"
   ]
  },
  {
   "cell_type": "code",
   "execution_count": 54,
   "metadata": {},
   "outputs": [
    {
     "name": "stdout",
     "output_type": "stream",
     "text": [
      "shape (4, 9)\n"
     ]
    }
   ],
   "source": [
    "print('shape', X.shape)"
   ]
  },
  {
   "cell_type": "code",
   "execution_count": 55,
   "metadata": {},
   "outputs": [
    {
     "data": {
      "text/plain": [
       "matrix([[0.55280532, 1.03098561, 1.33227514, 1.03098561, 0.55280532,\n",
       "         0.85322574, 1.13137504, 0.55280532, 1.03098561]])"
      ]
     },
     "execution_count": 55,
     "metadata": {},
     "output_type": "execute_result"
    }
   ],
   "source": [
    "count_phrases = X.sum(axis=0)\n",
    "count_phrases"
   ]
  },
  {
   "cell_type": "code",
   "execution_count": 56,
   "metadata": {},
   "outputs": [
    {
     "ename": "NameError",
     "evalue": "name 'count_vectorizer' is not defined",
     "output_type": "error",
     "traceback": [
      "\u001b[0;31m---------------------------------------------------------------------------\u001b[0m",
      "\u001b[0;31mNameError\u001b[0m                                 Traceback (most recent call last)",
      "Input \u001b[0;32mIn [56]\u001b[0m, in \u001b[0;36m<cell line: 1>\u001b[0;34m()\u001b[0m\n\u001b[0;32m----> 1\u001b[0m phrase_freq \u001b[38;5;241m=\u001b[39m [(phrase, count_phrases[\u001b[38;5;241m0\u001b[39m, idx]) \u001b[38;5;28;01mfor\u001b[39;00m phrase, idx \u001b[38;5;129;01min\u001b[39;00m \u001b[43mcount_vectorizer\u001b[49m\u001b[38;5;241m.\u001b[39mvocabulary_\u001b[38;5;241m.\u001b[39mitems()]\n",
      "\u001b[0;31mNameError\u001b[0m: name 'count_vectorizer' is not defined"
     ]
    }
   ],
   "source": [
    "phrase_freq = [(phrase, count_phrases[0, idx]) for phrase, idx in count_vectorizer.vocabulary_.items()]"
   ]
  },
  {
   "cell_type": "code",
   "execution_count": 57,
   "metadata": {},
   "outputs": [
    {
     "ename": "NameError",
     "evalue": "name 'phrase_freq' is not defined",
     "output_type": "error",
     "traceback": [
      "\u001b[0;31m---------------------------------------------------------------------------\u001b[0m",
      "\u001b[0;31mNameError\u001b[0m                                 Traceback (most recent call last)",
      "Input \u001b[0;32mIn [57]\u001b[0m, in \u001b[0;36m<cell line: 1>\u001b[0;34m()\u001b[0m\n\u001b[0;32m----> 1\u001b[0m phrase_freq \u001b[38;5;241m=\u001b[39m \u001b[38;5;28msorted\u001b[39m(\u001b[43mphrase_freq\u001b[49m, key \u001b[38;5;241m=\u001b[39m \u001b[38;5;28;01mlambda\u001b[39;00m x: x[\u001b[38;5;241m1\u001b[39m], reverse\u001b[38;5;241m=\u001b[39m\u001b[38;5;28;01mTrue\u001b[39;00m)\n\u001b[1;32m      2\u001b[0m phrase_freq\n",
      "\u001b[0;31mNameError\u001b[0m: name 'phrase_freq' is not defined"
     ]
    }
   ],
   "source": [
    "phrase_freq = sorted(phrase_freq, key = lambda x: x[1], reverse=True)\n",
    "phrase_freq"
   ]
  },
  {
   "cell_type": "code",
   "execution_count": 58,
   "metadata": {},
   "outputs": [
    {
     "ename": "NameError",
     "evalue": "name 'data' is not defined",
     "output_type": "error",
     "traceback": [
      "\u001b[0;31m---------------------------------------------------------------------------\u001b[0m",
      "\u001b[0;31mNameError\u001b[0m                                 Traceback (most recent call last)",
      "Input \u001b[0;32mIn [58]\u001b[0m, in \u001b[0;36m<cell line: 5>\u001b[0;34m()\u001b[0m\n\u001b[1;32m      2\u001b[0m     phrase \u001b[38;5;241m=\u001b[39m phrase\u001b[38;5;241m.\u001b[39mlower()\n\u001b[1;32m      3\u001b[0m     \u001b[38;5;28mprint\u001b[39m([row \u001b[38;5;28;01mfor\u001b[39;00m row \u001b[38;5;129;01min\u001b[39;00m data \u001b[38;5;28;01mif\u001b[39;00m phrase \u001b[38;5;129;01min\u001b[39;00m row\u001b[38;5;241m.\u001b[39mlower()][:\u001b[38;5;241m3\u001b[39m])\n\u001b[0;32m----> 5\u001b[0m _print_samples(\u001b[43mdata\u001b[49m[:\u001b[38;5;241m10000\u001b[39m], \u001b[38;5;124m'\u001b[39m\u001b[38;5;124mgeneral meeting\u001b[39m\u001b[38;5;124m'\u001b[39m)\n",
      "\u001b[0;31mNameError\u001b[0m: name 'data' is not defined"
     ]
    }
   ],
   "source": [
    "def _print_samples(data, phrase):\n",
    "    phrase = phrase.lower()\n",
    "    print([row for row in data if phrase in row.lower()][:3])\n",
    "    \n",
    "_print_samples(data[:10000], 'general meeting')"
   ]
  },
  {
   "cell_type": "markdown",
   "metadata": {},
   "source": [
    "## Analyse categories"
   ]
  },
  {
   "cell_type": "code",
   "execution_count": 59,
   "metadata": {},
   "outputs": [
    {
     "name": "stdout",
     "output_type": "stream",
     "text": [
      "Corp. Action 7334\n",
      "Insider Trading / SAST 27155\n",
      "Company Update 151678\n",
      "Board Meeting 27233\n",
      " 21180\n",
      "Result 29135\n",
      "AGM/EGM 23790\n",
      " Corp Action 1040\n",
      "New Listing 85\n",
      "Corp Action 262\n"
     ]
    }
   ],
   "source": [
    "# group announcements by categories\n",
    "categories = {}\n",
    "\n",
    "for doc in announcements:\n",
    "    category = doc['category']\n",
    "    if category not in categories:\n",
    "        categories[category] = []\n",
    "    categories[category].append(doc)\n",
    "\n",
    "for category, docs in categories.items():\n",
    "    print(category, len(docs))"
   ]
  },
  {
   "cell_type": "code",
   "execution_count": 60,
   "metadata": {},
   "outputs": [
    {
     "data": {
      "text/plain": [
       "['Company Update', '']"
      ]
     },
     "execution_count": 60,
     "metadata": {},
     "output_type": "execute_result"
    }
   ],
   "source": [
    "self_explanatory_categories = [\n",
    "    'Insider Trading / SAST',\n",
    "    'Result',\n",
    "    'New Listing',\n",
    "]\n",
    "\n",
    "categories_with_own_clusters = [\n",
    "    'Corp. Action',\n",
    "    ' Corp Action',\n",
    "    'Corp Action',\n",
    "    'AGM/EGM',\n",
    "    'Board Meeting',\n",
    "    \n",
    "]\n",
    "\n",
    "other_categories = [\n",
    "    c for c in categories\n",
    "    if c not in (self_explanatory_categories + categories_with_own_clusters)\n",
    "]\n",
    "\n",
    "other_categories"
   ]
  },
  {
   "cell_type": "markdown",
   "metadata": {},
   "source": [
    "## Creating clusters for wide categories\n",
    "\n",
    "Categories like `corp-action`, `agm-egm`, `board-meeting` are good, but little wide.\n",
    "\n",
    "Let's see if we can extract more details for them."
   ]
  },
  {
   "cell_type": "code",
   "execution_count": 61,
   "metadata": {},
   "outputs": [],
   "source": [
    "from collections import Counter\n",
    "\n",
    "def _describe_counter(counter, texts, param):\n",
    "    unique_count = len([k for k, v in counter.items() if v == 1])\n",
    "    bundles_count = len(texts) - unique_count\n",
    "\n",
    "    print('Total docs:', len(texts))\n",
    "    print('\\n')\n",
    "    print(f'{bundles_count} bundles:\\n', counter.most_common(8))\n",
    "    print('\\n')\n",
    "    print(f'{unique_count} unique:\\n', counter.most_common()[-4:])\n",
    "    \n",
    "def describe(docs, param):\n",
    "    texts = [doc[param] for doc in docs]\n",
    "\n",
    "    # show different kinds of values\n",
    "    counter = Counter()\n",
    "    for text in texts:\n",
    "        counter[text] += 1\n",
    "\n",
    "    _describe_counter(counter, texts, param)"
   ]
  },
  {
   "cell_type": "code",
   "execution_count": 62,
   "metadata": {},
   "outputs": [],
   "source": [
    "from sklearn.feature_extraction.text import TfidfVectorizer\n",
    "\n",
    "\n",
    "def cluster_on_idf(docs, param):\n",
    "    texts = [_clean_doc(doc[param]) for doc in docs]\n",
    "    \n",
    "    # create tf-idf for texts\n",
    "    text_transformer = TfidfVectorizer(max_df=.6, min_df=50, stop_words=stop_words)\n",
    "    X = text_transformer.fit_transform(texts)\n",
    "    x = X.toarray()\n",
    "    print('shape of x', x.shape)\n",
    "    \n",
    "    # group by most common word\n",
    "    counter = Counter()\n",
    "\n",
    "    names = text_transformer.get_feature_names_out()\n",
    "    for row in x:\n",
    "        name_vals = sorted(zip(row, names), reverse=True)\n",
    "        most_used = name_vals[0][1]\n",
    "        counter[most_used] += 1\n",
    "    _describe_counter(counter, texts, param)"
   ]
  },
  {
   "cell_type": "code",
   "execution_count": 66,
   "metadata": {},
   "outputs": [],
   "source": [
    "param = 'subject'\n",
    "category = 'Corp. Action'"
   ]
  },
  {
   "cell_type": "code",
   "execution_count": 68,
   "metadata": {},
   "outputs": [
    {
     "name": "stdout",
     "output_type": "stream",
     "text": [
      "Total docs: 7334\n",
      "\n",
      "\n",
      "4134 bundles:\n",
      " [('Corporate Action-Board approves Dividend', 640), ('Corporate Action-Board to consider Dividend', 345), ('Board to consider Dividend', 270), ('Board recommends Dividend', 234), ('Board recommends Final Dividend', 191), ('Fixes Record Date for Interim Dividend', 132), ('Board declares Interim Dividend', 120), ('Intimation Of Book Closure', 82)]\n",
      "\n",
      "\n",
      "3200 unique:\n",
      " [('INTIMATION OF RECORD DATE FOR SPLIT/ SUB-DIVISION OF EQUITY SHARES OF THE COMPANY', 1), ('Intimation Of Revised Record Date For Sub-Division / Split Of Equity Shares Of The Company', 1), ('Board to consider FY22 & Q4 results & Final Dividend on April 12 and 13, 2022', 1), ('Corporate Action - Record Date For Declaration Of Interim Dividend , If Any', 1)]\n"
     ]
    }
   ],
   "source": [
    "describe(categories[category], param)"
   ]
  },
  {
   "cell_type": "code",
   "execution_count": 70,
   "metadata": {},
   "outputs": [
    {
     "name": "stdout",
     "output_type": "stream",
     "text": [
      "shape of x (7334, 109)\n",
      "Total docs: 7334\n",
      "\n",
      "\n",
      "7330 bundles:\n",
      " [('approves', 642), ('consider', 620), ('recommends', 435), ('interim', 309), ('intimation', 301), ('fixes', 274), ('purpose', 192), ('agm', 179)]\n",
      "\n",
      "\n",
      "4 unique:\n",
      " [('42', 1), ('fy21', 1), ('year', 1), ('division', 1)]\n"
     ]
    }
   ],
   "source": [
    "cluster_on_idf(categories[category], param)"
   ]
  },
  {
   "cell_type": "code",
   "execution_count": 75,
   "metadata": {},
   "outputs": [],
   "source": [
    "import numpy as np\n",
    "from collections import defaultdict\n",
    "from sklearn.cluster import KMeans\n",
    "from sklearn.decomposition import TruncatedSVD\n",
    "from sklearn.preprocessing import Normalizer\n",
    "from sklearn.pipeline import make_pipeline\n",
    "from sklearn.metrics import silhouette_score\n",
    "import matplotlib.pyplot as plt\n",
    "import csv\n",
    "\n",
    "\n",
    "def _get_kmeans_cluster(X, n_clusters):    \n",
    "    kmeans = KMeans(n_clusters=n_clusters).fit(X)\n",
    "    return kmeans\n",
    "\n",
    "\n",
    "def _get_silhouette_score(X, kmeans):\n",
    "    score = silhouette_score(X, kmeans.labels_)\n",
    "    remark = 'bad' if score < .4 else (\n",
    "        'okay' if score < .6 else 'good'\n",
    "    )\n",
    "    return score, remark\n",
    "\n",
    "\n",
    "def _plot_silhouette_score_graph(X, n_clusters):\n",
    "    n__score = {}\n",
    "    samples = sorted(\n",
    "        set(round(i) for i in np.linspace(n_clusters * .8, n_clusters * 1.2, 4))\n",
    "    )\n",
    "    for i in samples:\n",
    "        kmeans = _get_kmeans_cluster(X, i)\n",
    "        score, _ = _get_silhouette_score(X, kmeans)\n",
    "        n__score[i] = score\n",
    "    \n",
    "    # print the above values\n",
    "    x_axis = list(n__score.keys())\n",
    "    y_axis = list(n__score.values())\n",
    "    plt.xlabel('k')\n",
    "    plt.ylabel('silhouette score')\n",
    "    plt.plot(x_axis, y_axis)\n",
    "        \n",
    "\n",
    "def _preview_clusters(clusters):\n",
    "    # print first 2 and last 2 items of each cluster\n",
    "    for label, items in clusters.items():\n",
    "        by_score = sorted(items, key=lambda o: o[1])\n",
    "        print('\\n', 'label:', label, '\\n', by_score[:2], by_score[-2:], '\\n')\n",
    "    \n",
    "\n",
    "def _generate_csv(clusters, param, filename):\n",
    "    headings = [param, 'label', 'score', 'tag']\n",
    "    \n",
    "    rows = []\n",
    "    for label, items in clusters.items():\n",
    "        for text, score in items:\n",
    "            row = [text, label, score, '']\n",
    "            rows.append(row)\n",
    "\n",
    "    with open(filename, 'x') as f:\n",
    "        writer = csv.writer(f)\n",
    "        writer.writerow(headings)\n",
    "        writer.writerows(rows)\n",
    "    \n",
    "\n",
    "def cluster_by_kmeans(docs, param, n_clusters=8, detailed_output=True):\n",
    "    docs = docs[:7000]\n",
    "    texts = [_clean_doc(doc[param]) for doc in docs]\n",
    "    \n",
    "    # create tf-idf for texts\n",
    "    text_transformer = TfidfVectorizer(max_df=.6, min_df=50, stop_words=stop_words)\n",
    "    X = text_transformer.fit_transform(texts)\n",
    "    \n",
    "    # reduce features using linear semantic analysis (SVD)\n",
    "    svd = TruncatedSVD(n_components=100)\n",
    "    normalizer = Normalizer(copy=False)\n",
    "    lsa = make_pipeline(svd, normalizer)\n",
    "    X = lsa.fit_transform(X)\n",
    "    print(X.shape)\n",
    "\n",
    "    kmeans = _get_kmeans_cluster(X, n_clusters=n_clusters)\n",
    "    score, remark = _get_silhouette_score(X, kmeans)\n",
    "    print('silhouette score', score, remark)\n",
    "\n",
    "    if not detailed_output:\n",
    "        return\n",
    "    doc_distances = kmeans.transform(X)\n",
    "    clusters = defaultdict(list)\n",
    "    for idx, doc_distance in enumerate(doc_distances):\n",
    "        text = texts[idx]\n",
    "        doc_distance = list(doc_distance)\n",
    "        score = min(doc_distance)\n",
    "        label = list(doc_distance).index(score)\n",
    "        clusters[label].append((text, score))\n",
    "\n",
    "    counter = Counter(**{str(label): len(items) for label, items in clusters.items()})\n",
    "    _describe_counter(counter, texts, param)    \n",
    "    \n",
    "    _plot_silhouette_score_graph(X, n_clusters)\n",
    "    _preview_clusters(clusters)\n",
    "    return clusters"
   ]
  },
  {
   "cell_type": "code",
   "execution_count": 79,
   "metadata": {},
   "outputs": [
    {
     "name": "stdout",
     "output_type": "stream",
     "text": [
      "(7000, 100)\n",
      "silhouette score 0.5756278372750402 okay\n"
     ]
    }
   ],
   "source": [
    "n_clusters = 200\n",
    "cluster_by_kmeans(categories[category], param, n_clusters=n_clusters, detailed_output=False)"
   ]
  },
  {
   "cell_type": "code",
   "execution_count": 80,
   "metadata": {},
   "outputs": [
    {
     "name": "stdout",
     "output_type": "stream",
     "text": [
      "(7000, 100)\n",
      "silhouette score 0.5723337181315882 okay\n",
      "Total docs: 7000\n",
      "\n",
      "\n",
      "7000 bundles:\n",
      " [('3', 591), ('8', 336), ('21', 279), ('6', 237), ('25', 194), ('40', 156), ('7', 128), ('48', 118)]\n",
      "\n",
      "\n",
      "0 unique:\n",
      " [('178', 4), ('175', 4), ('43', 3), ('15', 2)]\n",
      "\n",
      " label: 13 \n",
      " [('Board declares Interim Dividend', 0.014162188328022842), ('Board declares Interim Dividend', 0.014162188328022842)] [('Board declares Special Dividend', 0.511106024399208), ('Board declares lnterim Dividend', 0.511106024399208)] \n",
      "\n",
      "\n",
      " label: 116 \n",
      " [('Board to consider FY21 results & Dividend on April 15, 2021', 0.22746523073891306), ('Board to consider FY21 results & Dividend on April 20, 2021', 0.22746523073891306)] [('Board to consider FY21 results & Final Dividend on April 22, 2021', 0.5413126330853832), ('Board to consider FY21 Results & Dividend on August 25, 2021', 0.5844575530309258)] \n",
      "\n",
      "\n",
      " label: 7 \n",
      " [('Fixes Record Date for Interim Dividend', 0.010150126950493261), ('Fixes Record Date for Interim Dividend', 0.010150126950493261)] [('Fixes Record Date For The Interim Dividend - 23Rd November, 2021', 0.4378330876762289), ('Board Fixes November 19, 2021 As The Record Date For Interim Dividend. ', 0.5140509174325674)] \n",
      "\n",
      "\n",
      " label: 14 \n",
      " [('Corporate Action-Outcome of Sub division / Stock Split', 0.1302927422412122), ('Corporate Action-Outcome of Sub division / Stock Split', 0.1302927422412122)] [('Corporate Action-updates on Outcome of Sub division / Stock Split', 0.3365895841231391), ('Corporate Action-updates on Outcome of Sub division / Stock Split', 0.3365895841231391)] \n",
      "\n",
      "\n",
      " label: 40 \n",
      " [('Intimation Of Book Closure', 0.015363623830224644), ('Intimation Of Book Closure', 0.015363623830224644)] [('Intimation For Bool Closure ', 0.554441846642059), ('Intimation Of Book Closure Pursuant To Section 91', 0.7873231271612753)] \n",
      "\n",
      "\n",
      " label: 66 \n",
      " [('Intimation Of Book Closure, Cut-Off Date And E-Voting Period For 8Th agm.', 0.2857982792798647), ('Intimation About Book Closure, Cut-Off Date And Date Of 11Th agm And E-Voting Period.', 0.30779608497318944)] [('Intimation For Extra-Ordinary General Meeting, Book Closure & E-Voting Period', 0.6676120593873583), ('Intimation Regarding Book Closure, Record Date, E-Voting Period And Date Of 36Th agm', 0.6719272498586301)] \n",
      "\n",
      "\n",
      " label: 164 \n",
      " [('Intimation Of Book Closure  For The Purpose Of 50Th agm Scheduled To Be Held On 30Th November 2021.', 0.3765106288656812), ('Intimation Of Book Closure For The Purpose Of 37Th agm Scheduled To Be Held On 30Th November 2021.', 0.3765106288656812)] [('Record Date Intimation For The Purpose Of Declaration Of Final Dividend For The Year Ended 31.3.2021 At The 44Th agm Of The Company Scheduled To Be Held On 24.9.2021 At 11.00 Hrs. Through Video Conference/Other Audio Visual Means.', 0.7684289536100827), ('Fixation Of Record Date As 26Th March, 2021, Subject To Approval Of The Board In Its Meeting Scheduled To Be Held On 18Th March, 2021, The Prior Intimation Of Which Was Given On 13Th March, 2021.', 0.7846870489500759)] \n",
      "\n",
      "\n",
      " label: 3 \n",
      " [('Corporate Action-Board approves Dividend', 0.0011210514019159574), ('Corporate Action-Board approves Dividend', 0.0011210514019159574)] [('Corporate Action-Board approves Dividend', 0.0011210514019159574), ('Board Approves Dividend', 0.6614203271671832)] \n",
      "\n",
      "\n",
      " label: 148 \n",
      " [('Outcome Of Board Meeting  ', 0.3218119671592353), ('Outcome Of The Board Meeting', 0.3218119671592353)] [('Intimation U/R 30 Of The lodr - Outcome Of Our Board Meeting Held On 1St July 2021', 0.6646611703300132), ('Outcome Of The Board Meeting Held On July 16, 2021 - Fixing  Of Record Date For The Proposed Rights Issue', 0.7068189084631424)] \n",
      "\n",
      "\n",
      " label: 8 \n",
      " [('Corporate Action-Board to consider Dividend', 2.9802322387695312e-08), ('Corporate Action-Board to consider Dividend', 2.9802322387695312e-08)] [('Corporate Action-Board to consider Dividend', 2.9802322387695312e-08), ('Corporate Action-Board to consider Dividend', 2.9802322387695312e-08)] \n",
      "\n",
      "\n",
      " label: 35 \n",
      " [('Board to consider Second Interim Dividend', 0.1437560332904436), ('Board to consider Second Interim Dividend', 0.1437560332904436)] [('Board to consider Q2 Results & Second Interim Dividend on October 27, 2021', 0.6761216912525218), ('Convening Of Board Meeting For Declaration Of Second Interim Dividend, If Any For The Year Ending 31St March 2021', 0.8909480411217207)] \n",
      "\n",
      "\n",
      " label: 85 \n",
      " [('Mercury Laboratories Limited -Book Closure', 0.3988587894701069), ('Span Divergent Limited - Book Closure', 0.3988587894701069)] [(\"Record Date For Bonus Debentures And Dividend Pursuant To Scheme Of Arrangement Between Britannia Industries Limited And Its Members ('Scheme')\", 0.8007295648598155), (\"Disclosure under  of SEBI (LODRs) regulations 2015 - Update on withdrawal of the Scheme of Arrangement between Reliance Industries Limited & its Shareholders and Creditors and Reliance O2C Limited & its Shareholders and Creditors ('O2C Scheme')\", 0.8110407476135467)] \n",
      "\n",
      "\n",
      " label: 83 \n",
      " [('Fixes Record Date for Second Interim Dividend', 0.15173700588579084), ('Fixes Record Date for Second Interim Dividend', 0.15173700588579084)] [(\"Record Date Fixed Pursuant To Board''s Approval On Second Interim Dividend Declaration\", 0.7024390821421402), ('Fixed Record Date 25Th November,2021 For Payment Of Second Interim Dividend For FY22.', 0.7043543459912837)] \n",
      "\n",
      "\n",
      " label: 187 \n",
      " [('Corporate Action - Record Date', 0.20204363954936408), ('Corporate Action-Record Date', 0.20204363954936408)] [('Corporate Action - Record Date For Dividend - FY21', 0.6626769708547022), ('CORPORATE ACTION- RECORD DATE AND CLOSURE OF BOOKS FOR THE PURPOSE OF AGM AND DIVIDEND ', 0.7920163074921528)] \n",
      "\n",
      "\n",
      " label: 120 \n",
      " [('Record Date Of Sub-Division Of Equity Shares', 0.24108229013111024), ('Intimation Of Record Date For Sub-Division Of Equity Shares', 0.2621250661363208)] [('Corporate Action - Fixes Record Date For Purpose Of Sub Division Of Nominal Value Of Equity Share', 0.6853343417077564), (\"Record Date For The Split/Sub-Division Of Equity Shares Of The Company Will Be 'Friday, 29Th October, 2021' \", 0.7089296606816164)] \n",
      "\n",
      "\n",
      " label: 58 \n",
      " [('Board to consider Interim Dividend', 0.061641565483190455), ('Board to consider Interim Dividend', 0.061641565483190455)] [('Interim Dividend', 0.6693760976822569), ('Boards declars interim dividend', 0.6693760976822569)] \n",
      "\n",
      "\n",
      " label: 191 \n",
      " [(\"Intimation Of ''Record Date'' Under Regulation 42(2) Of The lodr.\", 0.2865487545561419), ('Intimation Under Regulation 42 Of lodr Of Record Date', 0.2865487545561419)] [('Revised Record Date- Intimation Under Regulation 42 Of The SEBI lodr Regulation 2015 For Revising The Record Date Fixed For Purpose Of Issue Of Bonus Shares ', 0.761732444912836), ('Board Meeting - Intimation Under Regulation 29 Of lodr - Revision In The Record Date  ', 0.873153641240171)] \n",
      "\n",
      "\n",
      " label: 0 \n",
      " [('Record Date', 0.12212031282140122), ('Change In Record Date', 0.12212031282140122)] [(\"The Board Of Directors Has Determined The Record Date For The Proposed Buyback As April 1, 2021 ('Record Date').\", 0.4606442201276125), ('Records Date ', 0.7885633626990156)] \n",
      "\n",
      "\n",
      " label: 82 \n",
      " [('Board to consider Bonus Issue', 0.18324833611389518), ('Board to consider Bonus Issue', 0.18324833611389518)] [('Board approves Bonus Issue', 0.5731223049203011), ('Board recommend Bonus Issue & Final Dividend', 0.6175045356511099)] \n",
      "\n",
      "\n",
      " label: 79 \n",
      " [('Board approves Sub-Division of Equity Shares', 0.05456424756269203), ('Board approves Sub-Division of Equity Shares', 0.05456424756269203)] [('Board approves Stock Split (Sub-division) of equity shares', 0.5781265122743229), ('Board approves Sub-division of equity share', 0.6028844134585748)] \n",
      "\n",
      "\n",
      " label: 73 \n",
      " [('Closure Of Register Of Members And Share Transfer Books Of The Company For The Purpose Of agm.', 0.2352380132897382), ('Intimation For Closure Of Share Transfer Books And Register Of Members For The Purpose Of 38Th agm Of The Company.', 0.24714895825423205)] [('Share Transfer Book Closure For 33Rd agm Of The Company.', 0.7633522384322187), ('Intimation Of Closure Of The Register Of Members And Shares Transfer Books & Cut-Off Date For E-Voting For The 36Th agm Of The Company To Be Held On September 30, 2020. ', 0.8472427922007095)] \n",
      "\n",
      "\n",
      " label: 99 \n",
      " [('Board declares Second Interim Dividend', 0.0), ('Board declares Second Interim Dividend', 0.0)] [('Board declares Second Interim Dividend', 0.0), ('Board declares Second Interim Dividend', 0.0)] \n",
      "\n",
      "\n",
      " label: 19 \n",
      " [('Record Date For Final Dividend -FY 2020-2021', 0.32896024094907483), ('Record Date For 29Th AGM  & Final Dividend For FY 2020-2021', 0.4193939720662252)] [('Book Closure For 29Th AGM For FY 2020-2021', 0.6159985784525412), ('Record Date For Final Dividend 2020-2021', 0.6310884274547147)] \n",
      "\n",
      "\n",
      " label: 76 \n",
      " [('Record Date For Final Dividend For The FY 2020-21', 0.2565550316148935), ('Record Date For Final Dividend For The FY 2020-21', 0.2565550316148935)] [('The Record Date Fixed For Final Dividend 2020-21', 0.6664526612391426), ('Corporate Action- Fixes Record Date On August 28, 2021 For The Purpose Of Dividend For FY 2020-21', 0.7136773270992376)] \n",
      "\n",
      "\n",
      " label: 23 \n",
      " [('Record Date For The Payment Of Interim Dividend, If Any', 0.14961964602800867), ('Record Date For Payment Of Interim Dividend', 0.14961964602800867)] [('Revised Record Date For Payment Of Interim Dividend', 0.5753518634798177), ('The Record Date For Payment Of The Interim Dividend Will Be October 22, 2021.', 0.6440013921347477)] \n",
      "\n",
      "\n",
      " label: 177 \n",
      " [('Record Date For Buyback Of Equity Shares', 0.27447513629991915), ('Record Date For Buy Back Of Equity Shares', 0.27447513629991915)] [('Intimation Of Board Meeting And Record Date For Interim Dividend_ Equity Shares And Unlisted Preference Shares- 2020-21', 0.6942358421552665), ('Intimation Of Board Meeting And Record Date For Interim Dividend Equity Shares - 2021-22', 0.7681235079992401)] \n",
      "\n",
      "\n",
      " label: 110 \n",
      " [('Fixed, Saturday, 23Rd October, 2021 As The Record Date For Determining Entitlement Of Shareholders To Receive The Interim Dividend For Financial Year 2021-22. ', 0.44784868697839014), ('Fixed The Record Date (Tuesday, November 9, 2021) For Determining Entitlement Of Shareholders For Payment Of Interim Dividend For Financial Year 2021-22', 0.47726646131667255)] [('Annual Closing And Dates For Determining Entitlement Of The Shareholders To The Final Dividend For The Financial Year 2020-2021. ', 0.8002644424943265), (\"For The 28Th agm The Company Has Fixed 07Th April, 2021 As The 'CUT OFF DATE' For Determining The Eligibility Of The Member To Vote By Electronic Means.  \", 0.8204150715381879)] \n",
      "\n",
      "\n",
      " label: 141 \n",
      " [('Corporate Action-Amalgamation/ Merger / Demerger', 0.25084368550122615), ('Corporate Action-Amalgamation/ Merger / Demerger', 0.25084368550122615)] [('Corporate Action-Intimation of Consolidation of Shares', 0.7180217139517678), ('Corporate Action - Closing Of Books Of Accounts For The Agm', 0.8489519702159342)] \n",
      "\n",
      "\n",
      " label: 118 \n",
      " [('Board to consider Sub-Division of Equity Shares', 0.12340876517788121), ('Board to consider Sub-division of equity shares', 0.12340876517788121)] [('Board to consider First Interim Dividend & Sub-division/Split of Equity shares', 0.6342300258412934), ('Outcome of Board Meeting (Split/Sub-division of equity shares)', 0.7350147490646234)] \n",
      "\n",
      "\n",
      " label: 11 \n",
      " [('Board to consider FY21 results & Dividend on May 14, 2021', 0.06725397025431919), ('Board to consider FY21 results & Dividend on May 14, 2021', 0.06725397025431919)] [('Board to consider FY21 results , Dividend & Rights Issue on May 21, 2021', 0.7023577113783008), ('Board to consider FY 20 results & Dividend on May 25, 2021', 0.7225215923857695)] \n",
      "\n",
      "\n",
      " label: 158 \n",
      " [('Book Closure For AGM And Dividend', 0.0), ('BOOK CLOSURE FOR DIVIDEND AND AGM', 0.0)] [('Book Closure For 39Th agm And Dividend.', 0.0), ('Book Closure For Dividend & AGM', 0.0)] \n",
      "\n",
      "\n",
      " label: 81 \n",
      " [('Record Date For Interim Dividend', 0.1465633818024265), ('Record Date For Interim Dividend', 0.1465633818024265)] [('INTIMATION OF RECORD DATE FOR THE PURPOSE OF INTERIM DIVIDEND', 0.5510381082684871), ('Record Date For Interim Dividend - Thursday, November 11, 2021', 0.8014477790716273)] \n",
      "\n",
      "\n",
      " label: 108 \n",
      " [('Record Date Fixation', 0.287726917478394), ('Fixation Of Record Date', 0.287726917478394)] [('Fixation Of Record Date For The Members Entitlement Of Sub-Divided Shares', 0.7435757834978315), ('Fixation Of Record Date For The Purpose Of Final Dividend Is 21/09/2021', 0.8162370649467522)] \n",
      "\n",
      "\n",
      " label: 54 \n",
      " [('Corporate Action - Fixes Record Date For Exercising The Call Option In Respect Of Non - Convertible Debentures', 0.21416548972422209), ('Corporate Action- Fixes Record Date', 0.21416548972422209)] [('Corporate Action - Fixes Record Date For (Dividend And               E-Voting)', 0.6125655225727611), ('Corporate Action - Fixes Record Date For Split In Face Value Of Shares', 0.7734386663732343)] \n",
      "\n",
      "\n",
      " label: 21 \n",
      " [('Board to consider Dividend', 0.01700511379069446), ('Board to consider Dividend', 0.01700511379069446)] [('Board to cosider Dividend', 0.7737326774759326), ('Board to cosider Dividend', 0.7737326774759326)] \n",
      "\n",
      "\n",
      " label: 171 \n",
      " [('NOTICE OF RECORD DATE For F.Y 2020-21 AGM', 0.3979537821949778), ('Record Date For The AGM 2020-21 ', 0.4010729946935812)] [('India Nippon Fixes Record Date As 8Th April 2021 For The Interim Dividend For 2020-21', 0.7201265221300341), ('Book Closure Date Fixed By The Company From 21St Sep 21 To 27Th Sep 21', 0.8102328178699153)] \n",
      "\n",
      "\n",
      " label: 121 \n",
      " [('Board to consider FY21 results & Dividend on May 27, 2021', 0.20096414581843913), ('Board to consider FY21 Results & Dividend on May 27, 2021', 0.20096414581843913)] [('Board to consider Q2 results & Interim Dividend on Oct 27, 2021', 0.5653178206780073), ('Board to consider FY21 results & Final Dividend on April 27 & 28, 2021', 0.6033486994744461)] \n",
      "\n",
      "\n",
      " label: 92 \n",
      " [('Fixed Record Date For Dividend', 0.3717709393043416), ('Record Date Fixed As 19-November-2021', 0.4185822660148886)] [('The Company Has Fixed The Record Date On Thursday, September 02, 2021', 0.7689241298681554), ('India Nippon Electricals Ltd Fixed Revised Record Date For Interim Dividend For FY2020-21', 0.8398236729472001)] \n",
      "\n",
      "\n",
      " label: 29 \n",
      " [('Intimation Of Book Closure Pursuant To Regulation 42 Of The Securities & Exchange Board Of India lodr regulations 2015.', 0.11922314399210095), ('Intimation Of Book Closure Pursuant To Regulation 42 Of The Securities & Exchange Board Of India lodr regulations 2015.', 0.11922314399210095)] [('Intimation Of Book Closure Pursuant To Regulation 42 Of The Securities & Exchange Board Of India (Listing Obligations & Disclosure Requirements) regulations 2015', 0.6236017935413876), ('Exercise Of Call Option On Non - Convertible Securities (Ncds) Aggregating To Rs. 250 Crores', 1.017375599785978)] \n",
      "\n",
      "\n",
      " label: 57 \n",
      " [('Corporate Action-Outcome of Right issue', 0.138202885125345), ('Corporate Action-Outcome of Right issue', 0.138202885125345)] [('Corporate Action-Outcome of Capital Reduction', 0.44391002452095757), ('Corporate Action-Outcome of Consolidation of Shares', 0.6701594402596461)] \n",
      "\n",
      "\n",
      " label: 193 \n",
      " [('Board to consider FY21 results & Final Dividend on May 20, 2021', 0.09134433744906886), ('Board to consider FY21 results & Final Dividend on May 06, 2021', 0.09134433744906886)] [('Board to consider FY21 results & Final Dividend on May 29, 2021', 0.4810408868306849), ('Board to consider FY21 results & Final Dividend on May 29, 2021', 0.4810408868306849)] \n",
      "\n",
      "\n",
      " label: 105 \n",
      " [('Fixes Record Date for Dividend', 0.14466864411226985), ('Fixes Record Date for Dividend', 0.14466864411226985)] [('Corporates Action- Fixes Record Date For Dividend ', 0.4599496023925814), ('Fixes Record Date For Dividend I.E. November 9, 2021', 0.5177081480629335)] \n",
      "\n",
      "\n",
      " label: 139 \n",
      " [('Fixes Book Closure for EGM', 0.0261446243542795), ('Fixes Book Closure for EGM', 0.0261446243542795)] [('Fixes Book Closure for Dividend & A G M', 0.3747188889782848), ('The Board Fixes Book Closure For EGM', 0.41984742417895526)] \n",
      "\n",
      "\n",
      " label: 184 \n",
      " [('Book Closure For AGM For The FY 2020-21', 0.37245117254638027), ('INTIMATION OF BOOK CLOSURE FOR 41ST agm AND FINAL DIVIDEND FY 2020-21', 0.38017918138708906)] [('Submission Of Book Closure For FY 18-19', 0.7101204171408095), ('Board to consider FY 21 Results & Dividend', 0.8288923318291179)] \n",
      "\n",
      "\n",
      " label: 95 \n",
      " [('Record Date For 2Nd Interim Dividend, If Declared', 0.4460013058193997), ('Record Date For The Purpose Of Dividend (If Declared At The AGM)', 0.455050028892518)] [('For Payment Of Interim Dividend,If Declared At The Board Meeting', 0.7960660050308841), ('Intimation Under Regulation 42 Of lodr And Section 91 Of The Companies Act, 2013 For Record Date For The Purpose Of Payment Of Dividend, If Declared At The Ensuing 37Th AGM To Be Held On Monday, September 27, 2021', 0.8414372228445344)] \n",
      "\n",
      "\n",
      " label: 104 \n",
      " [('Convening Of egm (EGM) For Election Of One Shareholder Director.', 0.5365385162183574), ('egm', 0.5365385162183574)] [('In Terms Of Regulation 42 Of The Listing Regulations, The Record Date For Reckoning The Shareholders Who Shall Be Entitled To Receive The Interim Dividend, If Any, So Declared Will Be Monday, July 26, 2021.', 0.8341518630636079), ('Nestle India -The Book Closure From 1St  May 2021 To 7Th May 2021 (Both Days Inclusive) For The Purpose Of Annual Closing And Final Dividend, 2020, As Intimated Vide Our Letter BM:PKR:05:21 Dated 16Th February 2021, Shall Also Determine The Entitlement Of The Shareholders To The Interim Dividend For The Year 2021, If Any, That May Be Declared By The Board Of Directors On 20Th April 2021. Intimation Of The Book Closure Dates For The Purpose Of Interim Dividend For The Year 2021, If Any, Is Enclosed', 0.8580894948709484)] \n",
      "\n",
      "\n",
      " label: 67 \n",
      " [('Board to consider FY21 results & Dividend on April 29, 2021', 0.24380048661011508), ('Board to consider FY21 results & Dividend on April 29, 2021', 0.24380048661011508)] [('Board to consider Q2 results & Interim Dividend on Oct 29, 2021', 0.5830822206886738), ('Board to consider FY21 results & Final Dividend on April 28, 29 & 30, 2021', 0.6650084673876245)] \n",
      "\n",
      "\n",
      " label: 136 \n",
      " [(\"Intimation Of Record Date For The Purpose Of First And Final Call On The Partly Paid-Up Equity Shares (ISIN: IN9955V01011) Of Arvind Fashions Limited ('Company')\", 0.4791393647520676), (\"Intimation Of Record Date For The Purpose Of First And Final Call On The Partly Paid-Up Equity Shares (ISIN: IN9594V01018) Of Texel Industries Limited ('Company')\", 0.4791393647520676)] [(\"Revised Disclosure Under Regulation 42 Of The lodr - 'Record Date' For The Purpose Of First Call On 5,00,00,000 Partly Paid-Up Equity Shares Of Face Value Of Rs.1 Each Issued And Allotted On Rights Basis\", 0.7059136811686585), ('Record Date For The Purpose Of Forty First agm Of The Company', 0.7081294319438265)] \n",
      "\n",
      "\n",
      " label: 70 \n",
      " [('Intimation Of Book Closure Pursuant To Regulation 42 Of The sebi lodr regulations 2015', 0.09227431137377207), ('Intimation Of Book Closure Pursuant To Regulation 42 Of The sebi lodr regulations 2015', 0.09227431137377207)] [('Intimation Of Record Date In Connection With The Sub-Division Of Equity Shares Of The Company, Pursuant To Regulation 42 Of SEBI lodr, Regulations 2015.', 0.7199920977184747), (\"Intimation Of Record Date Pursuant To Regulation 42 Of SEBIlodr regulations 2015 For Reduction Of Equity Share Capital Of The Company Pursuant To The Resolution Plan Approved By The Hon''ble NCLT Vide Order Dated 25Th June 2021\", 0.8670144770853846)] \n",
      "\n",
      "\n",
      " label: 161 \n",
      " [('Corporate Action-Updates on intimation of Sub division / Stock Split', 2.1073424255447017e-08), ('Corporate Action-Updates on intimation of Sub division / Stock Split', 2.1073424255447017e-08)] [('Corporate Action-Updates on intimation of Sub division / Stock Split', 2.1073424255447017e-08), ('Corporate Action-Updates on intimation of Sub division / Stock Split', 2.1073424255447017e-08)] \n",
      "\n",
      "\n",
      " label: 1 \n",
      " [('Board to consider Final Dividend', 0.0), ('Board to consider Final Dividend', 0.0)] [('Board to consider Final Dividend', 0.0), ('Board to consider Final Dividend', 0.0)] \n",
      "\n",
      "\n",
      " label: 68 \n",
      " [('Intimation Of Record Date', 0.06306196592394134), ('Intimation Of The Record Date', 0.06306196592394134)] [('Record Date Intimation For 26Th AGM ', 0.423440706147369), ('Intimation Of Record Date For Dividend And AGM.', 0.5177005079699987)] \n",
      "\n",
      "\n",
      " label: 84 \n",
      " [('Board to consider Q1 results & Interim Dividend on April 19, 2021', 0.17519856511468795), ('Board to consider Q3 results & Interim Dividend on Oct 13, 2021', 0.17519856511468795)] [('Board to consider Q2 results & First Interim Dividend on Oct 21, 2021', 0.7423379994523215), ('Approval Of Financial Results And Consideration Of Declaration Of Third Interim Dividend\\r\\n', 0.8451216564943231)] \n",
      "\n",
      "\n",
      " label: 25 \n",
      " [('Board recommends Final Dividend', 0.006372844253770622), ('Board recommends Final Dividend', 0.006372844253770622)] [('Boards recommends Final Dividend', 0.3456847728730487), ('Boards recommends Final Dividend', 0.3456847728730487)] \n",
      "\n",
      "\n",
      " label: 182 \n",
      " [('Board to consider FY21 results & Dividend on May 28, 2021', 0.2035483517056806), ('Board to consider FY21 results & Dividend on May 28, 2021', 0.2035483517056806)] [('Board to consider FY21 results & Final Dividend on April 28, 2021', 0.37569714070317134), ('Board to consider Q2 results & Interim Dividend on Oct 28, 2021', 0.6092209158335222)] \n",
      "\n",
      "\n",
      " label: 46 \n",
      " [('Corporate Action-Updates on Amalgamation/ Merger / Demerger', 0.07662869552848504), ('Corporate Action-Updates on Amalgamation/ Merger / Demerger', 0.07662869552848504)] [('Announcement under  lodr-Dividend Updates', 0.7025630097662181), ('Updates on Book Closure for Interim Dividend', 0.7473889192541001)] \n",
      "\n",
      "\n",
      " label: 55 \n",
      " [('agm And Record Date', 0.08620721401476619), ('21St agm And The Record Date', 0.08620721401476619)] [('Record Date For Dividend And agm', 0.32334810165465777), ('Record Date For AGM And Dividend 2021 ', 0.5984610047869522)] \n",
      "\n",
      "\n",
      " label: 179 \n",
      " [('Corporate Action Fixes Book Closure For 29Th AGM', 0.22404614206182796), ('Corporate Action Fixes Book Closure For 29Th AGM. ', 0.22404614206182796)] [('Corporate Action - Fixes Book Closure For AGM Schedule To Be Held On 29Th September, 2021 ', 0.6180239856860145), ('Corporate Action Fix Book Closure Date From 29Th April 2021 To 5Th May, 2021', 0.8330839710269435)] \n",
      "\n",
      "\n",
      " label: 6 \n",
      " [('Board recommends Dividend', 0.006103609649966257), ('Board recommends Dividend', 0.006103609649966257)] [('Boards recommends dividend', 0.44353331390370787), ('Boards recommends dividend', 0.44353331390370787)] \n",
      "\n",
      "\n",
      " label: 47 \n",
      " [('Intimation For Record Date For Issue Of Bonus Equity Shares ', 0.2793474748530047), ('Intimation Of Record Date For Issue Of Bonus Equity Shares', 0.2793474748530047)] [('Record Date For Issue Of Bonus Shares - Wednesday, July 14, 2021', 0.752971986026905), ('Lntimation Of Record Date For Lssue Of Bonus Equity Shares - Disclosure Under Regulation 42 Of The lodr', 0.7827063215673664)] \n",
      "\n",
      "\n",
      " label: 42 \n",
      " [('Fixes Book Closure For AGM', 0.026212794347809973), ('Fixes Book Closure For agm', 0.026212794347809973)] [('Board Fixes Book Closure For AGM', 0.3893671643482643), ('Intimation- Fixes Book Closure For agm', 0.46553013635941787)] \n",
      "\n",
      "\n",
      " label: 87 \n",
      " [('Fixes Record Date for First Interim Dividend', 0.1642924197740835), ('Fixes Record Date for First Interim Dividend', 0.1642924197740835)] [('Record Date For The Purpose Of Payment Of First Interim Dividend For The F.Y 2021-22.', 0.7074552186013215), ('Record Date For First And Final Call-Right Issue', 0.7655416890896907)] \n",
      "\n",
      "\n",
      " label: 180 \n",
      " [('Pursuant To Regulation 42 Of The SEBI lodr, regulations 2015, The Register Of Members And Share Transfer Books Of The Company Will Be Closed From Wednesday, The 30Th Day Of June, 2021 To Tuesday, The 6Th Day Of July 2021 (Both Days Inclusive) For The Purpose Of 23Rd AGM.', 0.4394439984244319), ('Pursuant To Regulation 42 Of The SEBI lodr, regulations 2015, The Register Of Members And Share Transfer Books Of The Company Will Be Closed From Wednesday, The 30Th Day Of June, 2021 To Tuesday, The 6Th Day Of July 2021 (Both Days Inclusive) For The Purpose Of 27Th AGM.', 0.47468683477499674)] [('Corporate Action - Fixed The Date Of Closure Of Register Of Members And Share Transfer Books Of The Company From Thursday, 24Th June, 2021 To Wednesday, 30Th June, 2021 (Both Days Inclusive) For The Purpose Of Holding The 37Th AGM And For Payment Of Dividend To The Equity Shareholders; ', 0.7288665014870124), ('The 26Th agm (AGM) Of The Company Will Be Held On Friday, 29Th October, 2021 To Adopt The Audited Financial Statements For The Financial Year Ended 31St March, 2020.   B) The Register Of Members And Share Transfer Registers Will Remain Closed From 25Th October, 2021 To 29Th October, 2021 (Both Days Inclusive) For The Purpose Of AGM As Per Clause 42 Of SEBI lodr LODR regulations 2015 (As Amended) ', 0.732727473370599)] \n",
      "\n",
      "\n",
      " label: 44 \n",
      " [('Intimation Of Record Date For The Purpose Of Final Dividend For The Financial Year 2020-21', 0.23372405438974864), ('Intimation Of Record Date For The Purpose Of Final Dividend For The Financial Year 2020-21', 0.23372405438974864)] [('Intimation Regarding Of 56Th agm Of The Company And Record Date For Final Dividend For The Year 2020-21', 0.7269928025730646), ('Record Date For The Purpose Of Final Dividend For Financial Year 2020-2021 Will Be Wednesday, 15 September 2021.', 0.7383181409523563)] \n",
      "\n",
      "\n",
      " label: 98 \n",
      " [('INTIMATION OF CUT-OFF DATE/RECORD DATE FOR 27TH agm (AGM) ', 0.4292333826329981), ('Record Date For 27Th agm', 0.438751406716624)] [('Cut Off Date To Record The Entitlement Of Share Holders To Vote For 27Th AGM', 0.6120961845881563), ('Record Date For 27Th agm (AGM) F.Y.2020-2021 Of  ZENITH HEALTHCARE LIMITED.', 0.6673618921838439)] \n",
      "\n",
      "\n",
      " label: 5 \n",
      " [('Intimation Of Record Date Pursuant To Regulation 42 Of lodr', 0.15565125201036395), ('Intimation Of Record Date Pursuant To Regulation 42 Of The lodr', 0.15565125201036395)] [('Intimation Regarding Record Date  For The Purpose Of Reduction Of Capital And Cancellation Of Promoter Shares Pursuant To Regulation 42 lodr   The Record Date For The Same Will Be 26Th October, 2021', 0.6101286921992418), ('Intimation Regarding Record Date Pursuant To Regulation 44 Of lodr ', 0.6452689491833928)] \n",
      "\n",
      "\n",
      " label: 38 \n",
      " [('Fixes Book Closure For AGM (Cut-Off Date For E-Voting)', 0.12174455707230687), ('Fixes Book Closure For AGM (Cut-Off Date For E-Voting)', 0.12174455707230687)] [('Fixes Book Closure For Dividend & AGM (Cut-Iff Date For Evoting)', 0.5614497999055529), ('Corporate Action- Fixes Record Date/Cut Off Date For E-Voting  10/09/2021', 0.7934460817450643)] \n",
      "\n",
      "\n",
      " label: 64 \n",
      " [('Book Closure For Payment Of Dividend And agm', 0.2701824487985441), ('Book Closure For AGM & Payment Of Dividend', 0.2701824487985441)] [('Intimation Of Book Closure For The Purpose Of agm Of The Company And Payment Of Special Dividend, If Declared At The AGM', 0.7031956262997461), ('Notice Of Book Closure For 39Th agm And Payment Of Dividend, If Declared.', 0.7860042779594368)] \n",
      "\n",
      "\n",
      " label: 41 \n",
      " [('Notice Of The Book Closure', 0.0937480721493782), ('Notice Of Book Closure', 0.0937480721493782)] [('Notice Of Book Closure And Extra- Ordinary General Meeting', 0.7378259122225785), ('Notice Of Book Closure And Extra- Ordinary General Meeting', 0.7378259122225785)] \n",
      "\n",
      "\n",
      " label: 91 \n",
      " [('Intimation Of Book Closure And Cut Off Date For The 35Th agm', 0.19948508332980508), ('Intimation Of 49Th AGM, Book Closure And Cut Off Date', 0.19948508332980508)] [('Intimation Of Book Closure And Cut-Off Date For The Purpose Of 24Th AGM Of Company', 0.5675978213178087), ('Intimation Of Book Closure And Cut-Off Date - 30Th agm.', 0.639621247354245)] \n",
      "\n",
      "\n",
      " label: 100 \n",
      " [(\"'Record Date' And 'Dividend Payment'\", 0.23030807548795415), ('Clarification - Record Date For Payment Of Dividend', 0.23030807548795415)] [('Fixes Record Date For Payment Of Distribution To Unitholders Of Mindspace Business Parks REIT For The Quarter Ended March 31,2021', 0.8016770046746268), ('Record Date For Payment Of Interest For Listed, Unsecured, Rated, Taxable, Redeemable, Non-Convertible Debenture - MRPL-7.75%-29-01-30-PVT (Interest Rate 7.75%).\\r\\n\\r\\nReference.: INE103A08035', 0.8666656801327646)] \n",
      "\n",
      "\n",
      " label: 103 \n",
      " [('Revised Intimation Of Book Closure For 37Th agm', 0.3402618042250011), ('Revised Book Closure Date-AGM', 0.34325026457780405)] [('Revised Dates Of Books Closure And Cut Of Date Under Reg. 42(Corporate Action\\\\Book Closure)', 0.8464794552549841), ('May 19, 2021 (Revised) - Record Date For Final Dividend', 0.8624600206720825)] \n",
      "\n",
      "\n",
      " label: 119 \n",
      " [('Register Of Members & Share Transfer Books Of The Company Will Remain Closed From Friday July 09, 2021 To Thursday July 15, 2021 (Both Days Inclusive) For The Purpose Of agm And Payment Of Dividend.', 0.3777286400860775), ('The Register Of Members And Share Transfer Register Of The Company Will Remain Closed From Saturday, 10Th July, 2021 To Sunday, 18Th July, 2021 (Both Days Inclusive).', 0.38864155466811096)] [('Share Transfer Books Shall Remain Closed From Wednesday, 21St July, 2021 To Saturday, 24Th July, 2021 (Both Days Inclusive) Of The Company  ', 0.45152690469026857), ('Register Of Member And Share Transfer Books Of The Company Will Remain Closed From 15 07 2021 To 24 07 2021 (Both Days Inclusive)', 0.629834114557275)] \n",
      "\n",
      "\n",
      " label: 50 \n",
      " [('Outcome Of The Board Meeting Held On 25Th May 2021', 0.4246467016243937), (\"Subex Limited 'The Company'-Outcome Of The Board Meeting Held On May 17, 2021\", 0.4969055756021942)] [('The Board Of Directors Of The Company At Their Meeting Held On 11Th May, 2021, Has Fixed The Record On 15Th July, 2021', 0.6177935082713839), ('Corporate Action- Record Date For Payment Of The Interim Dividend, If Declared At The Board Meeting To Be Held On Wednesday, May 5, 2021, Will Be Friday, May 14, 2021.', 0.6227288293120201)] \n",
      "\n",
      "\n",
      " label: 159 \n",
      " [('Book Closure For The Purpose Of The AGM And Determining Entitlement Of The Members For Payment Of The Final Dividend, If Declared At The AGM', 0.38712446345483525), ('Intimation Of Book Closure For The Purpose Of 41St AGM &  For Determining Entitlement Of Members For Payment Of Dividend, If Declared At The 41St AGM Of The Company', 0.46280729326172493)] [('The Record Date For The Purpose Of Determining The Entitlement Of The Members For The Interim Dividend For The F.Y. 2021-22, If Declared By The Board Of Directors , Will Be Friday, February 18, 2022.', 0.6987266842072098), ('Board Has Fixed 11Th February, 2022 As Record Date For Determining Entitlement Of Members For The Purpose Of Payment Of Interim Dividend.', 0.7549203374977352)] \n",
      "\n",
      "\n",
      " label: 30 \n",
      " [('Intimation Of Record Date Under Regulation 42 Of SEBI (Listing Obligations & Disclosure Requirements) regulations 2015.', 0.3007896856969751), ('Intimation Of Record Date Under Regulation 42 Of SEBI (Listing Obligations & Disclosure Requirements) regulations 2015', 0.3007896856969751)] [('Intimation As Per Regulation 42 Of Securities Exchange Board Of India (Listing Obligations & Disclosure Requirements) regulations 2015 Of Record Date / Book-Closure  For 44Th agm Of The Company And Dividend.', 0.6875055331534768), ('Notice Of 33° agm Under (2) Of SEBI (Listing Obligations & Disclosure Requirements) regulations 2015, Intimations Regarding Cut-Off Date For The Purpose Of Remote E-Voting And Book Closure Dates For The Purpose Of AGM.', 0.8343505612610331)] \n",
      "\n",
      "\n",
      " label: 48 \n",
      " [('Book Closure And agm', 0.009261103551573191), ('Book Closure Of AGM', 0.009261103551573191)] [('agm (AGM) & Book Closure.', 0.32799304865346945), ('Book Closer For 34Th agm ', 0.5644444787322681)] \n",
      "\n",
      "\n",
      " label: 124 \n",
      " [('Record Date For AGM As July 14, 2021', 0.4209803453461111), ('July 7, 2021', 0.42222392985054447)] [('CORPORATE ACTION  - FIXES BOOK CLOSURE FOR THE 75TH AGM SCHEDULED TO BE HELD ON JULY 31,2021', 0.7501125226085799), (\"Fixed Saturday, 3Rd July, 2021 As The ''Record Date' To Determine The Eligible Shareholders Entitled To Receive The Bonus Shares. \", 0.7752113597841112)] \n",
      "\n",
      "\n",
      " label: 86 \n",
      " [('Intimation Of Book Closure Pursuant To Regulation 42 Of The lodr  ', 0.06494116371144251), ('Intimation Of Book Closure Pursuant To Regulation 42 Of The lodr', 0.06494116371144251)] [('Book Closure Pursuant To The lodr. ', 0.6815775652670656), ('Notice Of Book Closure - Pursuant To , 42 And All Other Applicable Regulations, If Any, Of The lodr, As Amended From Time To Time.', 0.8015917366867832)] \n",
      "\n",
      "\n",
      " label: 28 \n",
      " [('Book Closure', 0.027554776525203717), ('Book Closure ', 0.027554776525203717)] [('Book Closure_AGM', 0.73228342866374), ('Book Closer', 0.73228342866374)] \n",
      "\n",
      "\n",
      " label: 32 \n",
      " [('The Book Closure Is From 24-09-2021 To 30-09-2021', 0.25856528039142784), ('Book Closure From 24.09.2021 To 30.09.2021', 0.25856528039142784)] [('Intimation Of CUT OFF Date For The Purpose Of E-Voting In Respect Of AGM On 30.09.2021', 0.7396886957082077), ('Corporate Actions - Book Closure(24-07-2021 To 30-07-2021)', 0.7459276031173045)] \n",
      "\n",
      "\n",
      " label: 190 \n",
      " [('Record Date For 11Th June, 2021', 0.4397625349645975), ('Book Closure From 16Th June, 2021 To 22Nd June, 2021 (Both Days Inclusive) W.R.T The 60Th AGM Of The Members Of The Company To Be Held On Tuesday, 22Nd June, 2021. ', 0.5312733944005313)] [('Fixes Record Date For Payment Of Distribution To Unitholders Of Mindspace Business Parks REIT For The Quarter Ended June 30,2021', 0.6922985578139386), ('Revised Record Date For Payment Of Distribution To Unitholders Of Mindspace Business Parks REIT For The Quarter Ended June 30,2021', 0.6967385789369375)] \n",
      "\n",
      "\n",
      " label: 129 \n",
      " [('Book Closure For AGM F.Y 2021', 0.3358500754118853), ('Book Closure For AGM 2021', 0.3358500754118853)] [('Book Closure Date Of Kilburn Chemicals Limited For 31St AGM Will Be From 5Th November,2021 To 11Th November,2021', 0.7670338415476093), ('Notice Of Book Closure (22.08.2021 To 28.08.2021)', 0.8043423923089388)] \n",
      "\n",
      "\n",
      " label: 131 \n",
      " [('Intimation Of Record Date For Dividend For The Financial Year Ended 31St March, 2021.', 0.41930672502377325), ('Intimation Of Record Date For Dividend For The Financial Year Ended 31St March, 2021', 0.41930672502377325)] [('The Board Approved Audited Financial Results Of The Company For The Quarter And Year Ended March 31, 2021 & Recommended A Dividend Of Rs. 3.00 Per Equity Share', 0.7230991039594635), ('Fixed Closure Of Register Of Members Of The Company For  For The Purpose Of agm And Payment Of Dividend For The Financial Period Ended 31St March, 2021', 0.79622141836746)] \n",
      "\n",
      "\n",
      " label: 16 \n",
      " [('Corporate Action-Board recommends Bonus Issue', 0.13309327730669018), ('Corporate Action-Board recommends Bonus Issue', 0.13309327730669018)] [('Board recommends Final Dividend & Bonus Issue', 0.5359094086451405), ('Board approves Stock Split & recommends Bonus Issue', 0.7869758496038407)] \n",
      "\n",
      "\n",
      " label: 89 \n",
      " [('Fixed Book Closure For AGM ', 0.18383020096281508), ('Fixed Book Closure For AGM', 0.18383020096281508)] [('Fixed Book Closure For EGM (Cut-Off Date)', 0.700984136343982), ('Corporate Action Fixed For agm And Final Dividend', 0.7485955153638373)] \n",
      "\n",
      "\n",
      " label: 31 \n",
      " [('Intimation Of Book Closure Under Regulation 42 Of SEBI (lodr Regulations 2015 ', 0.2907024597929366), ('Intimation Of Book Closure Under Regulation 42 Of SEBI lodr, regulations 2015', 0.2907024597929366)] [('CORPORATE ACTION- FIXES RECORD DATE FOR RIGHTS ISSUE 21.01.2022,  And 42 Of The sebi lodr regulations 2015, As Amended (The \"SEBI Listing Regulations\")', 0.8060768958796258), ('Mangalam Industrial Finance Ltd.- Intimation Regarding Closure Of Trading Window In Terms Of The SEBI (Prohibition Of Insider Trading) regulations 2015  ', 0.8441955809258201)] \n",
      "\n",
      "\n",
      " label: 186 \n",
      " [(\"Intimation Of Book Closure Pursuant To Regulation 42 Of The lodr ('Listing Regulations')\", 0.23214585737711926), (\"Intimation Of Book Closure Pursuant To Regulation 42 Of The lodr ('Listing Regulations')\", 0.23214585737711926)] [('Intimation About 59Th agm, Book Closure And Dividend Payment Date- Reg. 42 Of SEBI Listing Regulations ', 0.739466815744251), ('Book Closure As Per Regulation 42 Of The Listing Regulation & Cut-Off Date Of E-Voting', 0.7875354042951396)] \n",
      "\n",
      "\n",
      " label: 132 \n",
      " [('Fixes Record Date for Stock Split', 0.29036954551853267), ('Fixes Record Date for Stock Split', 0.29036954551853267)] [('RECORD DATE FOR STOCK SPLIT OF FACE VALUE OF EQUITY SHARE', 0.631385215457609), ('Board to consider Stock-Split & Rights Issue', 0.7748802355075847)] \n",
      "\n",
      "\n",
      " label: 142 \n",
      " [('Corporate Action -Book Closure For AGM', 0.11285955225837635), ('Corporate Action : Book Closure For AGM ', 0.11285955225837635)] [('Corporate Action For  Book Closure For Conducting 90Th AGM Of The Company', 0.5940021613419856), ('Corporate Actions -Book Closure', 0.6467808117119047)] \n",
      "\n",
      "\n",
      " label: 10 \n",
      " [('Corporate Action - Fixes Book Closure For AGM', 0.06291609078785346), ('Corporate Action - Fixes Book Closure For AGM', 0.06291609078785346)] [('Corporate Action - Fixes Books Closure For AGM', 0.7288793097106198), ('Corporate Action-Fixes Book Closure For Determining The Dividend, If Approved At The AGM', 0.7635780157280264)] \n",
      "\n",
      "\n",
      " label: 49 \n",
      " [('Book Closure For The Purpose Of agm', 0.06167938131584955), ('Book Closure For The Purpose Of AGM', 0.06167938131584955)] [('The Purpose Of agm', 0.601575184847781), ('Books Closure For The Purpose Of 43Rd agm', 0.8453128312710142)] \n",
      "\n",
      "\n",
      " label: 15 \n",
      " [('Revised Intimation To Book Closure Notice', 0.15629054853514993), ('Revised Book Closure Notice', 0.15629054853515206)] [('Revised Intimation To Book Closure Notice', 0.15629054853514993), ('Revised Book Closure Notice', 0.15629054853515206)] \n",
      "\n",
      "\n",
      " label: 24 \n",
      " [('Closure Of Register Of Members', 0.1843693536686453), ('Closure Of Register Of Members', 0.1843693536686453)] [('Corproate Action For Closure Of Register Of Members For The Purpose Of agm And For The Equity Dividend ', 0.6860881770630626), ('Register Of Members For The Purpose Of The 29Th agm ', 0.7441861834369798)] \n",
      "\n",
      "\n",
      " label: 56 \n",
      " [(\"''Record Date' For Interim Dividend For The Financial Year 2021-22 \", 0.21512401033352402), ('Record Date For Special Interim Dividend For The Financial Year 2021-22', 0.21512401033352402)] [('Corporate Action - Fixes Record Date As 19Th May 2021 - Second Interim Dividend For The Financial Year 2020-2021', 0.816934828032426), ('Intimation Of Record Date Under Regulation 42 Of The Listing Regulations For Interim Dividend For The Financial Year 2021-22, If Any Declared At The Board Meeting Scheduled To Be Held On Friday, October 29, 2021', 0.8498634963815981)] \n",
      "\n",
      "\n",
      " label: 20 \n",
      " [('Intimation Of Record Date For The Purpose Of agm And Dividend', 0.2568763965789098), ('Intimation Of Record Date For The Purpose Of 25Th agm And Dividend', 0.2568763965789098)] [('Intimation To Members About agm And Record Date For The Purpose Of Final Dividend', 0.7042983650982961), ('Cutoff Date /Record Date For Ascertaining The List Of Shareholders To Whom Notice Of AGM Will Be Sent And Consider For Purpose Of Dividend', 0.8255074425384549)] \n",
      "\n",
      "\n",
      " label: 69 \n",
      " [('HOLDING agm', 0.19300941286536644), ('agm & Preferential Offer.', 0.19300941286536644)] [('AGM And Dividend', 0.4778617381955579), ('agm (AGM) And Book Closure For Purpose Of Dividend And AGM', 0.4877805011621717)] \n",
      "\n",
      "\n",
      " label: 112 \n",
      " [('Board recommneds Final Dividend', 1.4901161193847656e-08), ('Board recommdns Final Dividend', 1.4901161193847656e-08)] [('Board recommeds Final Dividend', 1.4901161193847656e-08), ('Board recommend Final Dividend', 1.4901161193847656e-08)] \n",
      "\n",
      "\n",
      " label: 174 \n",
      " [('REVISION IN BOOK CLOSURE DATES', 0.22800570657688055), ('Dates Of Book Closure', 0.22800570657688055)] [('Fixation Of Book Closure And Cur-Off Dates', 0.6962986472709731), ('Book Closure Dates And Date Of Twenty Second agm', 0.7409316532190826)] \n",
      "\n",
      "\n",
      " label: 53 \n",
      " [('Update On Record Date - Rights Issue Of Equity Shares.  ', 0.2714099220945281), ('Fixes Record Date for Rights Issue of equity shares', 0.2992648093883264)] [('INTIMATION UNDER  AND 42 OF THE lodr, AS AMENDED (\\'SEBI LISTING REGULATIONS\\') AND FIXING OF RECORD DATE, PRICE AND OTHER DETAILS WITH RESPECT TO PROPOSED RIGHTS ISSUE OF EQUITY SHARES (\"ISSUE\")', 0.6795404655851464), (\"'Record Date' Of November 10, 2021 For The Purpose Of Second And Final Call On 42,26,26,894 Partly Paid-Up Equity Shares Of Face Value Of Rs.10 Each Issued And Allotted On Rights Basis\", 0.7955122761515996)] \n",
      "\n",
      "\n",
      " label: 144 \n",
      " [('Record Date For Bonus Issue', 0.30516852363555175), ('Corrigendum To Record Date Of Bonus Issue.', 0.30516852363555175)] [('Intimation Of Record Date For Bonus ', 0.6936534780111796), ('Intimation Of Record Date For Bonus', 0.6936534780111796)] \n",
      "\n",
      "\n",
      " label: 154 \n",
      " [('Corporate Action-Intimation of Right issue', 0.1376003798678666), ('Corporate Action-Intimation of Right issue', 0.1376003798678666)] [(\"Corporate Action - Fixes Book Closure Of EOGM (Ignore Subject Matter Of Todays'' Previous Announcement I.E. Right Issue Entitlement)\", 0.6409640820553669), ('Board approves Right Issue', 0.8579442193158128)] \n",
      "\n",
      "\n",
      " label: 162 \n",
      " [('Board to consider Buy-back of Equity Shares', 0.32092836107578904), ('Board to consider Buy-back of Equity Shares', 0.32092836107578904)] [('Board to consider Q3 results & Buyback of equity shares on Feb 07, 2022', 0.7137692393570596), ('For Determining Shareholders For Allotment Of Equity Shares Upon Demerger Of DWH Undertaking.', 0.8455466396197002)] \n",
      "\n",
      "\n",
      " label: 149 \n",
      " [(\"'agm' Of The Members Of The Company, 'Record Date' And 'Dividend Payment'\", 0.20802039554243273), (\"agm' Of The Members Of The Company, 'Record Date' And 'Dividend Payment'\", 0.20802039554243273)] [('Corporate Action - Fixes Book Closure For Taking Record Of The Members Of The Company For The Purpose Of Payment Of Dividend, Subject To Tax Deducted At Source, If Declared By The Members At The agm Of The Company To Be Held On Monday, 5Th July 2021', 0.7075483791202486), ('15Th agm Of The Company & Payment Of Final Dividend ', 0.7819159021932355)] \n",
      "\n",
      "\n",
      " label: 117 \n",
      " [('Fixes Record Date for Final Dividend', 0.1261896736930733), ('Fixes Record Date for Final Dividend', 0.1261896736930733)] [('Corporate Action-Fixes Record Date For (Final Dividend, If Approved By The Shareholders At The AGM)', 0.7572177382857076), ('Record Date For Final Dividend, Subject To Approval Of Shareholders', 0.8130303861240818)] \n",
      "\n",
      "\n",
      " label: 111 \n",
      " [('Intimation About Book Closure And Record Date', 0.20197469245218377), ('Intimation Of Book Closure And Record Date', 0.20197469245218377)] [('agm And Book Closure / Record Date.', 0.4628065578761546), ('Clarification - Book Closure/Record Date For AGM/Dividend', 0.5288753457317505)] \n",
      "\n",
      "\n",
      " label: 123 \n",
      " [('Fixes Book Closure for Final Dividend & A G M', 0.14110884036780372), ('Fixes Book Closure for Final Dividend & A G M', 0.14110884036780372)] [('Fixes Book Closure For Final Dividend And AGM', 0.22577414458849174), ('Fixes Book Closure For Final Dividend And AGM', 0.22577414458849174)] \n",
      "\n",
      "\n",
      " label: 194 \n",
      " [('Board to consider FY21 results & Dividend on June 12, 2021', 0.06849101218312835), ('Board to consider FY21 results & Dividend on June 18, 2021', 0.06849101218312835)] [('Board to consider FY21 Results & Dividend on June 28, 2021', 0.502743157719772), ('Board to consider FY21 Results, Dividend & Buyback of Equity Shares on June 24, 2021', 0.688022160629348)] \n",
      "\n",
      "\n",
      " label: 60 \n",
      " [('Fixes Record Date for AGM', 0.07622098723004023), ('Fixes Record Date For AGM', 0.07622098723004023)] [('Fixes Book Closure And Record Date For 14Th agm.', 0.4711962162379829), ('Fixes Record Date for AGM (e-voting)', 0.645876856547583)] \n",
      "\n",
      "\n",
      " label: 59 \n",
      " [('Record Date - August 18, 2021', 0.30171769887364064), ('Record Date For Dividend -  August 03, 2021', 0.31918340628361497)] [('Record Date For The Purpose Of Final Dividend Friday, August 20, 2021', 0.6733491015475715), ('Fixed Record Date For First Interim Dividend As 04Th August, 2021 ', 0.71193719541556)] \n",
      "\n",
      "\n",
      " label: 27 \n",
      " [('Intimation Of Record Date For Payment Of Final Dividend On Equity Shares For The Financial Year 2020-21', 0.11518311913506694), ('Intimation Of Record Date For Payment Of Final Dividend On Equity Shares For The Financial Year 2020-21', 0.11518311913506694)] [('The Record Date For Payment Of Final Dividend On Equity Shares For The Financial Year 2020-21 Is Friday, July 16, 2021', 0.5275151012768498), ('Corporate Action - Fixes Record Date For The Purpose  Of Payment Of Final Dividend On The Equity Shares Of The Company For The Financial Year 2020-21, If Declared By The Company.', 0.6131158278679306)] \n",
      "\n",
      "\n",
      " label: 71 \n",
      " [('Board to consider FY21 results & Final Dividend on June 01, 2021', 0.09145501649024047), ('Board to consider FY21 results & Final Dividend on June 03, 2021', 0.09145501649024047)] [('Board to consider FY21 results & Final Dividend on June 28, 2021', 0.48096634797721494), ('Board to consider FY 21 results & Final Dividend on June 08, 2021', 0.7110298471037638)] \n",
      "\n",
      "\n",
      " label: 2 \n",
      " [('Intimation Of 14Th agm And Book Closure', 0.024135565291318484), ('Intimation Of Book Closure For The agm', 0.024135565291318484)] [('Intimation Of AGM', 0.6732814594460446), ('Intimation Of agm And Bookclosure', 0.6732814594460446)] \n",
      "\n",
      "\n",
      " label: 153 \n",
      " [('Cut Off Date/Record Date For agm', 0.22484602892780972), (': INTIMATION OF DATE OF agm AND RECORD DATE / CUT-OFF DATE    ', 0.35476886300782384)] [('Record Date And E-Voting Cut-Off Date For The Purpose Of agm And Payment For Dividend.', 0.6513112935249097), ('29Th agm -Record Date/Cut-Off Date September 23,2021 ', 0.7111448679071657)] \n",
      "\n",
      "\n",
      " label: 74 \n",
      " [('Intimation Of Book Closure Pursuant To Regulation 42 Of The SEBI (Listing Obligations & Disclosure Requirements) regulations 2015 ', 0.1614859221086959), ('Intimation Of Book Closure Pursuant To Regulation 42 Of The sebi (Listing Obligations & Disclosure Requirements) Regulations 2015', 0.1614859221086959)] [('Intimation Of Book Closure To Reg 42 Of SEBI (Listing Obligations And Disclosure Requirement) regulations 2015 For The Purpose Of agm Date Of Book Closure Is 16Th Sep 2021 To 22 Sep 2021.', 0.7462366330869428), ('Fixes Book Closure For agm- NOTICE OF 36THagm UNDER  OF THE SEBI (LISTING OBLIGATIONSAND DISCLOSURE REQUIREMENTS), regulations 2015  ANDBOOK CLOSURE FOR THE FINANCIAL YEAR 2020-21', 0.7639462177234989)] \n",
      "\n",
      "\n",
      " label: 163 \n",
      " [('BOOK CLOSURE DT. 16.09.2021 TO 23.09.2021', 0.2915319995610512), ('Clarification To Your Mail Dated 13.09.2021', 0.31050754209199755)] [('Corporate Action-Revised Record Date For Final Dividend (27/09/2021).', 0.8177227429871629), ('Revised Submission With Reference To Earlier Submission To BSE Limited Dated 03.09.2021 I.E Intimation Of Record Date.', 0.8224836581435423)] \n",
      "\n",
      "\n",
      " label: 93 \n",
      " [('Book Closure For 25Th AGM, E Voting & Related Matters.', 0.264224982061782), ('agm, Book Closure And E-Voting', 0.264224982061782)] [('agm, Books Closure, E-Voting And Attendance Through VC / OAVM Facility', 0.7423042421283486), ('Record Date, E-Voting Facility To The Shareholders And Book Closure For agm.', 0.7867248299603616)] \n",
      "\n",
      "\n",
      " label: 37 \n",
      " [('Register Of Members And Share Transfer Books Will Remain Closed For The Purpose Of The 33RD (Thirty Third) agm Of The Company.', 0.2549070619799917), ('Register Of Members And Share Transfer Books Of The Company Shall Remain Closed For The Purpose Of AGM.', 0.2549070619799917)] [('Liberty Shoes Limited Has Informed The Exchange That Register Of Members & Share Transfer Books Of The Company Will Remain Closed From 22-Sep-2021 To 28-Sep-2021 (Both Days Inclusive) For The Purpose Of agm.', 0.5965664117017557), ('The Register Of Members And Share Transfer Books Of The Company Will Remain Closed From Friday, October 22, 2021 To Thursday, October 28, 2021 ', 0.6146494802991965)] \n",
      "\n",
      "\n",
      " label: 62 \n",
      " [('Corporate Action-Intimation of Sub division / Stock Split', 0.12634074883890228), ('Corporate Action-Intimation of Sub division / Stock Split', 0.12634074883890228)] [('Reg 42 As Per SEBI LODR Intimation Of Record Date For Stock Split/Sub-Division Of Shares .', 0.664333335084561), ('Reg 42 As Per SEBI LODR Intimation Of Record Date For Stock Split/Sub-Division Of Shares From Face Value Of Rs.10 Each To Rs.1 Each Per Share.', 0.7195271067639378)] \n",
      "\n",
      "\n",
      " label: 189 \n",
      " [('Book Closure For agm To Be Held On September 30, 2021', 0.28681667823906426), ('Book Closure For The Purpose Of 9Th agm To Be Held On September 06, 2021 Via VC/OAVM At 12: 30 (IST)', 0.33884745189104304)] [('Fixes Record Date For Payment Of Distribution To Unitholders Of Mindspace Business Parks REIT For The Quarter Ended September 30,2021', 0.8144221824600952), ('Calendar Of Events For EGM Notice Dt. 30-04-2021', 0.8296181394021339)] \n",
      "\n",
      "\n",
      " label: 181 \n",
      " [('Fixation Of Book Closure', 0.26663302629792857), ('Fixation Of Book Closure ', 0.26663302629792857)] [('Fixation Of Book Closure For The Purpose Of AGM And Dividend', 0.5126654434352025), ('Fixation Of Book Closure Date For The Purpose Of 37Th agm Of The Company', 0.6360316686076909)] \n",
      "\n",
      "\n",
      " label: 126 \n",
      " [('Record Date For The Purpose Of The Dividend Is 10Th September, 2021 (Friday)', 0.4625275979608835), (\"Friday, 10Th September, 2021 As The 'Record Date'\", 0.48912245971297663)] [('Board Fixes Record Date, Friday, 17Th December, 2021 For The Purpose Of Buy-Back Of Ordinary Shares', 0.798263243688198), ('Interim Dividend, As Friday, November 12, 2021,', 0.8754493936367858)] \n",
      "\n",
      "\n",
      " label: 22 \n",
      " [('Book Closure Intimation For The Purpose Of AGM', 0.05808623966615184), ('Intimation Of Book Closure For The Purpose Of agm', 0.05808623966615184)] [('Intimation Of Book Closure For The Purpose Of EGM', 0.4122567781622534), ('Intimation Of Book Closure For The Purpose Of AGM For The Year 2021.', 0.7473545441090055)] \n",
      "\n",
      "\n",
      " label: 96 \n",
      " [('Intimation Of Closure Of Register Of Members And Share Transfer Books ', 0.24438769541880892), ('Intimation Of Closure Of Register Of Members And Share Transfer Books', 0.24438769541880892)] [('Period Of  Book Closure - Register Of Members And Share Transfer Books ( From 31St August, 2021 To 3Rd September, 2021)', 0.7969537600623177), ('Notice For Closure Of Transfer Books', 0.8126178851519653)] \n",
      "\n",
      "\n",
      " label: 134 \n",
      " [('Book Closure For The Agm 2020-21', 0.23423945994506432), ('Book Closure For agm 2020-21', 0.23423945994506432)] [('BOOK CLOSURE INTIMATION FOR AGM 2020-2021', 0.7000282826537464), ('Corporate Action -Fixes Book Closure For ( AGM & Determining Entitlement Of The Shareholders To The Dividend For The Year 2020-21)', 0.7928965246089165)] \n",
      "\n",
      "\n",
      " label: 107 \n",
      " [('Intimation Regarding Date Of agm And Book Closure', 0.24574118715399204), ('Intimation Regarding agm & Book Closure Date', 0.24574118715399204)] [('Notice Regarding Book Closure For 2021', 0.7586798747331537), ('Intimation Regarding agm, Books Closure, E-Voting And Attendance Of AGM Through VC / OAVM Facility ', 0.7656450362537888)] \n",
      "\n",
      "\n",
      " label: 101 \n",
      " [('Intimation Of Book Closure For 36Th agm', 0.3049292850427846), ('Intimation Of Book Closure For 36Th agm', 0.3049292850427846)] [('Intimation Of Book Closure For The Purpose Of 36Th agm Of The Company Under Regulation 42 Of lodr.', 0.6625664101074545), ('Fixes Book Closure For The Purpose Of 36Th agm And Dividend (If Declared At The AGM)', 0.6684217191804658)] \n",
      "\n",
      "\n",
      " label: 176 \n",
      " [('The Register Of Members And Share Transfer Books Of The Company Will Remain Closed From Wednesday, August 25, 2021 To Tuesday, August 31, 2021 (Both Days Inclusive) For AGM ', 0.37915849955637043), ('The Register Of Member And Share Transfer Books  Will Remain Closed From Friday 13Th August, 2021 To Wednesday, 18Th August, 2021 (Both Days Inclusive) For Taking Record Of The Members Of The Company For The Purpose Of agm', 0.3970897798667472)] [('The Board Approved The Book Closure From Saturday, August 21, 2021 To Friday, August 27, 2021, Both Days Inclusive, For The Purpose Of agm Of The Company', 0.6350715932079192), ('Book Closure From August 22, 2021 To August 28, 2021 (Both Days Inclusive) For The Purpose Of 36Th agm Of The Company And Payment Of Dividend', 0.6632705830738529)] \n",
      "\n",
      "\n",
      " label: 183 \n",
      " [('Intimation Of Book Closure Pursuant To Section 91 Of Companies Act,2013 And Regulation 42 Of The SEBI (Listing Obligation And Disclosure Requirements) Regulation,2015 ', 0.29352168260718614), ('Intimation Of Book Closure Pursuant To Regulation 42 Of The SEBI (Listing Obligation And Disclosure Requirements) Regulation 2015', 0.29352168260718614)] [('Pursuant To Regulation 42 Of The SEBIlodr Regulation, 2015 Notice Of Book Closure For The 32Nd agm & Payment Of Dividend Subject To Approval Of Members At The Ensuing 32Nd agm', 0.8297685202391775), ('Compliance Of Regulation 42 Of The SEBIlodr Regulation, 2015 Regarding Closure Of Share                  Transfer Book ', 0.8406553563592901)] \n",
      "\n",
      "\n",
      " label: 114 \n",
      " [('Intimation Of Book Closure For Ensuing 24Th agm (AGM) And Payment Of Dividend For The Financial Year 2020-21', 0.34873501042158433), ('Book Closure For The Purpose Of agm Of The Company And For Payment Of Dividend For The Financial Year 2020-21.', 0.34981618978305895)] [('Intimation Of Book Closure For The Purpose Of 27Th agm And Payment  Of Final Dividend For Financial Year 2020-21 In Terms Of Regulation 42 Of The lodr.', 0.5822424158397751), ('Record Date For Payment Of Dividend For The Year 2020-21 And To Determine The Eligibility Of Shareholders To Vote In The Forthcoming AGM Scheduled To Be Held On 25-08-2021', 0.760871901854625)] \n",
      "\n",
      "\n",
      " label: 77 \n",
      " [('Intimation Of  Record Date For Determining Entitlement Of Members For Dividend For The Financial Year Ended March 31, 2021 And For The Purpose Of 88Th AGM.', 0.49272504061648464), ('Intimation Of  Record Date For Determining Entitlement Of Members For Dividend For The Financial Year Ended March 31, 2021 And For The Purpose Of 88Th AGM.', 0.49272504061648464)] [(\"The Company Has Fixed Tuesday, 21St September, 2021 As The 'Record Date' For Determining Entitlement Of Members To Final Dividend For The FY 2020-21, Subject To Approval By The Members At The AGM.\", 0.6728959087249033), ('The Company Fixes Record Date For The Purpose Of Determining The Eligibility To Receive Final Dividend For The Year Ended March 31, 2021.', 0.6971848431278694)] \n",
      "\n",
      "\n",
      " label: 146 \n",
      " [('Fixation Of The Cut-Off Date For Issuance Of New Share Certificates To Shareholders Holding Shares In Physical Form And Re-Organization Of Distinctive Numbers.', 0.19604959623520363), ('Fixation Of The Cut-Off Date For Issuance Of New Share Certificates To Shareholders Holding Shares In Physical Form And Re-Organization Of Distinctive Numbers.', 0.19604959623520363)] [('Fixation Of The Cut-Off Date For Issuance Of New Share Certificates To Shareholders Holding Shares In Physical Form And Re-Organization Of Distinctive Numbers.', 0.19604959623520363), ('Approved, Friday, The 17Th September, 2021 As The Cut-Off Date To Record The Names Of Shareholders Entitled To Receive Final Dividend, If Approved By The Shareholders At The 11Th agm.', 0.7841983849408222)] \n",
      "\n",
      "\n",
      " label: 140 \n",
      " [('Intimation Of Record Date For Payment Of Final Dividend', 0.2730699374459174), ('Intimation Of Record Date For Payment Of Final Dividend', 0.2730699374459174)] [('Intimation Of REVISED Record Date For Payment Of Final Dividend', 0.589683116326049), ('Fixes Record Date For Purpose Ascertaining The Eligibility Of The Shareholders For The Payment Of Final Dividend, If Approved At The Ensuing agm', 0.7100634475958026)] \n",
      "\n",
      "\n",
      " label: 145 \n",
      " [('Corporate Action - Fixes Book Closure For The Purpose Of agm', 0.16360872242948232), ('Corporate Action - Fixes Book Closure For The Purpose Of agm.', 0.16360872242948232)] [('Corporate Action - Intimation Of Book Closure For The Purpose Of Declaration Of Dividend', 0.6925828808984006), ('Corporate Action Fixes Book Closure For The Purpose Of agm For The Financial Year 2019-20', 0.7233490321125946)] \n",
      "\n",
      "\n",
      " label: 135 \n",
      " [('Intimation Of Date Of The agm And Book Closure', 0.16065049176076435), ('Intimation Of Date Of The agm And Book Closure', 0.16065049176076435)] [('Book Closure Date For 33Rd agm Of The Members', 0.7964122721340384), ('Intimation Of Date Of agm, Books Closure ', 0.8289773044176945)] \n",
      "\n",
      "\n",
      " label: 173 \n",
      " [('Book Closure For 28Th agm', 0.30700020975979764), ('28Th AGM Book Closure.', 0.30700020975979764)] [('Blue Coast Hotels Limited Fixes Book Closure Date For 28Th AGM', 0.6980361298226501), ('Fixes Book Closure For The Purpose Of agm - Saturday, 28Th August, 2021', 0.698937371065479)] \n",
      "\n",
      "\n",
      " label: 34 \n",
      " [('Intimation Under Regulation 42 Of lodr And Section 91 Of The Companies Act, 2013 For Book Closure Of 37Th agm', 0.23781619372064516), ('Intimation As Per Regulation 42 Of lodr On Book Closure For agm', 0.23781619372064516)] [('Regulation 42, AGM/Dividend, Book_Closure', 0.7735485104966032), ('Sub: Intimation Of Book Closure-Reg. Ref: Regulation 42 Of lodr; Our 29Th AGM Notice Letter No. IMIL/SE/AR/072021 Dated July 08, 2021 ', 0.81957454672444)] \n",
      "\n",
      "\n",
      " label: 152 \n",
      " [('Intimation Of Book Closure Dates For The Purpose Of Holding agm', 0.3073121529917073), ('Intimation Of Book Closure Dates For The 53Rd agm  ', 0.33927164980618313)] [('INTIMATION OF BOOK CLOSURE DATES FOR 28TH AGM', 0.6174500802010072), ('BOOK CLOSURE, AGM DATE AND DIVIDEND ELIGIBILITY AND PAYMENT DATES', 0.6345308822360142)] \n",
      "\n",
      "\n",
      " label: 61 \n",
      " [('Intimation Of The agm & Book Closure Dates Of The Company', 0.26307940421299114), ('Intimation Of Book Closure Dates For The agm Of The Company', 0.26307940421299114)] [('Book Closure Dates For Intimation Of 22Nd agm Of The Shareholders Of The Company And Dividend. ', 0.5769095030380431), ('Intimation Of Book Closure & Record Dates For The Purpose Of 42Nd agm Of The Company Under Regulation 42 Of lodr.', 0.6359552498511297)] \n",
      "\n",
      "\n",
      " label: 133 \n",
      " [('The Company Fixes Book Closure Date From Thursday, September 23, 2021 To Wednesday, September 29, 2021 (Both Day Inclusive) For The Upcoming 23Rd agm.', 0.40116747944532266), ('Approved The Book Closure Date From Thursday, September 23, 2021 To Wednesday, September 29, 2021 (Both Day Inclusive)', 0.4146084111631614)] [('75Th agm Scheduled On September 29, 2021 Being Conducted Through VC/OAVM Facility', 0.7944153875647392), (\"Coporate Action-Fixed Record Date For 39Th (Thirty Ninth) agm ('AGM') Of Viksit Engineering Limited ('Company') To Be On Wednesday, 1St September, 2021 At 02:00 P.M\", 0.7953695639332425)] \n",
      "\n",
      "\n",
      " label: 12 \n",
      " [('Intimation Of Closure Of Register Of Members And Share Transfer From Saturday, 18Th September 2021 To Wednesday, 29Th September 2021 (Both Days Inclusive)', 0.3990012547641464), ('The Register Of Members And Share Transfer Books Of The Company Will Remain Closed From Wednesday, 22Nd September, 2021 To  Wednesday, 29Th September, 2021 (Both Days Inclusive) For The Purpose Of 27Th AGM.', 0.4382529326532794)] [('Closure Of Register Of Members & Share Transfer Book Of The Company From Wednesday, 22Nd September 2021 To Tuesday, 28Th September 2021 ', 0.5590176180669227), ('Intimation Regarding Closure Of Register Of Members And Share Transfer Books From 12Th September 2021 To 18Th September 2021', 0.6146781812784544)] \n",
      "\n",
      "\n",
      " label: 188 \n",
      " [('Intimation For Book Closure, Cut-Off Date And E-Voting Dates In Connection With 23Rd agm Of The Company', 0.3152778816619611), ('Intimation Of Record Date/Cut-Off Date And Book Closure Dates For agm (E-Voting And Participation)', 0.37723815598552535)] [('Intimation Of Book Closure, Cut-Off Dates And E-Voting Facility Details With Regard To The 27Th AGM Of The Company.', 0.5565195849650078), ('Intimation Of 28Th agm, Book Closure Dates And Cut-Off Date ', 0.6059843889146723)] \n",
      "\n",
      "\n",
      " label: 125 \n",
      " [('Intimation Of 31St agm And Book Closure', 0.3738684961767072), ('Intimation Of 31St agm And Book Closure', 0.3738684961767072)] [('31St agm Of The Members Of The Company', 0.658298477739303), ('Corporate Action-Fixed Book Closure For 31St agm (AGM) Of The Company And Cut-Off Date For E-Voting At The Said AGM', 0.6748303011799636)] \n",
      "\n",
      "\n",
      " label: 88 \n",
      " [('Book Closure For 64Th agm Of The Company.', 0.25437637037399347), ('BOOK CLOSURE FOR THE 18TH agm OF THE COMPANY', 0.25437637037399347)] [('Book Closure For Forty First agm Of The Company', 0.801190567896584), ('Intimation Of Book Closure Of The Company To Comply With Requirements Of The Companies Act, 2013 And The Companies {Management And Administration} Rules, 2014.', 0.8403822239273252)] \n",
      "\n",
      "\n",
      " label: 4 \n",
      " [('Board recommend Sub-division & Bonus Issue of equity Shares', 0.2896157406687075), ('Board to consider Bonus Issue & Sub-division of Equity Shares', 0.32053165240422316)] [('Fixation Of Revised Record Date For Sub-Division/Split Of Shares And Issue Of Bonus Shares Of Sun Retail Limited', 0.6382225563251377), ('Record Date 27Th July, 2021 For Sub-Division And Bonus Issue', 0.7963766321273361)] \n",
      "\n",
      "\n",
      " label: 138 \n",
      " [('Corporate Action- Fixes Book Closure For The Purpose Of 43Rd AGM And Payment Of Dividend. ', 0.29810893175537934), ('Corporate Action- Fixes Book Closure For The Purpose Of 35Th AGM And Payment Of Dividend.', 0.29810893175537934)] [('Corporate Action Book Closure For The Purpose Of AGM And Payment Of Dividend Subject To Approval Of Shareholders In General Meeting', 0.743321022988702), ('Corporate Action- Fixes Book Closure For The 36Th agm Of The Company And Determining The Eligibility Of Shareholders For Payment Of Dividend.', 0.7764673614922883)] \n",
      "\n",
      "\n",
      " label: 150 \n",
      " [('Book Closure For 27Th agm', 0.31240311645161223), ('Book Closure Intimation For 27Th agm', 0.3519314403510515)] [('Fixes Book Closure For 27Th agm-Regulation 42', 0.6466149554576781), ('Fixation Of Book Closure Date For The Purpose Of 27Th agm Of The Company', 0.6799571880525448)] \n",
      "\n",
      "\n",
      " label: 185 \n",
      " [('Book Closure For Final Dividend And Virtual AGM:', 0.2380953488525093), ('Book Closure For agm And Final Dividend', 0.2380953488525093)] [('Corporate Action - Book Closure For agm And Final Dividend', 0.5087033206092209), ('AGM And Final Dividend', 0.5633035069465314)] \n",
      "\n",
      "\n",
      " label: 172 \n",
      " [('Intimation Of Record Date For The Purpose Of Buy- Back Of Equity  Shares Of The Company', 0.2954458636549427), ('Intimation Of Record Date For The Purpose Of Buyback Of Equity Shares Of The Company', 0.2954458636549427)] [('Corporate Action- Fixes Record Date For Delisting Of Equity Shares Pursuant To The Resolution Plan Of The Company', 0.5767513375756559), ('The Board Of Directors Have Recommended A Dividend Of Rs. 5 Per Equity Share Of Face Value Of Rs. 2/- Each On 195375594 Equity Shares Of The Company, Subject To Approval Of The Members In The 46Th AGM Of The Company. Record Date For Payment Of Dividend Is Tuesday, The 10Th August, 2021.  ', 0.6325753187185803)] \n",
      "\n",
      "\n",
      " label: 169 \n",
      " [('Book Closure For Extra-Ordinary General Meeting', 0.5850110245144735), ('Corporate Action- Book Closure For Extra-Ordinary General Meeting To Be Held On 07/03/2022.', 0.6020668356917417)] [('The Book Closure Dates Have Been Approved In The Board Meeting Held Today I.E. 02.09.2021  ', 0.7310512362718686), ('Intimation Of Record Date For Final Dividend Declared, If Any At The Board Meeting Scheduled To Be Held On 23Rd June, 2021', 0.7900221665395047)] \n",
      "\n",
      "\n",
      " label: 178 \n",
      " [('The Record Date For The Purpose Of Payment Of Final Dividend Will Be Wednesday, August 11, 2021. ', 0.2976453119706403), ('The Record Date For The Purpose Of Payment Of Final Dividend Will Be Wednesday, August 11, 2021. ', 0.2976453119706403)] [('Wednesday, November 17, 2021 Has Been Fixed As The Record Date For The Purpose Of The Payment Of This Distribution Of Rs. 2.5870 Per Unit, As Return On Capital To The Unitholders ', 0.5876512068714308), ('Book Closure For The Purpose Of agm To Be Held On Wednesday, August 4, 2021 ', 0.6091296940379392)] \n",
      "\n",
      "\n",
      " label: 26 \n",
      " [('Notice Of Book Closure For The Purpose Of AGM', 0.21174254572136514), ('Book Closure Notice For The Purpose Of agm', 0.21174254572136514)] [('Notice Of Closure Of Books For The Purpose Of The 17Th agm Of The Bank', 0.6284673509457853), ('Notice Of Book Closure For The Purpose Of Payment Of Dividend ', 0.6746568028419454)] \n",
      "\n",
      "\n",
      " label: 166 \n",
      " [(\"44Th agm Of The Company''s Book Closure Intimation And Record Date - Notice Of Paper Publication.\", 0.261742911006607), (\"44Th agm Of The Company''s Book Closure Intimation And Record Date - Notice Of Paper Publication.\", 0.261742911006607)] [('Notice For Record Date For Dividend', 0.6486424532771767), ('Intimation Of Book Closure Date, Notice Of The 14Th agm And  E Voting Date', 0.6838521876248366)] \n",
      "\n",
      "\n",
      " label: 65 \n",
      " [('Intimation Of Record Date For 28Th agm, And Dividend.', 0.3246594447049925), ('Record Date For 28Th agm ', 0.3298761998539203)] [('Intimation Of Date Of 28Th agm (AGM), E-Voting And Book Closure', 0.6106727870911346), ('Record Date For 28Th AGM Is 21/09/2021', 0.6887503348234821)] \n",
      "\n",
      "\n",
      " label: 39 \n",
      " [('Intimation Of 25Th AGM, Book Closure And Cut-Off Date For E-Voting', 0.21426325096372661), ('Intimation Of 25Th AGM, Book Closure And Cut-Off Date For E-Voting', 0.21426325096372661)] [('Subject:  Notice Of Extra-Ordinary General Meeting & Book Closure & Cut-Off Date For Voting. ', 0.7627250767828083), ('Book Closure/ Closure Of Transfer Books Of NMDC Limited And Cut-Off Date For E-Voting', 0.8237645743015023)] \n",
      "\n",
      "\n",
      " label: 195 \n",
      " [('Intimation Of Book Closure / Record Date For The Purpose Of 10Th agm Of The Company', 0.29922039426520086), ('Intimation Of Book Closure/ Record Date For The Purpose Of 40Th agm Of The Company.', 0.29922039426520086)] [('Intimation To Members About agm Of The Company And Record Date For The Purpose Of Final Dividend', 0.615780303877419), (\"Intimation Of Record Date For The Purpose Of agm Of The Members Of Cummins India Limited (''Company'''')\", 0.7689189329697528)] \n",
      "\n",
      "\n",
      " label: 51 \n",
      " [('Register Of Members And The Share Transfer Books Of The Company Will Remain Closed From 17Th September,2021 Till 23Rd September, 2021 (Both Days Inclusive).', 0.26383912192461756), ('The Register Of Members And Share Transfer Books Of The Company Shall Remain Close From 9Th September, 2021 To 15Th September, 2021 (Both Days Inclusive) For The Purpose Of The AGM', 0.2862701504702209)] [('The Books Of The Company Will Be Closed From 24Th September, 2021 To 30Th September, 2021 (Both Days Inclusive).', 0.6102738831311182), ('Information Regarding Annual Book Closure The Register Of Members Of Company Will Remain Closed From 23Rd September, 2021 To 29Th September, 2021 (Both Days Inclusive) ', 0.6913210438544716)] \n",
      "\n",
      "\n",
      " label: 137 \n",
      " [('Notice Of Book Closure For agm', 0.0516960139269648), ('agm And Book Closure Notice', 0.0516960139269648)] [('Notice Of 99Th agm', 0.48119112376472556), ('Notice Of 45Th agm (AGM), Book Closure And E-Voting', 0.5823915592756627)] \n",
      "\n",
      "\n",
      " label: 102 \n",
      " [('Intimation Of Book Closure - September 18, 2021 (Saturday) To September 25, 2021(Saturday) (Both Days Inclusive) - agm Of The Company (BSE Code: 508905; CSE Code: 29354)  On September 25, 2021 ', 0.3325793154709169), ('Intimation Of Book Closure - September 18, 2021 (Saturday) To September 25, 2021(Saturday) (Both Days Inclusive) - agm Of The Company (BSE Code: 508905; CSE Code: 29354)  On September 25, 2021 ', 0.3325793154709169)] [('Change Cut-Off-Date As September 22, 2021 Instead Of September 24, 2021.', 0.7295330720263429), ('Information Regarding Annual Book Closure From 22Nd September, 2021 To 28Th September 2021', 0.7558472548853941)] \n",
      "\n",
      "\n",
      " label: 72 \n",
      " [('Book Closure For Dividend And Evoting In The 40Th AGM To Be Held On 10Th August 2021', 0.4667821319099086), ('Fixes Record Date For AGM Scheduled To Be Held On 17Th August, 2021', 0.5497026508792348)] [('Fixes Book Closure Date Of The Company For 34Th AGM Of The Company To Be Held On August 11, 2021 (Wednesday) Through VC/OAVM', 0.7352420973696707), ('Intimation Of Record Date And Book Closure Period For The 63Rd agm Of Bayer Cropscience Limited To Be Held On Thursday, August 12, 2021.', 0.7521102349900594)] \n",
      "\n",
      "\n",
      " label: 170 \n",
      " [('Information Regarding AGM, Book Closure Date(S) And Remote E-Voting Information (Cut-Off Date)', 0.40787521305590246), ('Information Regarding AGM, Book Closure Date(S) And Remote E-Voting Information (Cut-Off Date)', 0.40787521305590246)] [('Intimation Of The 27Th agm , Remote E-Voting Information And Book Closure Dates', 0.7221002751748006), ('Scrip Code: 526468/ ISIN: INE940E01011:  Intimation Of 29Th agm,Book Closure, Cut Off Date, Evoting Period And Other Information', 0.768505238082376)] \n",
      "\n",
      "\n",
      " label: 168 \n",
      " [('Corporate Action-Fixes Record Date For Interim Dividend', 0.1199439793923981), ('Corporate Action-Fixes Record Date For Interim Dividend', 0.1199439793923981)] [('Corporate Action-Fixes Record Date For Declaration Of Interim Dividend For FY21-22', 0.7262094643446593), ('Corporate Action-Revised Record Date For Interim Dividend (25/08/2021) ', 0.7765548522254488)] \n",
      "\n",
      "\n",
      " label: 143 \n",
      " [('Register Of Members And Share Transfer Books Will Be Closed From Friday 24Th September, 2021 To Thursday 30Th September, 2021 (Both The Days Inclusive). ', 0.2939717716693031), ('Register Of Members And Share Transfer Books Of The Company Will Remain Closed From Friday, 10Th September 2021 To Thursday, 16Th September 2021 (Both Days Inclusive) For The agm. ', 0.30887060328540755)] [('Convening Of 36Th AGM Of The Company On Thursday, The September 30, 2021. The Register Of Members Will Be Closed From Sunday, September 26, 2021 To Thursday, September 30, 2021 (Both Days Inclusive) For The Purpose Of Annual General.', 0.6706875272129076), ('Approval Of Closure Of Register Of Books And Share Transfer Register From 24 September To 30Th September 2021 ', 0.7580321720958539)] \n",
      "\n",
      "\n",
      " label: 155 \n",
      " [('Intimation Of agm & Book Closure For The Financial Year 2020-21', 0.2341756179519528), ('Intimation Of Book Closure And agm For The Financial Year 2020-21', 0.2341756179519528)] [('Fixing Of Book Closure Dates Of 30Th AGM For The Financial Year 20-21', 0.7396313288758193), ('Corporate Action-Fixes Book Closure For AGM For The Financial Year 2018-19', 0.7550373235666242)] \n",
      "\n",
      "\n",
      " label: 78 \n",
      " [('Corporate Action - Fixes Book Closure For 30Th agm', 0.30336327520273115), ('Corporate Action - Fixes Book Closure For 30Th agm', 0.30336327520273115)] [('Corporate Action-Fixes Record For 30Th AGM', 0.5434721106585264), ('Corporate Action- Fixes Record Date For 30Th AGM', 0.5918890600252719)] \n",
      "\n",
      "\n",
      " label: 115 \n",
      " [('Board declares First Interim Dividend', 0.22873751758313174), ('Board declares First Interim Dividend', 0.22873751758313174)] [('Board to consider First Interim Dividend', 0.4506382862907441), ('First Interim Dividend 2021-22', 0.7497698225725268)] \n",
      "\n",
      "\n",
      " label: 63 \n",
      " [('Notice Of Book Closure And Date Of 27Th agm ', 0.265818820309829), ('Notice Of Book Closure For 27Th agm', 0.3020429507530651)] [('Book Closure Notice For 27Th agm (AGM) F.Y.2020-2021 Of  ZENITH HEALTHCARE LIMITED. ', 0.678572009095645), ('NOTICE OF BOOK CLOSURE FOR TWENTY SEVENTH (27TH) ANNUAL  GENERAL MEETING THROUGH VC AND OAVM. ', 0.7571018369569615)] \n",
      "\n",
      "\n",
      " label: 94 \n",
      " [('Intimation Of Book Closure For The Purpose Of 29Th agm Of The Company. ', 0.3441138917561593), ('Intimation Of Book Closure For The Purpose Of 29Th agm Of The Company. ', 0.3441138917561593)] [('Intimation Of Book Closure For The Purpose Of Payment Of Final Dividend And 29Th agm', 0.6635243815867112), ('Notice Of Book Closure Dates For The Purpose Of 29Th AGM Of The Company', 0.6879819075805206)] \n",
      "\n",
      "\n",
      " label: 90 \n",
      " [('Corporate Action - Record Date For Rights Issue', 0.28673893749020946), ('Record Date For Rights Issue', 0.2868182445960374)] [('Corporate Action- Fixes The Record Date January 22, 2022 For Rights Issue', 0.6554708070300221), ('Corporate Action-Synopsis Of Rights  ', 0.6920155386649096)] \n",
      "\n",
      "\n",
      " label: 128 \n",
      " [('Book Closures From 25-09-2021 To 28-09-2021 (Both Days Inclusive)-For The          Purpose Of  59Th  AGM To Be Held On 28-09-2021 ', 0.49220192471099555), ('Fixes Book Closure For The Purpose Of agm To Be Held On 17/09/2021', 0.5391091053519713)] [('Book Closure For AGM Scheduled For 29.09.2021 ', 0.7443893752272045), ('Pursuant To Reg. 42 The Register Of Member And Share Transfer Books Shall Remained Closed From Wednesday, 22/09/2021 To Wednesday, 29/09/2021 (Both Days Inclusive). Cut - Off Date Shall Be Wednesday, 22/09/2021.', 0.8064065262131538)] \n",
      "\n",
      "\n",
      " label: 198 \n",
      " [('Intimation Of Book Closure And Dividend Payment Date', 0.19577229683495265), ('Intimation Of Book Closure And Dividend Payment Date.', 0.19577229683495265)] [('Intimation Of Date Of agm, Book Closure, Record Date Of Dividend Payment And E-Voting Schedule. ', 0.530311838488409), ('Intimation About 60Th agm, Book Closure, Dividend Payment And Cut-Off Date', 0.5333274488725823)] \n",
      "\n",
      "\n",
      " label: 160 \n",
      " [('Board to consider Q1 Results & Dividend on July 26, 2021', 0.31454549666034476), ('Board to consider Q1 Results & Dividend on July 26, 2021', 0.31454549666034476)] [('Board to consider Q1 results & Interim Dividend on July 27, 2021', 0.4912210707672361), ('Board to consider Q1 results & First Interim Dividend on July 28, 2021', 0.6086648458286201)] \n",
      "\n",
      "\n",
      " label: 80 \n",
      " [('Book Closure For The AGM To Be Held Dated 8Th September, 2021', 0.31382290247412675), ('Intimation Of Book Closure For agm Held On September 25, 2021', 0.3287336290174248)] [('Book Closure For Determining The Eligible Shareholder To Vote At AGM To Be Held On 28Th September, 2021', 0.68536779920093), ('Book Closure For The Purpose Of 31St agm To Be Held On September 24, 2021.', 0.701745303974505)] \n",
      "\n",
      "\n",
      " label: 52 \n",
      " [('AGM Book Closure  27.12.2021 To 31.12.201', 0.4138182142348102), ('The Board Has Decided To Fix  Book Closure From 20/08/2021 To 27/08/2021 For The Purpose Of agm.', 0.48183642976919255)] [('Book Closure Dates - Monday, 20.9.2021 To Monday, 27.9.2021', 0.6031376866571403), ('Corporate Action: 27/08/2021 To 03/09/2021 (Both Days Inclusive) For The Purpose Of Ensuing AGM To Decide The Entitlement Of Dividend And Bonus Shares, If Declared At The Ensuing AGM.', 0.797332811471827)] \n",
      "\n",
      "\n",
      " label: 109 \n",
      " [('Record Date For The Interim Dividend For The FY 2021-22', 0.23813630584540035), ('Revision In The Record Date For The Interim Dividend For The FY 2021-22.', 0.23813630584540035)] [('For The Purpose Of Determining The Eligibility Of Members Entitled To Receive The Interim Dividend For The FY 2021-22, If Any,', 0.7163604284424828), ('Record Date Pursuant To Regulations 42 Of The SEBI Regulations For Interim Dividend For The  FY  2021-22, If Declared By The Board.', 0.7762777423917194)] \n",
      "\n",
      "\n",
      " label: 106 \n",
      " [('Corporate Announcement/Information Under Regulation 42 Of lodr For Book Closure And Intimation For Date Of The agm, Etc.', 0.3190305904037764), ('Corporate Announcement/Information Under Regulation 42 Of The lodr For Book Closure And Intimation Of Date Of The 10Th agm Etc.', 0.3190305904037764)] [('CORPORATE ANNOUNCEMENT/INFORMATION U/R 42 OF THE lodr FOR DATES OF BOOK CLOSURE FOR 28Th agm OF THE COMPANY', 0.6999507726137628), ('Corporate Announcement/ Information Pursuant To Regulation 44 Of The lodr Regarding Providing Remote E-Voting Facilities For The 39Th agm To Be Held On Monday, 30Th August, 2021', 0.8605237092942194)] \n",
      "\n",
      "\n",
      " label: 192 \n",
      " [('Record Date For Issuance Of Bonus Shares', 0.36987207171770403), ('Issuance Of Bonus Shares -Record Date', 0.36987207171770403)] [('Board to consider Bonus Shares', 0.7173042104047617), ('Intimation Of Record Date For Split Of Shares', 0.7350946171520599)] \n",
      "\n",
      "\n",
      " label: 113 \n",
      " [('Book Closure Notice And Copy Of The Notice Calling The Fourth agm And The Annual Report For The Financial Year 2020-21', 0.4429691997601173), ('Book Closure Notice, Copy Of Notice Calling The Fourth agm And Annual Report For The Financial Year 2020-21', 0.4429691997601173)] [('ANNUAL REPORT (F.Y 2020-21) & NOTICE OF 27THANNUAL GENRAL MEETING AND BOOK CLOSURE OF THE COMPANY.  ', 0.7027991331543681), ('Notice Of Fifth agm Along With Annual Report For FY 2020-21, Intimation Of Book Closure Date And Cut-Off Date For E-Voting', 0.755850063503798)] \n",
      "\n",
      "\n",
      " label: 36 \n",
      " [('Upcoming agm Of The Company To Be Held On 23Rd September 2021', 0.45733200376420236), ('Corporate Action-Fixes Book Closure For The Purpose Of 33Rd agm Of The Company To Be Held On 21St September, 2021.', 0.5252665779445582)] [(\"74Th agm Of The Shareholders Of The Company, Scheduled To Be Held On Friday, September 24, 2021, Through Video Conferencing (VC) / Other Audio Visual Means (''OAVM'') And Payment Of Dividend\", 0.7871078010281507), ('Corporate Announcement/ Information Regarding Voting Through Electronic Mode For The 37Th agm (AGM) To Be Held On Friday, September 17, 2021. ', 0.8182213526814569)] \n",
      "\n",
      "\n",
      " label: 130 \n",
      " [('Fixes Record Date For The Purpose Of Determining The Eligibility For E-Voting', 0.45036413798212793), ('Fixes Record Date For The Purpose Of Determining The Eligibility For E-Voting', 0.45036413798212793)] [('Corporate Action- Fixes Record Date For The 36Th agm Of The Company And Determining The Eligibility Of Shareholders For Payment Of Dividend.', 0.7156241347549966), ('Fixes Record Date For Purpose Of E-Voting', 0.7926731278025456)] \n",
      "\n",
      "\n",
      " label: 156 \n",
      " [('Corporate Action- Fixes Book Closure For AGM To Be Held On 27Th September, 2021 At 11:00 A.M. ', 0.29267912363602977), ('Corporate Action- Fixes Book Closure For AGM To Be Held On 27Th September, 2021 At 1:00 P.M.', 0.29267912363602977)] [('Fixed Book Closure For The 27Th agm To Be Held On 30Th September 2021.', 0.6082271579879249), ('Corporate Action - Book Closure 27Th August, 2021 To 2Nd September, 2021', 0.6949694587674176)] \n",
      "\n",
      "\n",
      " label: 97 \n",
      " [('Annual Book Closure', 0.31760945305651195), ('BOOK CLOSURE FOR THE PURPOSE OF ANNUAL GENERAL METING', 0.3284141489437174)] [(\"Notice Of agm('AGM') Along With Annual Report,Book Closure & E-Voting\", 0.6515756753756387), ('Date Of Annual Genera L Meeting And Book Closure', 0.703568751823109)] \n",
      "\n",
      "\n",
      " label: 127 \n",
      " [('Intimation For 12Th agm, Book Closure And Fixation Of Cut-Off Date For E-Voting And Period Of Remote E-Voting.', 0.24937758974817692), ('INTIMATION OF BOOK CLOSURE AND FIXATION OF CUT-OFF DATE FOR E-VOTING AND PERIOD OF REMOTE E-VOTING.', 0.27369367346561907)] [(\"Intimation Of Date Of NBCC'S 61St agm (AGM), Period Of Remote E-Voting, Cut-Off Date And Record Date For The Payment Of Final Dividend, If Declared At Forthcoming AGM.\", 0.7434744213770728), ('Fixation Of Record Date As On 22.09.2021 To Determine The Entitlement Of The Members For The Purpose Of Remote E-Voting And E-Voting At The Ensuing agm', 0.7798943345742585)] \n",
      "\n",
      "\n",
      " label: 75 \n",
      " [('Corporate Action - Fixes Book Closure From Friday 24Th September, 2021 To Thursday, 30Th September, 2021, (Both Days Inclusive) For The Purpose Of AGM.', 0.29733029471838435), ('Fixes Book Closure From Friday, 24Th September 2021 To Thursday, 30Th September 2021  (Both Days Inclusive)  ', 0.2983981961094537)] [('Book Closure From Thursday, 23Rd September, 2021 To Thursday, 30Th September, 2021 For The Purpose Of 99Th agm Of The Company ', 0.5989128862670169), ('Corporate Action - Fixed Book Closure From Friday, September 17, 2021 To Friday, September 24, 2021 (Both Days Inclusive)', 0.6382108116605154)] \n",
      "\n",
      "\n",
      " label: 199 \n",
      " [('Intimation Of Record Date For Payment Of Interim Dividend For The Financial Year 2021-2022, If Declared', 0.35289583129713875), ('Intimation Of Record Date For Ascertaining Members Eligible For The Payment Of Interim Dividend Declared For The Financial Year 2021-2022', 0.4178534219281797)] [('Record Date For Payment Of Interim Dividend, If Any, For The Financial Year Ending 31St March, 2022', 0.642354019043245), ('Friday, November 05, 2021, As The Record Date For Interim Dividend For The Financial Year 2021-2022.', 0.6756810149975756)] \n",
      "\n",
      "\n",
      " label: 157 \n",
      " [('Book Closure Date', 0.07712805264583186), ('Book Closure Date', 0.07712805264583186)] [('Book Closure Date', 0.07712805264583186), ('Book Closure Date And Record Date', 0.46276831587500056)] \n",
      "\n",
      "\n",
      " label: 196 \n",
      " [('INTIMATION OF BOOK CLOSURE FOR THE PURPOSE OF 30Th agm OF THE COMPANY', 0.3190752619155695), ('Book Closure For The Purpose Of 30Th agm Of The Company', 0.3462562235302083)] [('Intimation Of 30Th agm Of The Company And  Record Date ', 0.5739757828705923), ('Intimation Regarding Close Of Register Of Member And Book Closure And Evoting Period For 30Th agm Of The Company.', 0.7503934797380121)] \n",
      "\n",
      "\n",
      " label: 167 \n",
      " [('Intimation Of Book Closure For The Purpose Of 37Th agm Scheduled To Be Held On 29Th September, 2021.', 0.3793949548178582), ('Intimation Of The Book Closure Date For The Purpose Of The 32Nd agm Scheduled To Be Held On  24Th September 2021', 0.4592392739390215)] [('The Record Date For agm To Be Held On 29Th December, 2021 Is 22Nd December, 2021.', 0.7689952197095039), ('Notice Of Book Closure As Per Regulation 42 Of The lodr For The Purpose Of 36Th agm Of The Company To Be Held On Wednesday The September 29Th 2021.', 0.787571199416507)] \n",
      "\n",
      "\n",
      " label: 18 \n",
      " [('Intimation Of Remote E-Voting Facility As Well As Book Closure For agm', 0.3352552500459895), ('Intimation Of Book Closure And Remote E-Voting', 0.3512315360885206)] [('Revised Intimation Of Book Closure And Remote E-Voting Of Raghunath International Limited.', 0.7166402963527115), ('Notice For Closure Of Register Of Members And Intimation Of Remote E-Voting', 0.7179517124192382)] \n",
      "\n",
      "\n",
      " label: 17 \n",
      " [('Book Closure For The Purpose Of Ensuing agm Of The Company', 0.21138853901693638), ('Book Closure For The Purpose Of agm Of The Company', 0.21138853901693638)] [('Purpose Of AGM Of The Company And To Determine The Members Eligible To Receive Dividend.', 0.7410649935090622), ('Book Closure For The Purpose Of 01/2021-22 EGM Of The Company', 0.8005766911500697)] \n",
      "\n",
      "\n",
      " label: 151 \n",
      " [('BOOK CLOSURE FOR THE AGM TO BE HELD ON 30TH SEPTEMBER 2021', 0.3272624708136832), ('Intimation Of Book Closure For The agm Going To Be Held On 30Th September, 2021.', 0.37481538045626733)] [('Sub: Book Closure For The Financial Year For The AGM To Be Held On 30Th September 2021', 0.6556245164310148), ('Fixes Record Date For The 28Th AGM To Be Held On 30Th September 2021  ', 0.6597572145554474)] \n",
      "\n",
      "\n",
      " label: 43 \n",
      " [('Fixation Of Record Date And Book Closure Pertaining To 36Th AGM Of The Company ', 0.3145344425846811), ('Fixation Of Record Date And Book Closure Pertaining To 36Th AGM Of The Company', 0.3145344425846811)] [('Fixation Of Record Date And Book Closure Pertaining To 36Th AGM Of The Company', 0.3145344425846811), ('The Company Has Fixed 21St    September, 2021 As The Cut-Off /Record Date The Entitlement Of Shareholders To Cast Their Vote Electronically At The 36Th agm (AGM) Of The Company And For Dividend.', 0.6290688851693631)] \n",
      "\n",
      "\n",
      " label: 33 \n",
      " [('Revised Book Closure Dates And The Calendar Of Events Regarding The 22Nd agm Of The Company', 0.3063559348055979), ('Book Closure Dates And The Revised Calendar Of Events (Typographical Error) Regarding The 22Nd agm Of The Company ', 0.3063559348055979)] [('Intimation Regarding Dates Of Book Closure ', 0.5699710297691805), (\"'Notice Regarding Announcement Of The Dates Of Closure Of Transfer Books For The Purpose Of 58Th agm And Dividend'.\", 0.7657069327071934)] \n",
      "\n",
      "\n",
      " label: 9 \n",
      " [('Book Closure Starts On 24Th September, 2021 To 30Th September, 2021 (Both Days Inclusive) For The 39Th agm To Be Held On 30Th September, 2021', 0.33699068140254956), ('Date Of Book Closure From 24Th September, 2021 To 30Th September, 2021 (Both Days Inclusive), For The Purpose Of agm. ', 0.36425532687080614)] [('Corporate Action-Fixes Book Closure For The Period From 24Th September 2021 To 30Th September 2021 (Both Days Inclusive) For The Purpose Of 29Th agm.', 0.5283788006987343), ('Fixes Book Closure For A G M Scheduled On 30Th September, 2021', 0.6955694213314302)] \n",
      "\n",
      "\n",
      " label: 197 \n",
      " [('Corporate Announcement/Information U/R 42 Of The lodr Regarding Annual Book Closure And Date Of The 36Th agm.', 0.2807573399994809), ('Corporate Announcement/Information U/R 42 Of The lodr Regarding Annual Book Closure And Date Of The 36Th agm.', 0.2807573399994809)] [('Corporate Action-Fixes Book Closure For 32Nd agm To Be Held On 27-09-2021 (Information Regarding Annual Book Closure & Record Date - Regarding)', 0.5865876012526037), ('Corporate Action-Fixes Record Date For 32Nd agm To Be Held On 27-09-2021 (Information Regarding Annual Book Closure & Record Date - Regarding)', 0.6118416196181865)] \n",
      "\n",
      "\n",
      " label: 165 \n",
      " [('CORPORATE ACTION - FIXES BOOK CLOSURE FOR AGM TO BE HELD ON 30/09/2021.', 0.24404014122799988), ('Fixes Book Closure For AGM To Be Held On 30.09.2021', 0.3011878406567896)] [('Intimation Of Book Closure For Ensuing agm Of Apex Capital And Finance Limited To Be Held On 30.09.2021 For FY Ended On 31.03.2021', 0.6983334781842312), ('CORPORATE ACTION - FIXES BOOK CLOSURE FOR SHAREHOLDER MEETING (AGM) ON 30-11-2021.', 0.7859241382869675)] \n",
      "\n",
      "\n",
      " label: 122 \n",
      " [('For The Purpose Of 37Th agm (AGM) Of The Company To Be Held On Thursday, September 30, 2021', 0.5107316198611161), ('Revised Intimation Of Book Closure For Taking Record Of The Members Of The Company For The Purpose Of 23Rd agm Of The Company Scheduled To Be Held On Thursday, September 30, 2021.', 0.5255308301123277)] [('Compliance Of The Regulation Of LODR 2015 For The Intimation Of Book Closure Period (23.11.2021 To 30.11.2021) Of The Company In Respect Of 32Nd agm Scheduled To Be Held On 30.11.2021.', 0.6344800248992022), ('27Th agm Of The Company, Scheduled To Be Held On Friday, The 26Th November, 2021 At 11.30 A.M. ', 0.6455502338273335)] \n",
      "\n",
      "\n",
      " label: 45 \n",
      " [('Board to consider Q3 results & Interim Dividend on Jan 13, 2022', 0.10184114081018578), ('Board to consider Q3 results & Interim Dividend on January 31, 2022', 0.10184114081018578)] [('Board to consider Q3 results & First Interim Dividend on Feb 11, 2022', 0.567698279751643), ('Board to consider Q3 Results & Interim Dividend on January 24, 2022', 0.5703511307916875)] \n",
      "\n",
      "\n",
      " label: 147 \n",
      " [('2Nd Interim Dividend - Record Date, Monday, 7Th February, 2022', 0.4544376111719748), ('Updation In The Intimation Of Record Date Submitted Vide Letter Dated January 07, 2022', 0.45708773125265323)] [('Intimation Of Cutoff Date For E-Voting And Book Closure For The Purpose Of EGM To Be Held On 10Th February, 2022.', 0.7418496634435982), ('Intimation Of Book Closure For The egm To Be Held On Friday, 04Th February, 2022\\r\\n', 0.8221044352154564)] \n",
      "\n",
      "\n",
      " label: 175 \n",
      " [('We Also Wish To Inform You That The Record Date For The Proposed Distribution To Unitholders For The Quarter Ended December 31, 2021, Will Be Wednesday, February 16, 2022', 0.3376657513662263), ('Record Date For The Proposed Distributions To Unitholders For The Quarter Ended December 31 , 2021 Will Be Monday, February 07, 2022.', 0.4230576578103651)] [('Record Date For Distribution To Unitholders Of Pginvit For The Quarter Ended December 31, 2021, If Declared, Will Be Thursday, February 3, 2022.', 0.5787710760603901), ('Record Date For 2Nd Interim Dividend - Wednesday, February 16, 2022', 0.6618749254135109)] \n",
      "\n"
     ]
    },
    {
     "data": {
      "image/png": "[encoded data removed]",
      "text/plain": [
       "<Figure size 432x288 with 1 Axes>"
      ]
     },
     "metadata": {
      "needs_background": "light"
     },
     "output_type": "display_data"
    }
   ],
   "source": [
    "clusters = cluster_by_kmeans(categories[category], param, n_clusters=n_clusters, detailed_output=True)"
   ]
  },
  {
   "cell_type": "code",
   "execution_count": 291,
   "metadata": {},
   "outputs": [
    {
     "data": {
      "text/plain": [
       "True"
      ]
     },
     "execution_count": 291,
     "metadata": {},
     "output_type": "execute_result"
    }
   ],
   "source": [
    "filename = category + '.csv'\n",
    "_generate_csv(clusters, param, filename)\n",
    "\n",
    "import webbrowser\n",
    "webbrowser.open(filename)"
   ]
  },
  {
   "cell_type": "code",
   "execution_count": null,
   "metadata": {},
   "outputs": [],
   "source": []
  },
  {
   "cell_type": "code",
   "execution_count": null,
   "metadata": {},
   "outputs": [],
   "source": []
  },
  {
   "cell_type": "code",
   "execution_count": null,
   "metadata": {},
   "outputs": [],
   "source": []
  },
  {
   "cell_type": "code",
   "execution_count": null,
   "metadata": {},
   "outputs": [],
   "source": []
  },
  {
   "cell_type": "code",
   "execution_count": null,
   "metadata": {},
   "outputs": [],
   "source": []
  },
  {
   "cell_type": "code",
   "execution_count": null,
   "metadata": {},
   "outputs": [],
   "source": []
  },
  {
   "cell_type": "code",
   "execution_count": null,
   "metadata": {},
   "outputs": [],
   "source": []
  },
  {
   "cell_type": "markdown",
   "metadata": {},
   "source": [
    "## Analyse subjects\n",
    "\n",
    "The subjects contain highly accurate information. We can use them to create wider categories.\n",
    "\n",
    "Only few subjects are prone to bad-headings. These are subjects like: lodr, media release, newspaper print. For these we can define new categories.\n",
    "\n",
    "Let's analyse subects first."
   ]
  },
  {
   "cell_type": "code",
   "execution_count": 111,
   "metadata": {},
   "outputs": [
    {
     "name": "stdout",
     "output_type": "stream",
     "text": [
      "[('Announcement under Regulation 30 (LODR)-Newspaper Publication', 17363), ('Closure of Trading Window', 15958), ('Compliances-Certificate under Reg. 74 (5) of SEBI (DP) Regulations, 2018', 14698)]\n"
     ]
    }
   ],
   "source": [
    "from collections import Counter\n",
    "\n",
    "subjects = [doc['subject'] for doc in announcements]\n",
    "\n",
    "# see different kinds of subjects and counts\n",
    "counter = Counter()\n",
    "for subject in subjects:\n",
    "    counter[subject] += 1\n",
    "\n",
    "print(counter.most_common(3))"
   ]
  },
  {
   "cell_type": "markdown",
   "metadata": {},
   "source": [
    "## Define our own labels"
   ]
  },
  {
   "cell_type": "code",
   "execution_count": 81,
   "metadata": {},
   "outputs": [
    {
     "name": "stdout",
     "output_type": "stream",
     "text": [
      "time taken 17.328874s\n"
     ]
    },
    {
     "data": {
      "text/plain": [
       "(288726, 4016)"
      ]
     },
     "execution_count": 81,
     "metadata": {},
     "output_type": "execute_result"
    }
   ],
   "source": [
    "from sklearn.feature_extraction.text import TfidfVectorizer\n",
    "\n",
    "t0 = time()\n",
    "\n",
    "headline_transformer = TfidfVectorizer(max_df=.5, min_df=50, stop_words=stop_words)\n",
    "headlines = [_clean_doc(_get_headline(doc)) for doc in announcements]\n",
    "X = headline_transformer.fit_transform(headlines)\n",
    "\n",
    "print('time taken %fs' % (time() - t0))\n",
    "X.shape"
   ]
  },
  {
   "cell_type": "code",
   "execution_count": 102,
   "metadata": {},
   "outputs": [
    {
     "name": "stdout",
     "output_type": "stream",
     "text": [
      "Grant Of Permission To Establish Oils And Oleoresin Essential Oils Plant Of Capacity - 600 Kilo Liters Per Year At Agro Division.  \n",
      "\n",
      "  This is to inform you that the Chhattisgarh Environment Conservation Board, vide its letters dated 20.01.2021 has granted its consent to the Company, to establish Oils and Oleoresin Essential Oils Plant of capacity - 600 Kilo Liters Per Year within existing Agro plant premises at Khasra No. 150, 151/1, 151/4 & 151/5, Urla Guma Road, Village - Borjhara, District - Raipur (C.G.) under Water (Prevention and Control of Pollution) Act, 1974 and Air (Prevention and Control of Pollution) Act 1981. These facilities are presently under commissioning and the Company expects to start Commercial operations in these facilities as quickly as possible after grant of permission to operate.<BR> <BR> Currently, the Company is engaged in the business of Iron, Steel and Ready to eat frozen foods. Now the management has decided to diversify its boundary. As a part of the strategy, the Company will soon launch its Supercritical fluid extraction (SCFE) Products.<BR> \n",
      "[(0.27236082351441404, 'control'), (0.2467054201026848, 'plant'), (0.22520868851323464, 'facilities'), (0.19129510724543083, 'prevention'), (0.17155506271216076, 'act'), (0.1618597921501963, 'commissioning'), (0.16081748070809174, 'possible'), (0.16056648539922647, 'raipur')]\n",
      "\n",
      "\n",
      "\n",
      " Counter({'unknown': 7182, 'sast': 1163, 'duplicate_certificate': 731, 'investor meet': 537, 'meeting results': 232, 'acquisition': 75, 'scheme of arrangement': 40, 'demise': 11, 'bm consider dividend': 8, 'strike': 6, 'warrant conversion': 2, 'gas discovery': 2, 'commercial production': 2, 'general disclosure': 1, 'revised result': 1, 'revision': 1, 'appreciation': 1, 'no information': 1, 'order update': 1, 'usfda approval': 1, 'new product': 1, 'amalgamation update': 1})\n"
     ]
    }
   ],
   "source": [
    "from collections import Counter\n",
    "\n",
    "UNKNOWN = \"unknown\"\n",
    "\n",
    "def _print_important_words(headline):\n",
    "    row = headline_transformer.transform([headline])\n",
    "    names = headline_transformer.get_feature_names_out()\n",
    "    row = row.toarray()[0]\n",
    "    name_vals = sorted(zip(row, names), reverse=True)\n",
    "    print(name_vals[:8])\n",
    "\n",
    "def _case_insensitive_dict(d):\n",
    "    return {k.lower(): v.lower() for k, v in d.items()}\n",
    "\n",
    "def _get_headline(doc):\n",
    "    return (\n",
    "        doc[\"headline\"]\n",
    "        if len(doc['headline']) > len(doc['more'])\n",
    "        else doc[\"more\"]\n",
    "    )\n",
    "\n",
    "def _reset_labels(docs):\n",
    "    for doc in docs:\n",
    "        doc['label'] = UNKNOWN\n",
    "\n",
    "def _set_label(doc, label):\n",
    "    is_already_set = (doc['label'] != UNKNOWN) and (label != doc['label'])\n",
    "    if is_already_set:\n",
    "        raise ValueError('Document already has label', doc['label'], doc['subject'])\n",
    "    \n",
    "    doc['label'] = label\n",
    "\n",
    "\n",
    "def _set_labels(docs):\n",
    "    for doc in docs:\n",
    "        subject = doc[\"subject\"].casefold()\n",
    "        headline = _get_headline(doc).casefold()\n",
    "\n",
    "        if \"label\" not in doc:\n",
    "            doc[\"label\"] = UNKNOWN\n",
    "\n",
    "        for ph_sub, label in subject__labels.items():\n",
    "            if ph_sub in subject:\n",
    "                _set_label(doc, label)\n",
    "\n",
    "        for ph_headline, label in headline__labels.items():\n",
    "            if ph_headline in headline:\n",
    "                _set_label(doc, label)\n",
    "\n",
    "        for ph, label in any__labels.items():\n",
    "            if (ph in subject) or (ph in headline):\n",
    "                _set_label(doc, label)\n",
    "\n",
    "def _print_stats(docs):\n",
    "    counter = Counter()\n",
    "    for doc in docs:\n",
    "        counter[doc['label']] += 1\n",
    "    print(\"\\n\\n\\n\", counter)\n",
    "\n",
    "def _print_first_unknown(docs):\n",
    "    for doc in docs:\n",
    "        if doc['label'] == UNKNOWN:\n",
    "            headline = _get_headline(doc)\n",
    "            print(doc['subject'], \"\\n\\n\", headline)\n",
    "            _print_important_words(headline)\n",
    "            return\n",
    "\n",
    "# labels\n",
    "subject__labels = _case_insensitive_dict({\n",
    "    \"details of loss of certificate\": \"duplicate_certificate\",\n",
    "    \"duplicate certificate\": \"duplicate_certificate\",\n",
    "    \"investor meet\": \"investor meet\",\n",
    "    \"general disclosure under the securities\": \"general disclosure\",\n",
    "    \"(LODR)-Acquisition\": \"acquisition\",\n",
    "    \"proceedings of postal ballot\": \"meeting results\",\n",
    "    \"scrutinizer''s report\": \"meeting results\",\n",
    "    \"voting results\": \"meeting results\",\n",
    "    \"strikes /lockouts / disturbances\": \"strike\",\n",
    "    \"Rectifying The Above Typographical Error\": \"revision\",\n",
    "    \"revised result\": \"revised result\",\n",
    "    \"SAST\": \"sast\",\n",
    "    \"Becomes 3Rd Largest\": \"appreciation\",\n",
    "    \"Gas Discovery\": \"gas discovery\",\n",
    "    \"Scheme of Arrangement\": \"scheme of arrangement\",\n",
    "#     \"Closure of Trading Window\": \"trading window\",\n",
    "    \"demise\": \"demise\",\n",
    "    \"Consider Dividend\": \"bm consider dividend\",\n",
    "})\n",
    "headline__labels = _case_insensitive_dict({\n",
    "    \"conversion of the warrants\": \"warrant conversion\",\n",
    "    \"commenced commercial production\": \"commercial production\",\n",
    "#     \"start Commercial operations\": \"commercial production\",\n",
    "    \"discovers gas\": \"gas discovery\",\n",
    "    \"Company has no information\": \"no information\",\n",
    "    \"awarded the order\": \"order update\",\n",
    "    \"receives USFDA approval\": \"usfda approval\",\n",
    "    \"launch its new\": \"new product\",\n",
    "    \"amalgamation update\": \"amalgamation update\",\n",
    "})\n",
    "any__labels = _case_insensitive_dict({\n",
    "    \n",
    "})\n",
    "        \n",
    "# take first n docs\n",
    "docs = announcements[:10000]\n",
    "_reset_labels(docs)\n",
    "_set_labels(docs)\n",
    "_print_first_unknown(docs)\n",
    "_print_stats(docs)"
   ]
  },
  {
   "cell_type": "code",
   "execution_count": null,
   "metadata": {},
   "outputs": [],
   "source": []
  },
  {
   "cell_type": "markdown",
   "metadata": {},
   "source": [
    "## Extract clusters"
   ]
  },
  {
   "cell_type": "code",
   "execution_count": 190,
   "metadata": {},
   "outputs": [
    {
     "name": "stderr",
     "output_type": "stream",
     "text": [
      "[nltk_data] Downloading package omw-1.4 to\n",
      "[nltk_data]     /Users/pratyush/nltk_data...\n",
      "[nltk_data]   Package omw-1.4 is already up-to-date!\n"
     ]
    },
    {
     "data": {
      "text/plain": [
       "True"
      ]
     },
     "execution_count": 190,
     "metadata": {},
     "output_type": "execute_result"
    }
   ],
   "source": [
    "import nltk\n",
    "nltk.download('omw-1.4')"
   ]
  },
  {
   "cell_type": "code",
   "execution_count": 191,
   "metadata": {},
   "outputs": [
    {
     "name": "stdout",
     "output_type": "stream",
     "text": [
      "done in 28.805475s\n",
      "samples, features = (288726, 3954)\n"
     ]
    }
   ],
   "source": [
    "from time import time\n",
    "from sklearn.feature_extraction.text import TfidfVectorizer\n",
    "from functools import lru_cache\n",
    "\n",
    "from nltk.stem import WordNetLemmatizer, SnowballStemmer\n",
    "from nltk.tokenize import wordpunct_tokenize\n",
    "from nltk.corpus import stopwords\n",
    "\n",
    "stemmer = WordNetLemmatizer()\n",
    "\n",
    "@lru_cache(maxsize=1024)\n",
    "def _get_stem(word):\n",
    "    return stemmer.lemmatize(word)\n",
    "\n",
    "class LemmaTokenizer:\n",
    "\n",
    "    def __call__(self, doc):\n",
    "        return [\n",
    "            _get_stem(t)\n",
    "            for t in wordpunct_tokenize(doc)\n",
    "            if t not in stop_words\n",
    "        ]\n",
    "\n",
    "t0 = time()\n",
    "vectorizer = TfidfVectorizer(\n",
    "        max_df=0.5,\n",
    "        min_df=50,\n",
    "        use_idf=True,\n",
    "        tokenizer=LemmaTokenizer(),\n",
    "    )\n",
    "X = vectorizer.fit_transform(data)\n",
    "\n",
    "print(\"done in %fs\" % (time() - t0))\n",
    "print(\"samples, features =\", X.shape)"
   ]
  },
  {
   "cell_type": "code",
   "execution_count": 192,
   "metadata": {},
   "outputs": [
    {
     "name": "stdout",
     "output_type": "stream",
     "text": [
      "Compliances-Reg. 39 (3) - Details of Loss of Certificate / Duplicate Certificate\n",
      "\n",
      "Pursuant to Regulation 39(3) of the lodr, we wish to inform you that the Company has received requests for issue of duplicate share certificates in lieu of the old certificates which have been reported lost/misplaced by the shareholders.\n"
     ]
    },
    {
     "data": {
      "text/plain": [
       "[array(['shareholder', 'misplaced', 'lost', 'reported', 'old', 'lieu',\n",
       "        'share', 'issue', 'request', 'received', 'inform', 'wish', 'lodr',\n",
       "        'regulation', 'pursuant', 'duplicate', '/', 'certificate', 'loss',\n",
       "        'detail', ')', '3', '39', 'reg', 'compliance'], dtype='<U31')]"
      ]
     },
     "execution_count": 192,
     "metadata": {},
     "output_type": "execute_result"
    }
   ],
   "source": [
    "print(data[0])\n",
    "vectorizer.inverse_transform(X[0])"
   ]
  },
  {
   "cell_type": "code",
   "execution_count": 193,
   "metadata": {},
   "outputs": [
    {
     "data": {
      "text/plain": [
       "[(0.4557245634942922, 'certificate'),\n",
       " (0.30723194177184804, 'duplicate'),\n",
       " (0.3060136142836076, '39'),\n",
       " (0.28995195162473086, 'old'),\n",
       " (0.2508382344962418, 'misplaced'),\n",
       " (0.23645878488184593, 'lieu'),\n",
       " (0.23353188881729645, 'reported'),\n",
       " (0.2308140041831322, 'lost')]"
      ]
     },
     "execution_count": 193,
     "metadata": {},
     "output_type": "execute_result"
    }
   ],
   "source": [
    "def _inverse_transform_weight(vectorizer, row):\n",
    "    names = vectorizer.get_feature_names_out()\n",
    "    row = row.toarray()[0]\n",
    "    name_vals = sorted(zip(row, names), reverse=True)\n",
    "    return name_vals[:8]\n",
    "\n",
    "_inverse_transform_weight(vectorizer, X[0])"
   ]
  },
  {
   "cell_type": "code",
   "execution_count": 194,
   "metadata": {},
   "outputs": [
    {
     "name": "stdout",
     "output_type": "stream",
     "text": [
      "Announcement under  lodr-Allotment\n",
      "\n",
      "With reference to above and further to our intimation date 27th February, 2021, this is to inform you that warrant holders (i.e. Promoter Group entities) have exercised their right for conversion of the warrants into equity shares of the Company. Consequently, the Board of Directors of the Company at their meeting held today i.e. on 14th March, 2021 has allotted 1,01,76,923 equity shares of face value of Re. 1/- each (with a premium of Rs. 51/- per equity share) pursuant to exercise of 1,01,76,923 convertible warrants.  These equity shares allotted on conversion of the warrants, shall rank pari passu, in all respects with the existing equity shares.  Post the allotment of equity shares, the paid up equity shares of the Company has increased from INR 27,38,35,000/- (Rupees Twenty Seven Crore Thirty Eight Lakhs Thirty Five Thousand only) to INR 28,40,11,923/- (Rupees Twenty Eight Crore Forty Lakhs Eleven Thousand Nine Hundred and Twenty Three only)  \n"
     ]
    },
    {
     "data": {
      "text/plain": [
       "[(0.3373788532709151, 'equity'),\n",
       " (0.33470556160102627, 'warrant'),\n",
       " (0.24898365907456949, 'twenty'),\n",
       " (0.24503231554560412, 'share'),\n",
       " (0.2396079208383139, '/-'),\n",
       " (0.20335795959883743, '76'),\n",
       " (0.18559315284744632, 'conversion'),\n",
       " (0.17533108415528312, 'thirty')]"
      ]
     },
     "execution_count": 194,
     "metadata": {},
     "output_type": "execute_result"
    }
   ],
   "source": [
    "print(data[1])\n",
    "_inverse_transform_weight(vectorizer, X[1])"
   ]
  },
  {
   "cell_type": "code",
   "execution_count": 195,
   "metadata": {},
   "outputs": [
    {
     "name": "stdout",
     "output_type": "stream",
     "text": [
      "General Disclosure Under The sebi lodr regulations 2015 - 3B Binani Glassfibre SARL\n",
      "\n",
      "General Disclosure under the sebi lodr regulations 2015 - 3B Binani Glassfibre SARL\n"
     ]
    },
    {
     "data": {
      "text/plain": [
       "[(0.7378048314900639, 'general'),\n",
       " (0.3631716328084742, 'disclosure'),\n",
       " (0.3510199383339402, '2015'),\n",
       " (0.28409910008449857, 'sebi'),\n",
       " (0.24710787250664928, 'lodr'),\n",
       " (0.24240626914664926, 'regulation'),\n",
       " (0.0, '™'),\n",
       " (0.0, '”)')]"
      ]
     },
     "execution_count": 195,
     "metadata": {},
     "output_type": "execute_result"
    }
   ],
   "source": [
    "print(data[2])\n",
    "_inverse_transform_weight(vectorizer, X[2])"
   ]
  },
  {
   "cell_type": "code",
   "execution_count": 196,
   "metadata": {},
   "outputs": [
    {
     "name": "stdout",
     "output_type": "stream",
     "text": [
      "Revised Result For Quarter And Nine Months Ended On 31.12.2020 In Format Asked Through Mail\n",
      "\n",
      "Dear Sir,  Please find enclosed herewith the revised Results for the quarter and nine months ended on 31.12.2020 as asked by you through mail and proforma approved through mail.  Thanking You with Regards Yours Faithfully  For  Rishab Special Yarns Limited    Managing Director DIN: 00349697\n"
     ]
    },
    {
     "data": {
      "text/plain": [
       "[(0.5481677421225989, 'mail'),\n",
       " (0.3057026155019582, 'revised'),\n",
       " (0.2503492109973148, 'nine'),\n",
       " (0.24483113416651148, 'yarn'),\n",
       " (0.239126960716256, 'month'),\n",
       " (0.23309085854503653, '12'),\n",
       " (0.22828571150957902, '2020'),\n",
       " (0.18385685253095252, 'special')]"
      ]
     },
     "execution_count": 196,
     "metadata": {},
     "output_type": "execute_result"
    }
   ],
   "source": [
    "print(data[3])\n",
    "_inverse_transform_weight(vectorizer, X[3])"
   ]
  },
  {
   "cell_type": "code",
   "execution_count": 197,
   "metadata": {},
   "outputs": [
    {
     "name": "stdout",
     "output_type": "stream",
     "text": [
      "Announcement under  lodr-Acquisition\n",
      "\n",
      "We wish to inform you that Axis Bank Limited has entered into definitive agreements with Fettle Tone LLP and the other partners of Fettle Tone LLP on 13th March 2021 in connection with Axis Bank Limited's proposed acquisition of 9.90% of the aggregate partnership interest of Fettle Tone LLP pursuant to a contribution by Axis Bank Limited in Fettle Tone LLP's partnership capital.  The details as required under  of the sebi (Listing Obligations & Disclosure Requirements) regulations 2015 are attached. \n"
     ]
    },
    {
     "data": {
      "text/plain": [
       "[(0.4670645487041499, 'llp'),\n",
       " (0.4650074298410163, 'axis'),\n",
       " (0.3154553540235189, 'partnership'),\n",
       " (0.29135420044096133, 'bank'),\n",
       " (0.21526777748755083, 'acquisition'),\n",
       " (0.1740387700355057, 'definitive'),\n",
       " (0.16145278586894393, 'limited'),\n",
       " (0.1590115339222823, 'contribution')]"
      ]
     },
     "execution_count": 197,
     "metadata": {},
     "output_type": "execute_result"
    }
   ],
   "source": [
    "print(data[4])\n",
    "_inverse_transform_weight(vectorizer, X[4])"
   ]
  },
  {
   "cell_type": "markdown",
   "metadata": {},
   "source": [
    "## Returning to our code"
   ]
  },
  {
   "cell_type": "code",
   "execution_count": 33,
   "metadata": {},
   "outputs": [
    {
     "name": "stdout",
     "output_type": "stream",
     "text": [
      "Extracting tf-idf features for NMF...\n",
      "done in 0.173s.\n"
     ]
    }
   ],
   "source": [
    "# now data we have a sample data,\n",
    "# lets convert it to a tf-idf vector\n",
    "\n",
    "from sklearn.feature_extraction.text import TfidfVectorizer\n",
    "\n",
    "# exclude common English words\n",
    "# also exclude words only one document\n",
    "# or in at least 95% of the documents\n",
    "print(\"Extracting tf-idf features for NMF...\")\n",
    "tfidf_vectorizer = TfidfVectorizer(\n",
    "    max_df=0.95, # ignore words which are present in over 95% documents\n",
    "    min_df=2, # ignore words which are present in less than 2 documents\n",
    "    max_features=1000, # consider only the top 1000 words by frequency\n",
    "    stop_words=\"english\", # ignore common english words such as the\n",
    ")\n",
    "\n",
    "t0 = time()\n",
    "tfidf = tfidf_vectorizer.fit_transform(data_samples)\n",
    "print(\"done in %0.3fs.\" % (time() - t0))"
   ]
  },
  {
   "cell_type": "code",
   "execution_count": 35,
   "metadata": {},
   "outputs": [
    {
     "data": {
      "text/plain": [
       "array(['00', '000', '10', '100', '11', '12', '128', '13', '130', '14',\n",
       "       '15', '16', '17', '18', '19', '1992', '1993', '20', '200', '21',\n",
       "       '22', '23', '24', '25', '250', '26', '27', '28', '29', '2nd', '30',\n",
       "       '300', '31', '32', '33', '34', '35', '36', '37', '38', '3d', '40',\n",
       "       '42', '43', '44', '45', '48', '49', '50', '500', '51', '55', '60',\n",
       "       '66', '70', '72', '75', '80', '800', '86', '90', '92', '93', '__',\n",
       "       'able', 'ac', 'accept', 'access', 'according', 'act', 'action',\n",
       "       'actually', 'add', 'added', 'addition', 'address',\n",
       "       'administration', 'advance', 'age', 'ago', 'agree', 'aids', 'air',\n",
       "       'al', 'allow', 'allowed', 'alt', 'america', 'american', 'amiga',\n",
       "       'analysis', 'anonymous', 'answer', 'answers', 'anti', 'anybody',\n",
       "       'apartment', 'appears', 'apple', 'application', 'applications',\n",
       "       'apply', 'appreciated', 'approach', 'appropriate', 'apr', 'april',\n",
       "       'archive', 'area', 'areas', 'aren', 'argument', 'armenia',\n",
       "       'armenian', 'armenians', 'army', 'article', 'ask', 'asked',\n",
       "       'asking', 'assume', 'atheism', 'attack', 'attacks', 'attempt',\n",
       "       'au', 'author', 'authority', 'available', 'average', 'away',\n",
       "       'azerbaijan', 'bad', 'based', 'basic', 'basically', 'begin',\n",
       "       'belief', 'believe', 'best', 'better', 'bible', 'big', 'bike',\n",
       "       'billion', 'bios', 'bit', 'black', 'block', 'blood', 'blue',\n",
       "       'board', 'bob', 'body', 'book', 'books', 'bought', 'box', 'brake',\n",
       "       'break', 'bring', 'btw', 'build', 'building', 'built', 'bus',\n",
       "       'business', 'buy', 'buying', 'ca', 'cable', 'called', 'calls',\n",
       "       'came', 'canada', 'car', 'card', 'cards', 'care', 'carry', 'cars',\n",
       "       'case', 'cases', 'cause', 'cc', 'cd', 'center', 'certain',\n",
       "       'certainly', 'chance', 'change', 'changed', 'changes', 'cheap',\n",
       "       'check', 'children', 'chip', 'choice', 'christ', 'christian',\n",
       "       'christians', 'church', 'citizens', 'city', 'claim', 'clear',\n",
       "       'clearly', 'clinton', 'clipper', 'clock', 'close', 'code', 'cold',\n",
       "       'color', 'com', 'come', 'comes', 'coming', 'command', 'comments',\n",
       "       'commercial', 'common', 'communications', 'community', 'comp',\n",
       "       'company', 'complete', 'completely', 'computer', 'condition',\n",
       "       'conference', 'congress', 'connector', 'consider', 'considered',\n",
       "       'contact', 'containing', 'contains', 'continue', 'control',\n",
       "       'controller', 'copies', 'copy', 'correct', 'cost', 'costs',\n",
       "       'couldn', 'countries', 'country', 'couple', 'course', 'court',\n",
       "       'cover', 'create', 'created', 'crime', 'crowd', 'cs', 'cubs',\n",
       "       'current', 'currently', 'cut', 'dangerous', 'data', 'database',\n",
       "       'date', 'dave', 'david', 'day', 'days', 'dc', 'dead', 'deal',\n",
       "       'death', 'dec', 'decided', 'defense', 'deleted', 'department',\n",
       "       'design', 'designed', 'details', 'developed', 'development',\n",
       "       'device', 'devices', 'did', 'didn', 'die', 'died', 'difference',\n",
       "       'different', 'difficult', 'digital', 'directly', 'directory',\n",
       "       'discussion', 'disease', 'disk', 'display', 'division', 'does',\n",
       "       'doesn', 'dog', 'doing', 'dollars', 'don', 'door', 'dos', 'dot',\n",
       "       'doubt', 'dr', 'drive', 'driver', 'drivers', 'drives', 'driving',\n",
       "       'drug', 'earlier', 'early', 'earth', 'easily', 'easy', 'edu',\n",
       "       'effect', 'effective', 'effort', 'email', 'encrypted',\n",
       "       'encryption', 'end', 'energy', 'enforcement', 'engine', 'entire',\n",
       "       'equipment', 'eric', 'error', 'especially', 'events', 'evidence',\n",
       "       'exactly', 'example', 'excellent', 'exist', 'expect', 'experience',\n",
       "       'explain', 'extra', 'face', 'fact', 'fair', 'fairly', 'faith',\n",
       "       'family', 'faq', 'far', 'fast', 'faster', 'father', 'fax',\n",
       "       'feature', 'features', 'federal', 'feel', 'field', 'figure',\n",
       "       'file', 'files', 'final', 'finally', 'fine', 'firearm', 'fit',\n",
       "       'floppy', 'flyers', 'folks', 'follow', 'following', 'food',\n",
       "       'force', 'forget', 'form', 'format', 'formats', 'free', 'freedom',\n",
       "       'friend', 'ftp', 'function', 'future', 'game', 'games', 'gas',\n",
       "       'gave', 'gay', 'general', 'generally', 'gets', 'getting', 'given',\n",
       "       'gives', 'giving', 'gm', 'goal', 'god', 'goes', 'going', 'gone',\n",
       "       'good', 'got', 'gov', 'government', 'graphics', 'great', 'greek',\n",
       "       'ground', 'group', 'groups', 'guess', 'gun', 'guns', 'guy', 'half',\n",
       "       'hand', 'happen', 'happened', 'happens', 'happy', 'hard',\n",
       "       'hardware', 'haven', 'having', 'head', 'heads', 'health', 'hear',\n",
       "       'heard', 'heart', 'heaven', 'held', 'hell', 'help', 'hi', 'high',\n",
       "       'higher', 'history', 'hit', 'hiv', 'hockey', 'hold', 'home',\n",
       "       'hope', 'hospital', 'hot', 'hours', 'house', 'hp', 'human', 'ibm',\n",
       "       'id', 'idea', 'ii', 'image', 'images', 'imagine', 'important',\n",
       "       'include', 'included', 'includes', 'including', 'increase',\n",
       "       'individual', 'info', 'information', 'input', 'inside', 'instead',\n",
       "       'insurance', 'interested', 'interesting', 'interface', 'internal',\n",
       "       'international', 'internet', 'involved', 'isn', 'israel',\n",
       "       'israeli', 'issue', 'james', 'jesus', 'jewish', 'jews', 'job',\n",
       "       'jobs', 'john', 'just', 'kept', 'key', 'keys', 'kill', 'killed',\n",
       "       'killing', 'kind', 'knew', 'know', 'knowledge', 'known', 'knows',\n",
       "       'lack', 'land', 'language', 'large', 'late', 'later', 'latest',\n",
       "       'launch', 'law', 'laws', 'leafs', 'learn', 'leave', 'led', 'left',\n",
       "       'legal', 'let', 'letter', 'level', 'library', 'license', 'life',\n",
       "       'light', 'like', 'likely', 'limited', 'line', 'lines', 'list',\n",
       "       'listen', 'little', 'live', 'lives', 'living', 'll', 'local',\n",
       "       'long', 'longer', 'look', 'looking', 'looks', 'lord', 'lost',\n",
       "       'lot', 'lots', 'love', 'low', 'luck', 'lunar', 'mac', 'machine',\n",
       "       'machines', 'magi', 'mail', 'main', 'major', 'make', 'makes',\n",
       "       'making', 'mamma', 'man', 'manager', 'manual', 'mark', 'market',\n",
       "       'marriage', 'mars', 'mary', 'mass', 'master', 'math', 'matter',\n",
       "       'maybe', 'mb', 'mean', 'meaning', 'means', 'media', 'medical',\n",
       "       'member', 'members', 'memory', 'men', 'mention', 'mentioned',\n",
       "       'message', 'middle', 'mike', 'mil', 'miles', 'military', 'million',\n",
       "       'mind', 'mission', 'mit', 'mode', 'model', 'models', 'modern',\n",
       "       'money', 'monitor', 'months', 'moon', 'moral', 'mother', 'motif',\n",
       "       'mr', 'ms', 'nasa', 'national', 'nature', 'navy', 'near',\n",
       "       'necessary', 'need', 'needed', 'needs', 'net', 'network', 'new',\n",
       "       'news', 'newsgroup', 'nhl', 'nice', 'night', 'non', 'normal',\n",
       "       'north', 'note', 'nsa', 'number', 'numbers', 'objects', 'obvious',\n",
       "       'offer', 'office', 'oh', 'oil', 'ok', 'old', 'older', 'ones',\n",
       "       'open', 'opinion', 'opinions', 'orbit', 'order', 'org',\n",
       "       'organization', 'original', 'os', 'output', 'outside', 'package',\n",
       "       'page', 'paper', 'papers', 'parents', 'particular', 'parts',\n",
       "       'party', 'pass', 'past', 'paul', 'pay', 'pc', 'people',\n",
       "       'performance', 'period', 'person', 'personal', 'peter', 'phone',\n",
       "       'pick', 'piece', 'pin', 'pittsburgh', 'place', 'places', 'plan',\n",
       "       'play', 'played', 'player', 'players', 'playing', 'plus', 'point',\n",
       "       'points', 'police', 'policy', 'political', 'population', 'port',\n",
       "       'position', 'possible', 'post', 'posted', 'posting', 'power', 'pp',\n",
       "       'present', 'president', 'press', 'pretty', 'price', 'printer',\n",
       "       'private', 'pro', 'probably', 'probe', 'probes', 'problem',\n",
       "       'problems', 'process', 'product', 'program', 'programs', 'project',\n",
       "       'prove', 'provide', 'pub', 'public', 'purpose', 'putting',\n",
       "       'quality', 'question', 'questions', 'quite', 'radio', 'ram',\n",
       "       'range', 'rate', 'rates', 'ray', 'read', 'reading', 'real',\n",
       "       'really', 'reason', 'reasonable', 'received', 'recent', 'recently',\n",
       "       'recommend', 'record', 'red', 'reference', 'regular', 'related',\n",
       "       'release', 'religion', 'religious', 'remember', 'reply', 'report',\n",
       "       'request', 'require', 'required', 'research', 'response', 'rest',\n",
       "       'result', 'results', 'return', 'right', 'rights', 'road', 'robert',\n",
       "       'role', 'rom', 'room', 'rules', 'run', 'running', 'runs', 'safety',\n",
       "       'said', 'sale', 'san', 'save', 'saw', 'say', 'saying', 'says',\n",
       "       'school', 'sci', 'science', 'scientific', 'screen', 'scsi',\n",
       "       'search', 'season', 'second', 'section', 'secure', 'security',\n",
       "       'seen', 'self', 'sell', 'send', 'sense', 'sent', 'serial',\n",
       "       'series', 'seriously', 'server', 'service', 'set', 'sex', 'sgi',\n",
       "       'shall', 'short', 'shot', 'shots', 'shows', 'shuttle', 'signal',\n",
       "       'similar', 'simple', 'simply', 'sin', 'single', 'site',\n",
       "       'situation', 'size', 'slow', 'small', 'society', 'software',\n",
       "       'solar', 'sold', 'soldiers', 'soon', 'sorry', 'sort', 'sound',\n",
       "       'sounds', 'source', 'sources', 'soviet', 'space', 'spacecraft',\n",
       "       'special', 'specific', 'specifically', 'speed', 'st', 'standard',\n",
       "       'start', 'started', 'starting', 'state', 'statement', 'states',\n",
       "       'station', 'stay', 'stop', 'story', 'street', 'strong', 'study',\n",
       "       'stuff', 'stupid', 'subject', 'suggest', 'sun', 'support',\n",
       "       'supported', 'supports', 'suppose', 'supposed', 'sure', 'surface',\n",
       "       'switch', 'systems', 'taken', 'takes', 'taking', 'talk', 'talking',\n",
       "       'tape', 'team', 'teams', 'technical', 'technology', 'tell', 'term',\n",
       "       'test', 'text', 'thank', 'thanks', 'theory', 'thing', 'things',\n",
       "       'think', 'thinking', 'thought', 'time', 'times', 'tires', 'today',\n",
       "       'told', 'took', 'toronto', 'total', 'town', 'traffic', 'transfer',\n",
       "       'tried', 'trouble', 'true', 'trust', 'truth', 'try', 'trying',\n",
       "       'turkish', 'turn', 'turned', 'tv', 'type', 'types', 'uk',\n",
       "       'understand', 'unfortunately', 'united', 'university', 'unix',\n",
       "       'unless', 'use', 'used', 'useful', 'user', 'users', 'uses',\n",
       "       'using', 'usually', 'value', 'van', 'various', 've', 'version',\n",
       "       'vga', 'video', 'view', 'volume', 'vs', 'want', 'wanted', 'wants',\n",
       "       'war', 'washington', 'wasn', 'water', 'way', 'weapon', 'weapons',\n",
       "       'week', 'weeks', 'went', 'western', 'white', 'wife', 'willing',\n",
       "       'win', 'window', 'windows', 'wish', 'woman', 'women', 'won',\n",
       "       'wonder', 'wondering', 'word', 'words', 'work', 'worked',\n",
       "       'working', 'works', 'world', 'worse', 'worth', 'wouldn', 'write',\n",
       "       'written', 'wrong', 'xfree86', 'year', 'years', 'yes', 'young'],\n",
       "      dtype=object)"
      ]
     },
     "execution_count": 35,
     "metadata": {},
     "output_type": "execute_result"
    }
   ],
   "source": [
    "tfidf_vectorizer.get_feature_names_out()"
   ]
  },
  {
   "cell_type": "code",
   "execution_count": 34,
   "metadata": {},
   "outputs": [
    {
     "data": {
      "text/plain": [
       "array([[0.        , 0.        , 0.        , ..., 0.        , 0.        ,\n",
       "        0.        ],\n",
       "       [0.        , 0.        , 0.        , ..., 0.        , 0.        ,\n",
       "        0.        ],\n",
       "       [0.        , 0.        , 0.        , ..., 0.        , 0.        ,\n",
       "        0.        ],\n",
       "       ...,\n",
       "       [0.        , 0.        , 0.08365563, ..., 0.        , 0.        ,\n",
       "        0.        ],\n",
       "       [0.        , 0.        , 0.        , ..., 0.12574832, 0.04605022,\n",
       "        0.06032677],\n",
       "       [0.        , 0.        , 0.        , ..., 0.        , 0.        ,\n",
       "        0.        ]])"
      ]
     },
     "execution_count": 34,
     "metadata": {},
     "output_type": "execute_result"
    }
   ],
   "source": [
    "tfidf.toarray()"
   ]
  },
  {
   "cell_type": "code",
   "execution_count": 36,
   "metadata": {},
   "outputs": [
    {
     "name": "stdout",
     "output_type": "stream",
     "text": [
      "Extracting tf features for LDA...\n",
      "done in 0.187s.\n"
     ]
    },
    {
     "data": {
      "text/plain": [
       "array([[0, 0, 0, ..., 0, 0, 0],\n",
       "       [0, 0, 0, ..., 0, 0, 0],\n",
       "       [0, 0, 0, ..., 0, 0, 0],\n",
       "       ...,\n",
       "       [0, 0, 1, ..., 0, 0, 0],\n",
       "       [0, 0, 0, ..., 3, 1, 1],\n",
       "       [0, 0, 0, ..., 0, 0, 0]])"
      ]
     },
     "execution_count": 36,
     "metadata": {},
     "output_type": "execute_result"
    }
   ],
   "source": [
    "# we might need simple (unweighted) countVector as well\n",
    "#\n",
    "# Use tf (raw term count) features for LDA.\n",
    "print(\"Extracting tf features for LDA...\")\n",
    "tf_vectorizer = CountVectorizer(\n",
    "    max_df=0.95, min_df=2, max_features=n_features, stop_words=\"english\"\n",
    ")\n",
    "t0 = time()\n",
    "tf = tf_vectorizer.fit_transform(data_samples)\n",
    "print(\"done in %0.3fs.\" % (time() - t0))\n",
    "\n",
    "tf.toarray()"
   ]
  },
  {
   "cell_type": "code",
   "execution_count": 7,
   "metadata": {},
   "outputs": [],
   "source": [
    "\n",
    "from time import time\n",
    "import matplotlib.pyplot as plt\n",
    "\n",
    "from sklearn.feature_extraction.text import TfidfVectorizer, CountVectorizer\n",
    "from sklearn.decomposition import NMF, LatentDirichletAllocation\n",
    "from sklearn.datasets import fetch_20newsgroups\n",
    "\n",
    "n_components = 10\n",
    "n_top_words = 20\n",
    "\n",
    "\n",
    "def plot_top_words(model, feature_names, n_top_words, title):\n",
    "    fig, axes = plt.subplots(2, 5, figsize=(30, 15), sharex=True)\n",
    "    axes = axes.flatten()\n",
    "    for topic_idx, topic in enumerate(model.components_):\n",
    "        top_features_ind = topic.argsort()[: -n_top_words - 1 : -1]\n",
    "        top_features = [feature_names[i] for i in top_features_ind]\n",
    "        weights = topic[top_features_ind]\n",
    "\n",
    "        ax = axes[topic_idx]\n",
    "        ax.barh(top_features, weights, height=0.7)\n",
    "        ax.set_title(f\"Topic {topic_idx +1}\", fontdict={\"fontsize\": 30})\n",
    "        ax.invert_yaxis()\n",
    "        ax.tick_params(axis=\"both\", which=\"major\", labelsize=20)\n",
    "        for i in \"top right left\".split():\n",
    "            ax.spines[i].set_visible(False)\n",
    "        fig.suptitle(title, fontsize=40)\n",
    "\n",
    "    plt.subplots_adjust(top=0.90, bottom=0.05, wspace=0.90, hspace=0.3)\n",
    "    plt.show()\n",
    "\n",
    "\n",
    "\n",
    "\n",
    "\n",
    "\n",
    "# Fit the NMF model\n",
    "print(\n",
    "    \"Fitting the NMF model (Frobenius norm) with tf-idf features, \"\n",
    "    \"n_samples=%d and n_features=%d...\" % (n_samples, n_features)\n",
    ")\n",
    "t0 = time()\n",
    "nmf = NMF(n_components=n_components, random_state=1, alpha=0.1, l1_ratio=0.5).fit(tfidf)\n",
    "print(\"done in %0.3fs.\" % (time() - t0))\n",
    "\n",
    "\n",
    "tfidf_feature_names = tfidf_vectorizer.get_feature_names_out()\n",
    "plot_top_words(\n",
    "    nmf, tfidf_feature_names, n_top_words, \"Topics in NMF model (Frobenius norm)\"\n",
    ")\n",
    "\n",
    "# Fit the NMF model\n",
    "print(\n",
    "    \"\\n\" * 2,\n",
    "    \"Fitting the NMF model (generalized Kullback-Leibler \"\n",
    "    \"divergence) with tf-idf features, n_samples=%d and n_features=%d...\"\n",
    "    % (n_samples, n_features),\n",
    ")\n",
    "t0 = time()\n",
    "nmf = NMF(\n",
    "    n_components=n_components,\n",
    "    random_state=1,\n",
    "    beta_loss=\"kullback-leibler\",\n",
    "    solver=\"mu\",\n",
    "    max_iter=1000,\n",
    "    alpha=0.1,\n",
    "    l1_ratio=0.5,\n",
    ").fit(tfidf)\n",
    "print(\"done in %0.3fs.\" % (time() - t0))\n",
    "\n",
    "tfidf_feature_names = tfidf_vectorizer.get_feature_names_out()\n",
    "plot_top_words(\n",
    "    nmf,\n",
    "    tfidf_feature_names,\n",
    "    n_top_words,\n",
    "    \"Topics in NMF model (generalized Kullback-Leibler divergence)\",\n",
    ")\n",
    "\n",
    "print(\n",
    "    \"\\n\" * 2,\n",
    "    \"Fitting LDA models with tf features, n_samples=%d and n_features=%d...\"\n",
    "    % (n_samples, n_features),\n",
    ")\n",
    "lda = LatentDirichletAllocation(\n",
    "    n_components=n_components,\n",
    "    max_iter=5,\n",
    "    learning_method=\"online\",\n",
    "    learning_offset=50.0,\n",
    "    random_state=0,\n",
    ")\n",
    "t0 = time()\n",
    "lda.fit(tf)\n",
    "print(\"done in %0.3fs.\" % (time() - t0))\n",
    "\n",
    "tf_feature_names = tf_vectorizer.get_feature_names_out()\n",
    "plot_top_words(lda, tf_feature_names, n_top_words, \"Topics in LDA model\")"
   ]
  },
  {
   "cell_type": "code",
   "execution_count": null,
   "metadata": {},
   "outputs": [],
   "source": []
  }
 ],
 "metadata": {
  "kernelspec": {
   "display_name": "Python 3 (ipykernel)",
   "language": "python",
   "name": "python3"
  },
  "language_info": {
   "codemirror_mode": {
    "name": "ipython",
    "version": 3
   },
   "file_extension": ".py",
   "mimetype": "text/x-python",
   "name": "python",
   "nbconvert_exporter": "python",
   "pygments_lexer": "ipython3",
   "version": "3.10.1"
  }
 },
 "nbformat": 4,
 "nbformat_minor": 1
}
